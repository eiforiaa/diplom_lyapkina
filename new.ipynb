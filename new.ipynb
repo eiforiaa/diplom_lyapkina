{
 "cells": [
  {
   "cell_type": "code",
   "execution_count": 1,
   "id": "8717adfe",
   "metadata": {},
   "outputs": [],
   "source": [
    "import numpy as np\n",
    "import pandas as pd\n",
    "from sklearn.metrics import f1_score\n",
    "from sklearn.model_selection import train_test_split\n",
    "import matplotlib.pyplot as plt\n",
    "import seaborn as sns\n",
    "import re\n",
    "from sklearn.preprocessing import OneHotEncoder\n",
    "from sklearn.model_selection import train_test_split\n",
    "import os\n",
    "from sklearn.utils import shuffle\n",
    "from collections import OrderedDict\n",
    "from collections import Counter\n",
    "from scipy.special import expit\n",
    "from itertools import compress\n",
    "from torch.utils.data import DataLoader, Dataset\n",
    "import seaborn as sns\n",
    "import matplotlib.pyplot as plt"
   ]
  },
  {
   "cell_type": "markdown",
   "id": "46fc2f1c",
   "metadata": {},
   "source": [
    "Первичный анализ данных"
   ]
  },
  {
   "cell_type": "code",
   "execution_count": 2,
   "id": "d2b064e7",
   "metadata": {},
   "outputs": [],
   "source": [
    "hdfs_data= pd.read_csv('HDFS_100k.log_structured.csv')"
   ]
  },
  {
   "cell_type": "code",
   "execution_count": 3,
   "id": "7ef3d411",
   "metadata": {
    "scrolled": true
   },
   "outputs": [],
   "source": [
    "anomaly_labels = pd.read_csv('anomaly_label.csv')"
   ]
  },
  {
   "cell_type": "code",
   "execution_count": 4,
   "id": "0b56dadd",
   "metadata": {},
   "outputs": [
    {
     "name": "stdout",
     "output_type": "stream",
     "text": [
      "<class 'pandas.core.frame.DataFrame'>\n",
      "RangeIndex: 104815 entries, 0 to 104814\n",
      "Data columns (total 9 columns):\n",
      " #   Column         Non-Null Count   Dtype \n",
      "---  ------         --------------   ----- \n",
      " 0   LineId         104815 non-null  int64 \n",
      " 1   Date           104815 non-null  int64 \n",
      " 2   Time           104815 non-null  int64 \n",
      " 3   Pid            104815 non-null  int64 \n",
      " 4   Level          104815 non-null  object\n",
      " 5   Component      104815 non-null  object\n",
      " 6   Content        104815 non-null  object\n",
      " 7   EventId        104815 non-null  object\n",
      " 8   EventTemplate  104815 non-null  object\n",
      "dtypes: int64(4), object(5)\n",
      "memory usage: 7.2+ MB\n"
     ]
    }
   ],
   "source": [
    "hdfs_data.info()"
   ]
  },
  {
   "cell_type": "code",
   "execution_count": 5,
   "id": "f5abdaec",
   "metadata": {},
   "outputs": [
    {
     "data": {
      "text/html": [
       "<div>\n",
       "<style scoped>\n",
       "    .dataframe tbody tr th:only-of-type {\n",
       "        vertical-align: middle;\n",
       "    }\n",
       "\n",
       "    .dataframe tbody tr th {\n",
       "        vertical-align: top;\n",
       "    }\n",
       "\n",
       "    .dataframe thead th {\n",
       "        text-align: right;\n",
       "    }\n",
       "</style>\n",
       "<table border=\"1\" class=\"dataframe\">\n",
       "  <thead>\n",
       "    <tr style=\"text-align: right;\">\n",
       "      <th></th>\n",
       "      <th>LineId</th>\n",
       "      <th>Date</th>\n",
       "      <th>Time</th>\n",
       "      <th>Pid</th>\n",
       "      <th>Level</th>\n",
       "      <th>Component</th>\n",
       "      <th>Content</th>\n",
       "      <th>EventId</th>\n",
       "      <th>EventTemplate</th>\n",
       "    </tr>\n",
       "  </thead>\n",
       "  <tbody>\n",
       "    <tr>\n",
       "      <th>0</th>\n",
       "      <td>1</td>\n",
       "      <td>81109</td>\n",
       "      <td>203518</td>\n",
       "      <td>143</td>\n",
       "      <td>INFO</td>\n",
       "      <td>dfs.DataNode$DataXceiver</td>\n",
       "      <td>Receiving block blk_-1608999687919862906 src: ...</td>\n",
       "      <td>E5</td>\n",
       "      <td>Receiving block &lt;*&gt; src: /&lt;*&gt; dest: /&lt;*&gt;</td>\n",
       "    </tr>\n",
       "    <tr>\n",
       "      <th>1</th>\n",
       "      <td>2</td>\n",
       "      <td>81109</td>\n",
       "      <td>203518</td>\n",
       "      <td>35</td>\n",
       "      <td>INFO</td>\n",
       "      <td>dfs.FSNamesystem</td>\n",
       "      <td>BLOCK* NameSystem.allocateBlock: /mnt/hadoop/m...</td>\n",
       "      <td>E22</td>\n",
       "      <td>BLOCK* NameSystem.allocateBlock:&lt;*&gt;</td>\n",
       "    </tr>\n",
       "    <tr>\n",
       "      <th>2</th>\n",
       "      <td>3</td>\n",
       "      <td>81109</td>\n",
       "      <td>203519</td>\n",
       "      <td>143</td>\n",
       "      <td>INFO</td>\n",
       "      <td>dfs.DataNode$DataXceiver</td>\n",
       "      <td>Receiving block blk_-1608999687919862906 src: ...</td>\n",
       "      <td>E5</td>\n",
       "      <td>Receiving block &lt;*&gt; src: /&lt;*&gt; dest: /&lt;*&gt;</td>\n",
       "    </tr>\n",
       "    <tr>\n",
       "      <th>3</th>\n",
       "      <td>4</td>\n",
       "      <td>81109</td>\n",
       "      <td>203519</td>\n",
       "      <td>145</td>\n",
       "      <td>INFO</td>\n",
       "      <td>dfs.DataNode$DataXceiver</td>\n",
       "      <td>Receiving block blk_-1608999687919862906 src: ...</td>\n",
       "      <td>E5</td>\n",
       "      <td>Receiving block &lt;*&gt; src: /&lt;*&gt; dest: /&lt;*&gt;</td>\n",
       "    </tr>\n",
       "    <tr>\n",
       "      <th>4</th>\n",
       "      <td>5</td>\n",
       "      <td>81109</td>\n",
       "      <td>203519</td>\n",
       "      <td>145</td>\n",
       "      <td>INFO</td>\n",
       "      <td>dfs.DataNode$PacketResponder</td>\n",
       "      <td>PacketResponder 1 for block blk_-1608999687919...</td>\n",
       "      <td>E11</td>\n",
       "      <td>PacketResponder &lt;*&gt; for block &lt;*&gt; terminating</td>\n",
       "    </tr>\n",
       "  </tbody>\n",
       "</table>\n",
       "</div>"
      ],
      "text/plain": [
       "   LineId   Date    Time  Pid Level                     Component  \\\n",
       "0       1  81109  203518  143  INFO      dfs.DataNode$DataXceiver   \n",
       "1       2  81109  203518   35  INFO              dfs.FSNamesystem   \n",
       "2       3  81109  203519  143  INFO      dfs.DataNode$DataXceiver   \n",
       "3       4  81109  203519  145  INFO      dfs.DataNode$DataXceiver   \n",
       "4       5  81109  203519  145  INFO  dfs.DataNode$PacketResponder   \n",
       "\n",
       "                                             Content EventId  \\\n",
       "0  Receiving block blk_-1608999687919862906 src: ...      E5   \n",
       "1  BLOCK* NameSystem.allocateBlock: /mnt/hadoop/m...     E22   \n",
       "2  Receiving block blk_-1608999687919862906 src: ...      E5   \n",
       "3  Receiving block blk_-1608999687919862906 src: ...      E5   \n",
       "4  PacketResponder 1 for block blk_-1608999687919...     E11   \n",
       "\n",
       "                                   EventTemplate  \n",
       "0       Receiving block <*> src: /<*> dest: /<*>  \n",
       "1            BLOCK* NameSystem.allocateBlock:<*>  \n",
       "2       Receiving block <*> src: /<*> dest: /<*>  \n",
       "3       Receiving block <*> src: /<*> dest: /<*>  \n",
       "4  PacketResponder <*> for block <*> terminating  "
      ]
     },
     "execution_count": 5,
     "metadata": {},
     "output_type": "execute_result"
    }
   ],
   "source": [
    "hdfs_data.head()"
   ]
  },
  {
   "cell_type": "code",
   "execution_count": 6,
   "id": "ac70edc4",
   "metadata": {},
   "outputs": [],
   "source": [
    "hdfs_data['BlockId']=hdfs_data['Content'].str.findall(r'(blk_-?\\d+)').apply(lambda x:x[0])"
   ]
  },
  {
   "cell_type": "code",
   "execution_count": 7,
   "id": "7c7db3b5",
   "metadata": {},
   "outputs": [
    {
     "data": {
      "text/html": [
       "<div>\n",
       "<style scoped>\n",
       "    .dataframe tbody tr th:only-of-type {\n",
       "        vertical-align: middle;\n",
       "    }\n",
       "\n",
       "    .dataframe tbody tr th {\n",
       "        vertical-align: top;\n",
       "    }\n",
       "\n",
       "    .dataframe thead th {\n",
       "        text-align: right;\n",
       "    }\n",
       "</style>\n",
       "<table border=\"1\" class=\"dataframe\">\n",
       "  <thead>\n",
       "    <tr style=\"text-align: right;\">\n",
       "      <th></th>\n",
       "      <th>LineId</th>\n",
       "      <th>Date</th>\n",
       "      <th>Time</th>\n",
       "      <th>Pid</th>\n",
       "      <th>Level</th>\n",
       "      <th>Component</th>\n",
       "      <th>Content</th>\n",
       "      <th>EventId</th>\n",
       "      <th>EventTemplate</th>\n",
       "      <th>BlockId</th>\n",
       "    </tr>\n",
       "  </thead>\n",
       "  <tbody>\n",
       "    <tr>\n",
       "      <th>0</th>\n",
       "      <td>1</td>\n",
       "      <td>81109</td>\n",
       "      <td>203518</td>\n",
       "      <td>143</td>\n",
       "      <td>INFO</td>\n",
       "      <td>dfs.DataNode$DataXceiver</td>\n",
       "      <td>Receiving block blk_-1608999687919862906 src: ...</td>\n",
       "      <td>E5</td>\n",
       "      <td>Receiving block &lt;*&gt; src: /&lt;*&gt; dest: /&lt;*&gt;</td>\n",
       "      <td>blk_-1608999687919862906</td>\n",
       "    </tr>\n",
       "    <tr>\n",
       "      <th>1</th>\n",
       "      <td>2</td>\n",
       "      <td>81109</td>\n",
       "      <td>203518</td>\n",
       "      <td>35</td>\n",
       "      <td>INFO</td>\n",
       "      <td>dfs.FSNamesystem</td>\n",
       "      <td>BLOCK* NameSystem.allocateBlock: /mnt/hadoop/m...</td>\n",
       "      <td>E22</td>\n",
       "      <td>BLOCK* NameSystem.allocateBlock:&lt;*&gt;</td>\n",
       "      <td>blk_-1608999687919862906</td>\n",
       "    </tr>\n",
       "    <tr>\n",
       "      <th>2</th>\n",
       "      <td>3</td>\n",
       "      <td>81109</td>\n",
       "      <td>203519</td>\n",
       "      <td>143</td>\n",
       "      <td>INFO</td>\n",
       "      <td>dfs.DataNode$DataXceiver</td>\n",
       "      <td>Receiving block blk_-1608999687919862906 src: ...</td>\n",
       "      <td>E5</td>\n",
       "      <td>Receiving block &lt;*&gt; src: /&lt;*&gt; dest: /&lt;*&gt;</td>\n",
       "      <td>blk_-1608999687919862906</td>\n",
       "    </tr>\n",
       "    <tr>\n",
       "      <th>3</th>\n",
       "      <td>4</td>\n",
       "      <td>81109</td>\n",
       "      <td>203519</td>\n",
       "      <td>145</td>\n",
       "      <td>INFO</td>\n",
       "      <td>dfs.DataNode$DataXceiver</td>\n",
       "      <td>Receiving block blk_-1608999687919862906 src: ...</td>\n",
       "      <td>E5</td>\n",
       "      <td>Receiving block &lt;*&gt; src: /&lt;*&gt; dest: /&lt;*&gt;</td>\n",
       "      <td>blk_-1608999687919862906</td>\n",
       "    </tr>\n",
       "    <tr>\n",
       "      <th>4</th>\n",
       "      <td>5</td>\n",
       "      <td>81109</td>\n",
       "      <td>203519</td>\n",
       "      <td>145</td>\n",
       "      <td>INFO</td>\n",
       "      <td>dfs.DataNode$PacketResponder</td>\n",
       "      <td>PacketResponder 1 for block blk_-1608999687919...</td>\n",
       "      <td>E11</td>\n",
       "      <td>PacketResponder &lt;*&gt; for block &lt;*&gt; terminating</td>\n",
       "      <td>blk_-1608999687919862906</td>\n",
       "    </tr>\n",
       "    <tr>\n",
       "      <th>...</th>\n",
       "      <td>...</td>\n",
       "      <td>...</td>\n",
       "      <td>...</td>\n",
       "      <td>...</td>\n",
       "      <td>...</td>\n",
       "      <td>...</td>\n",
       "      <td>...</td>\n",
       "      <td>...</td>\n",
       "      <td>...</td>\n",
       "      <td>...</td>\n",
       "    </tr>\n",
       "    <tr>\n",
       "      <th>104810</th>\n",
       "      <td>104811</td>\n",
       "      <td>81109</td>\n",
       "      <td>210122</td>\n",
       "      <td>13</td>\n",
       "      <td>INFO</td>\n",
       "      <td>dfs.DataBlockScanner</td>\n",
       "      <td>Verification succeeded for blk_-87387097785867...</td>\n",
       "      <td>E2</td>\n",
       "      <td>Verification succeeded for &lt;*&gt;</td>\n",
       "      <td>blk_-8738709778586756237</td>\n",
       "    </tr>\n",
       "    <tr>\n",
       "      <th>104811</th>\n",
       "      <td>104812</td>\n",
       "      <td>81109</td>\n",
       "      <td>210124</td>\n",
       "      <td>13</td>\n",
       "      <td>INFO</td>\n",
       "      <td>dfs.DataBlockScanner</td>\n",
       "      <td>Verification succeeded for blk_642047611142564...</td>\n",
       "      <td>E2</td>\n",
       "      <td>Verification succeeded for &lt;*&gt;</td>\n",
       "      <td>blk_6420476111425645508</td>\n",
       "    </tr>\n",
       "    <tr>\n",
       "      <th>104812</th>\n",
       "      <td>104813</td>\n",
       "      <td>81109</td>\n",
       "      <td>210126</td>\n",
       "      <td>13</td>\n",
       "      <td>INFO</td>\n",
       "      <td>dfs.DataBlockScanner</td>\n",
       "      <td>Verification succeeded for blk_-23823897510323...</td>\n",
       "      <td>E2</td>\n",
       "      <td>Verification succeeded for &lt;*&gt;</td>\n",
       "      <td>blk_-2382389751032389929</td>\n",
       "    </tr>\n",
       "    <tr>\n",
       "      <th>104813</th>\n",
       "      <td>104814</td>\n",
       "      <td>81109</td>\n",
       "      <td>210126</td>\n",
       "      <td>13</td>\n",
       "      <td>INFO</td>\n",
       "      <td>dfs.DataBlockScanner</td>\n",
       "      <td>Verification succeeded for blk_485603173001003...</td>\n",
       "      <td>E2</td>\n",
       "      <td>Verification succeeded for &lt;*&gt;</td>\n",
       "      <td>blk_4856031730010032819</td>\n",
       "    </tr>\n",
       "    <tr>\n",
       "      <th>104814</th>\n",
       "      <td>104815</td>\n",
       "      <td>81109</td>\n",
       "      <td>210126</td>\n",
       "      <td>13</td>\n",
       "      <td>INFO</td>\n",
       "      <td>dfs.DataBlockScanner</td>\n",
       "      <td>Verification succeeded for blk_-49047501208105...</td>\n",
       "      <td>E2</td>\n",
       "      <td>Verification succeeded for &lt;*&gt;</td>\n",
       "      <td>blk_-4904750120810562215</td>\n",
       "    </tr>\n",
       "  </tbody>\n",
       "</table>\n",
       "<p>104815 rows × 10 columns</p>\n",
       "</div>"
      ],
      "text/plain": [
       "        LineId   Date    Time  Pid Level                     Component  \\\n",
       "0            1  81109  203518  143  INFO      dfs.DataNode$DataXceiver   \n",
       "1            2  81109  203518   35  INFO              dfs.FSNamesystem   \n",
       "2            3  81109  203519  143  INFO      dfs.DataNode$DataXceiver   \n",
       "3            4  81109  203519  145  INFO      dfs.DataNode$DataXceiver   \n",
       "4            5  81109  203519  145  INFO  dfs.DataNode$PacketResponder   \n",
       "...        ...    ...     ...  ...   ...                           ...   \n",
       "104810  104811  81109  210122   13  INFO          dfs.DataBlockScanner   \n",
       "104811  104812  81109  210124   13  INFO          dfs.DataBlockScanner   \n",
       "104812  104813  81109  210126   13  INFO          dfs.DataBlockScanner   \n",
       "104813  104814  81109  210126   13  INFO          dfs.DataBlockScanner   \n",
       "104814  104815  81109  210126   13  INFO          dfs.DataBlockScanner   \n",
       "\n",
       "                                                  Content EventId  \\\n",
       "0       Receiving block blk_-1608999687919862906 src: ...      E5   \n",
       "1       BLOCK* NameSystem.allocateBlock: /mnt/hadoop/m...     E22   \n",
       "2       Receiving block blk_-1608999687919862906 src: ...      E5   \n",
       "3       Receiving block blk_-1608999687919862906 src: ...      E5   \n",
       "4       PacketResponder 1 for block blk_-1608999687919...     E11   \n",
       "...                                                   ...     ...   \n",
       "104810  Verification succeeded for blk_-87387097785867...      E2   \n",
       "104811  Verification succeeded for blk_642047611142564...      E2   \n",
       "104812  Verification succeeded for blk_-23823897510323...      E2   \n",
       "104813  Verification succeeded for blk_485603173001003...      E2   \n",
       "104814  Verification succeeded for blk_-49047501208105...      E2   \n",
       "\n",
       "                                        EventTemplate  \\\n",
       "0            Receiving block <*> src: /<*> dest: /<*>   \n",
       "1                 BLOCK* NameSystem.allocateBlock:<*>   \n",
       "2            Receiving block <*> src: /<*> dest: /<*>   \n",
       "3            Receiving block <*> src: /<*> dest: /<*>   \n",
       "4       PacketResponder <*> for block <*> terminating   \n",
       "...                                               ...   \n",
       "104810                 Verification succeeded for <*>   \n",
       "104811                 Verification succeeded for <*>   \n",
       "104812                 Verification succeeded for <*>   \n",
       "104813                 Verification succeeded for <*>   \n",
       "104814                 Verification succeeded for <*>   \n",
       "\n",
       "                         BlockId  \n",
       "0       blk_-1608999687919862906  \n",
       "1       blk_-1608999687919862906  \n",
       "2       blk_-1608999687919862906  \n",
       "3       blk_-1608999687919862906  \n",
       "4       blk_-1608999687919862906  \n",
       "...                          ...  \n",
       "104810  blk_-8738709778586756237  \n",
       "104811   blk_6420476111425645508  \n",
       "104812  blk_-2382389751032389929  \n",
       "104813   blk_4856031730010032819  \n",
       "104814  blk_-4904750120810562215  \n",
       "\n",
       "[104815 rows x 10 columns]"
      ]
     },
     "execution_count": 7,
     "metadata": {},
     "output_type": "execute_result"
    }
   ],
   "source": [
    "hdfs_data"
   ]
  },
  {
   "cell_type": "code",
   "execution_count": 8,
   "id": "d4ad5156",
   "metadata": {},
   "outputs": [
    {
     "data": {
      "text/plain": [
       "81109    104815\n",
       "Name: Date, dtype: int64"
      ]
     },
     "execution_count": 8,
     "metadata": {},
     "output_type": "execute_result"
    }
   ],
   "source": [
    "hdfs_data['Date'].value_counts()"
   ]
  },
  {
   "cell_type": "code",
   "execution_count": 9,
   "id": "442e59bc",
   "metadata": {},
   "outputs": [],
   "source": [
    "hdfs_data=hdfs_data.drop(columns='Date')"
   ]
  },
  {
   "cell_type": "code",
   "execution_count": 10,
   "id": "4b424631",
   "metadata": {},
   "outputs": [
    {
     "data": {
      "text/html": [
       "<div>\n",
       "<style scoped>\n",
       "    .dataframe tbody tr th:only-of-type {\n",
       "        vertical-align: middle;\n",
       "    }\n",
       "\n",
       "    .dataframe tbody tr th {\n",
       "        vertical-align: top;\n",
       "    }\n",
       "\n",
       "    .dataframe thead th {\n",
       "        text-align: right;\n",
       "    }\n",
       "</style>\n",
       "<table border=\"1\" class=\"dataframe\">\n",
       "  <thead>\n",
       "    <tr style=\"text-align: right;\">\n",
       "      <th></th>\n",
       "      <th>BlockId</th>\n",
       "      <th>Label</th>\n",
       "    </tr>\n",
       "  </thead>\n",
       "  <tbody>\n",
       "    <tr>\n",
       "      <th>0</th>\n",
       "      <td>blk_-1608999687919862906</td>\n",
       "      <td>Normal</td>\n",
       "    </tr>\n",
       "    <tr>\n",
       "      <th>1</th>\n",
       "      <td>blk_7503483334202473044</td>\n",
       "      <td>Normal</td>\n",
       "    </tr>\n",
       "    <tr>\n",
       "      <th>2</th>\n",
       "      <td>blk_-3544583377289625738</td>\n",
       "      <td>Anomaly</td>\n",
       "    </tr>\n",
       "    <tr>\n",
       "      <th>3</th>\n",
       "      <td>blk_-9073992586687739851</td>\n",
       "      <td>Normal</td>\n",
       "    </tr>\n",
       "    <tr>\n",
       "      <th>4</th>\n",
       "      <td>blk_7854771516489510256</td>\n",
       "      <td>Normal</td>\n",
       "    </tr>\n",
       "  </tbody>\n",
       "</table>\n",
       "</div>"
      ],
      "text/plain": [
       "                    BlockId    Label\n",
       "0  blk_-1608999687919862906   Normal\n",
       "1   blk_7503483334202473044   Normal\n",
       "2  blk_-3544583377289625738  Anomaly\n",
       "3  blk_-9073992586687739851   Normal\n",
       "4   blk_7854771516489510256   Normal"
      ]
     },
     "execution_count": 10,
     "metadata": {},
     "output_type": "execute_result"
    }
   ],
   "source": [
    "anomaly_labels.head()"
   ]
  },
  {
   "cell_type": "code",
   "execution_count": 11,
   "id": "9786303f",
   "metadata": {},
   "outputs": [
    {
     "data": {
      "text/plain": [
       "0         blk_-1608999687919862906\n",
       "1          blk_7503483334202473044\n",
       "2         blk_-3544583377289625738\n",
       "3         blk_-9073992586687739851\n",
       "4          blk_7854771516489510256\n",
       "                    ...           \n",
       "575056     blk_1019720114020043203\n",
       "575057    blk_-2683116845478050414\n",
       "575058     blk_5595059397348477632\n",
       "575059     blk_1513937873877967730\n",
       "575060    blk_-9128742458709757181\n",
       "Name: BlockId, Length: 575061, dtype: object"
      ]
     },
     "execution_count": 11,
     "metadata": {},
     "output_type": "execute_result"
    }
   ],
   "source": [
    "anomaly_labels['BlockId']"
   ]
  },
  {
   "cell_type": "code",
   "execution_count": 12,
   "id": "c56b7b2b",
   "metadata": {},
   "outputs": [
    {
     "data": {
      "text/plain": [
       "(104815, 9)"
      ]
     },
     "execution_count": 12,
     "metadata": {},
     "output_type": "execute_result"
    }
   ],
   "source": [
    "hdfs_data.shape"
   ]
  },
  {
   "cell_type": "code",
   "execution_count": 13,
   "id": "b3911b28",
   "metadata": {},
   "outputs": [],
   "source": [
    "df_hdfs=hdfs_data.merge(anomaly_labels, left_on='BlockId',right_on='BlockId')"
   ]
  },
  {
   "cell_type": "code",
   "execution_count": 14,
   "id": "a7f1f0b6",
   "metadata": {},
   "outputs": [
    {
     "data": {
      "text/html": [
       "<div>\n",
       "<style scoped>\n",
       "    .dataframe tbody tr th:only-of-type {\n",
       "        vertical-align: middle;\n",
       "    }\n",
       "\n",
       "    .dataframe tbody tr th {\n",
       "        vertical-align: top;\n",
       "    }\n",
       "\n",
       "    .dataframe thead th {\n",
       "        text-align: right;\n",
       "    }\n",
       "</style>\n",
       "<table border=\"1\" class=\"dataframe\">\n",
       "  <thead>\n",
       "    <tr style=\"text-align: right;\">\n",
       "      <th></th>\n",
       "      <th>LineId</th>\n",
       "      <th>Time</th>\n",
       "      <th>Pid</th>\n",
       "      <th>Level</th>\n",
       "      <th>Component</th>\n",
       "      <th>Content</th>\n",
       "      <th>EventId</th>\n",
       "      <th>EventTemplate</th>\n",
       "      <th>BlockId</th>\n",
       "      <th>Label</th>\n",
       "    </tr>\n",
       "  </thead>\n",
       "  <tbody>\n",
       "    <tr>\n",
       "      <th>0</th>\n",
       "      <td>1</td>\n",
       "      <td>203518</td>\n",
       "      <td>143</td>\n",
       "      <td>INFO</td>\n",
       "      <td>dfs.DataNode$DataXceiver</td>\n",
       "      <td>Receiving block blk_-1608999687919862906 src: ...</td>\n",
       "      <td>E5</td>\n",
       "      <td>Receiving block &lt;*&gt; src: /&lt;*&gt; dest: /&lt;*&gt;</td>\n",
       "      <td>blk_-1608999687919862906</td>\n",
       "      <td>Normal</td>\n",
       "    </tr>\n",
       "    <tr>\n",
       "      <th>1</th>\n",
       "      <td>2</td>\n",
       "      <td>203518</td>\n",
       "      <td>35</td>\n",
       "      <td>INFO</td>\n",
       "      <td>dfs.FSNamesystem</td>\n",
       "      <td>BLOCK* NameSystem.allocateBlock: /mnt/hadoop/m...</td>\n",
       "      <td>E22</td>\n",
       "      <td>BLOCK* NameSystem.allocateBlock:&lt;*&gt;</td>\n",
       "      <td>blk_-1608999687919862906</td>\n",
       "      <td>Normal</td>\n",
       "    </tr>\n",
       "    <tr>\n",
       "      <th>2</th>\n",
       "      <td>3</td>\n",
       "      <td>203519</td>\n",
       "      <td>143</td>\n",
       "      <td>INFO</td>\n",
       "      <td>dfs.DataNode$DataXceiver</td>\n",
       "      <td>Receiving block blk_-1608999687919862906 src: ...</td>\n",
       "      <td>E5</td>\n",
       "      <td>Receiving block &lt;*&gt; src: /&lt;*&gt; dest: /&lt;*&gt;</td>\n",
       "      <td>blk_-1608999687919862906</td>\n",
       "      <td>Normal</td>\n",
       "    </tr>\n",
       "    <tr>\n",
       "      <th>3</th>\n",
       "      <td>4</td>\n",
       "      <td>203519</td>\n",
       "      <td>145</td>\n",
       "      <td>INFO</td>\n",
       "      <td>dfs.DataNode$DataXceiver</td>\n",
       "      <td>Receiving block blk_-1608999687919862906 src: ...</td>\n",
       "      <td>E5</td>\n",
       "      <td>Receiving block &lt;*&gt; src: /&lt;*&gt; dest: /&lt;*&gt;</td>\n",
       "      <td>blk_-1608999687919862906</td>\n",
       "      <td>Normal</td>\n",
       "    </tr>\n",
       "    <tr>\n",
       "      <th>4</th>\n",
       "      <td>5</td>\n",
       "      <td>203519</td>\n",
       "      <td>145</td>\n",
       "      <td>INFO</td>\n",
       "      <td>dfs.DataNode$PacketResponder</td>\n",
       "      <td>PacketResponder 1 for block blk_-1608999687919...</td>\n",
       "      <td>E11</td>\n",
       "      <td>PacketResponder &lt;*&gt; for block &lt;*&gt; terminating</td>\n",
       "      <td>blk_-1608999687919862906</td>\n",
       "      <td>Normal</td>\n",
       "    </tr>\n",
       "  </tbody>\n",
       "</table>\n",
       "</div>"
      ],
      "text/plain": [
       "   LineId    Time  Pid Level                     Component  \\\n",
       "0       1  203518  143  INFO      dfs.DataNode$DataXceiver   \n",
       "1       2  203518   35  INFO              dfs.FSNamesystem   \n",
       "2       3  203519  143  INFO      dfs.DataNode$DataXceiver   \n",
       "3       4  203519  145  INFO      dfs.DataNode$DataXceiver   \n",
       "4       5  203519  145  INFO  dfs.DataNode$PacketResponder   \n",
       "\n",
       "                                             Content EventId  \\\n",
       "0  Receiving block blk_-1608999687919862906 src: ...      E5   \n",
       "1  BLOCK* NameSystem.allocateBlock: /mnt/hadoop/m...     E22   \n",
       "2  Receiving block blk_-1608999687919862906 src: ...      E5   \n",
       "3  Receiving block blk_-1608999687919862906 src: ...      E5   \n",
       "4  PacketResponder 1 for block blk_-1608999687919...     E11   \n",
       "\n",
       "                                   EventTemplate                   BlockId  \\\n",
       "0       Receiving block <*> src: /<*> dest: /<*>  blk_-1608999687919862906   \n",
       "1            BLOCK* NameSystem.allocateBlock:<*>  blk_-1608999687919862906   \n",
       "2       Receiving block <*> src: /<*> dest: /<*>  blk_-1608999687919862906   \n",
       "3       Receiving block <*> src: /<*> dest: /<*>  blk_-1608999687919862906   \n",
       "4  PacketResponder <*> for block <*> terminating  blk_-1608999687919862906   \n",
       "\n",
       "    Label  \n",
       "0  Normal  \n",
       "1  Normal  \n",
       "2  Normal  \n",
       "3  Normal  \n",
       "4  Normal  "
      ]
     },
     "execution_count": 14,
     "metadata": {},
     "output_type": "execute_result"
    }
   ],
   "source": [
    "df_hdfs.head()"
   ]
  },
  {
   "cell_type": "code",
   "execution_count": 15,
   "id": "f34f0d91",
   "metadata": {},
   "outputs": [
    {
     "data": {
      "text/plain": [
       "E5     23671\n",
       "E26    23478\n",
       "E11    23451\n",
       "E9     23447\n",
       "E22     7940\n",
       "E2      2183\n",
       "E3       407\n",
       "E7        68\n",
       "E6        31\n",
       "E18       27\n",
       "E25       27\n",
       "E16       27\n",
       "E13       24\n",
       "E21       23\n",
       "E14        4\n",
       "E10        3\n",
       "E15        2\n",
       "E27        1\n",
       "E8         1\n",
       "Name: EventId, dtype: int64"
      ]
     },
     "execution_count": 15,
     "metadata": {},
     "output_type": "execute_result"
    }
   ],
   "source": [
    "df_hdfs['EventId'].value_counts()"
   ]
  },
  {
   "cell_type": "code",
   "execution_count": 16,
   "id": "7dbebb96",
   "metadata": {},
   "outputs": [
    {
     "data": {
      "text/plain": [
       "Normal     101544\n",
       "Anomaly      3271\n",
       "Name: Label, dtype: int64"
      ]
     },
     "execution_count": 16,
     "metadata": {},
     "output_type": "execute_result"
    }
   ],
   "source": [
    "df_hdfs['Label'].value_counts()"
   ]
  },
  {
   "cell_type": "markdown",
   "id": "18a6b80a",
   "metadata": {},
   "source": [
    "--------------Начало Работы-------------"
   ]
  },
  {
   "cell_type": "code",
   "execution_count": 74,
   "id": "662ca9ef",
   "metadata": {},
   "outputs": [],
   "source": [
    "\n",
    "class Iterator(Dataset):\n",
    "    def __init__(self, data_dict, batch_size=32, shuffle=False, num_workers=1):\n",
    "        self.data_dict = data_dict\n",
    "        self.keys = list(data_dict.keys())\n",
    "        self.iter = DataLoader(dataset=self, batch_size=batch_size, shuffle=shuffle, num_workers=num_workers)\n",
    "\n",
    "    def __getitem__(self, index):\n",
    "        return {k: self.data_dict[k][index] for k in self.keys}\n",
    "\n",
    "    def __len__(self):\n",
    "        return self.data_dict[\"SessionId\"].shape[0]\n",
    "\n",
    "class Vectorizer(object):\n",
    "\n",
    "    def fit_transform(self, x_train, window_y_train, y_train):\n",
    "        self.label_mapping = {eid: idx for idx, eid in enumerate(window_y_train.unique(), 2)}\n",
    "        self.label_mapping[\"#OOV\"] = 0\n",
    "        self.label_mapping[\"#Pad\"] = 1\n",
    "        self.num_labels = len(self.label_mapping)\n",
    "        return self.transform(x_train, window_y_train, y_train)\n",
    "\n",
    "    def transform(self, x, window_y, y):\n",
    "        x[\"EventSequence\"] = x[\"EventSequence\"].map(lambda x: [self.label_mapping.get(item, 0) for item in x])\n",
    "        window_y = window_y.map(lambda x: self.label_mapping.get(x, 0))\n",
    "        y = y\n",
    "        data_dict = {\"SessionId\": x[\"SessionId\"].values, \"window_y\": window_y.values, \"y\": y.values, \"x\": np.array(x[\"EventSequence\"].tolist())}\n",
    "        return data_dict\n",
    "        \n",
    "\n",
    "class FeatureExtractor(object):\n",
    "\n",
    "    def __init__(self):\n",
    "        self.idf_vec = None\n",
    "        self.mean_vec = None\n",
    "        self.events = None\n",
    "        self.term_weighting = None\n",
    "        self.normalization = None\n",
    "        self.oov = None\n",
    "\n",
    "    def fit_transform(self, X_seq, term_weighting=None, normalization=None, oov=False, min_count=1):\n",
    "        \"\"\" \n",
    "            Подгонка и преобразование матрицы данных\n",
    "        Аргументы\n",
    "        ---------\n",
    "            X_seq: ndarray, матрица лог-последовательностей\n",
    "            взвешивание_термина: Нет или `tf-idf`\n",
    "            нормализация: Нет или `zero-mean`\n",
    "            oov: bool, использовать ли OOV события\n",
    "            min_count: int, минимальное количество событий (по умолчанию 0), действительно только при oov=True.\n",
    "        Возвращает\n",
    "        -------\n",
    "            X_new: преобразованная матрица данных\n",
    "        \"\"\"\n",
    "        print('====== Transformed train data summary ======')\n",
    "        self.term_weighting = term_weighting\n",
    "        self.normalization = normalization\n",
    "        self.oov = oov\n",
    "\n",
    "        X_counts = []\n",
    "        for i in range(X_seq.shape[0]):\n",
    "            event_counts = Counter(X_seq[i])\n",
    "            X_counts.append(event_counts)\n",
    "        X_df = pd.DataFrame(X_counts)\n",
    "        X_df = X_df.fillna(0)\n",
    "        self.events = X_df.columns\n",
    "        X = X_df.values\n",
    "        if self.oov:\n",
    "            oov_vec = np.zeros(X.shape[0])\n",
    "            if min_count > 1:\n",
    "                idx = np.sum(X > 0, axis=0) >= min_count\n",
    "                oov_vec = np.sum(X[:, ~idx] > 0, axis=1)\n",
    "                X = X[:, idx]\n",
    "                self.events = np.array(X_df.columns)[idx].tolist()\n",
    "            X = np.hstack([X, oov_vec.reshape(X.shape[0], 1)])\n",
    "        \n",
    "        num_instance, num_event = X.shape\n",
    "        if self.term_weighting == 'tf-idf':\n",
    "            df_vec = np.sum(X > 0, axis=0)\n",
    "            self.idf_vec = np.log(num_instance / (df_vec + 1e-8))\n",
    "            idf_matrix = X * np.tile(self.idf_vec, (num_instance, 1)) \n",
    "            X = idf_matrix\n",
    "        if self.normalization == 'zero-mean':\n",
    "            mean_vec = X.mean(axis=0)\n",
    "            self.mean_vec = mean_vec.reshape(1, num_event)\n",
    "            X = X - np.tile(self.mean_vec, (num_instance, 1))\n",
    "        elif self.normalization == 'sigmoid':\n",
    "            X[X != 0] = expit(X[X != 0])\n",
    "        X_new = X\n",
    "        \n",
    "        print('Train data shape: {}-by-{}\\n'.format(X_new.shape[0], X_new.shape[1])) \n",
    "        return X_new\n",
    "\n",
    "    def transform(self, X_seq):\n",
    "        \"\"\" \n",
    "            Преобразование матрицы данных с обученными параметрами\n",
    "        Аргументы\n",
    "        ---------\n",
    "            X: матрица лог-последовательностей\n",
    "            взвешивание_термина: Нет или `tf-idf`.\n",
    "        Возвращает\n",
    "        -------\n",
    "            X_new: матрица преобразованных данных\n",
    "        \"\"\"\n",
    "        print('====== Transformed test data summary ======')\n",
    "        X_counts = []\n",
    "        for i in range(X_seq.shape[0]):\n",
    "            event_counts = Counter(X_seq[i])\n",
    "            X_counts.append(event_counts)\n",
    "        X_df = pd.DataFrame(X_counts)\n",
    "        X_df = X_df.fillna(0)\n",
    "        empty_events = set(self.events) - set(X_df.columns)\n",
    "        for event in empty_events:\n",
    "            X_df[event] = [0] * len(X_df)\n",
    "        X = X_df[self.events].values\n",
    "        if self.oov:\n",
    "            oov_vec = np.sum(X_df[X_df.columns.difference(self.events)].values > 0, axis=1)\n",
    "            X = np.hstack([X, oov_vec.reshape(X.shape[0], 1)])\n",
    "        \n",
    "        num_instance, num_event = X.shape\n",
    "        if self.term_weighting == 'tf-idf':\n",
    "            idf_matrix = X * np.tile(self.idf_vec, (num_instance, 1)) \n",
    "            X = idf_matrix\n",
    "        if self.normalization == 'zero-mean':\n",
    "            X = X - np.tile(self.mean_vec, (num_instance, 1))\n",
    "        elif self.normalization == 'sigmoid':\n",
    "            X[X != 0] = expit(X[X != 0])\n",
    "        X_new = X\n",
    "\n",
    "        print('Test data shape: {}-by-{}\\n'.format(X_new.shape[0], X_new.shape[1])) \n",
    "\n",
    "        return X_new"
   ]
  },
  {
   "cell_type": "code",
   "execution_count": 75,
   "id": "e64ebeb0",
   "metadata": {},
   "outputs": [],
   "source": [
    "def _split_data(x_data, y_data=None, train_ratio=0, split_type='uniform'): #uniform sequential\n",
    "    if split_type == 'uniform' and y_data is not None:\n",
    "        pos_idx = y_data > 0\n",
    "        x_pos = x_data[pos_idx]\n",
    "        y_pos = y_data[pos_idx]\n",
    "        x_neg = x_data[~pos_idx]\n",
    "        y_neg = y_data[~pos_idx]\n",
    "        train_pos = int(train_ratio * x_pos.shape[0])\n",
    "        train_neg = int(train_ratio * x_neg.shape[0])\n",
    "        x_train = np.hstack([x_pos[0:train_pos], x_neg[0:train_neg]])\n",
    "        y_train = np.hstack([y_pos[0:train_pos], y_neg[0:train_neg]])\n",
    "        x_test = np.hstack([x_pos[train_pos:], x_neg[train_neg:]])\n",
    "        y_test = np.hstack([y_pos[train_pos:], y_neg[train_neg:]])\n",
    "    elif split_type == 'sequential':\n",
    "        num_train = int(train_ratio * x_data.shape[0])\n",
    "        x_train = x_data[0:num_train]\n",
    "        x_test = x_data[num_train:]\n",
    "        if y_data is None:\n",
    "            y_train = None\n",
    "            y_test = None\n",
    "        else:\n",
    "            y_train = y_data[0:num_train]\n",
    "            y_test = y_data[num_train:]\n",
    "    # Random shuffle\n",
    "    indexes = shuffle(np.arange(x_train.shape[0]))\n",
    "    x_train = x_train[indexes]\n",
    "    if y_train is not None:\n",
    "        y_train = y_train[indexes]\n",
    "    return (x_train, y_train), (x_test, y_test)\n",
    "#--------------------------------------------------------------------------------------------\n",
    "def load_HDFS(log_file, label_file=None, window='session', train_ratio=0.5, split_type='sequential',\n",
    "              save_csv=False, window_size=0):\n",
    "    \n",
    "\n",
    "    print('====== Input data summary ======')\n",
    "\n",
    "#     if log_file.endswith('.npz'):\n",
    "#         # Split training and validation set in a class-uniform way\n",
    "#         data = np.load(log_file, allow_pickle=True)\n",
    "#         x_data = data['x_data']\n",
    "#         y_data = data['y_data']\n",
    "#         (x_train, y_train), (x_test, y_test) = _split_data(x_data, y_data, train_ratio, split_type)\n",
    "\n",
    "    if log_file.endswith('.csv'):\n",
    "        assert window == 'session', \"Only window=session is supported for HDFS dataset.\"\n",
    "        print(\"Loading\", log_file)\n",
    "        struct_log = pd.read_csv(log_file, engine='c',\n",
    "                na_filter=False, memory_map=True)\n",
    "        data_dict = OrderedDict()\n",
    "        for idx, row in struct_log.iterrows():\n",
    "            blkId_list = re.findall(r'(blk_-?\\d+)', row['Content'])\n",
    "            blkId_set = set(blkId_list)\n",
    "            for blk_Id in blkId_set:\n",
    "                if not blk_Id in data_dict:\n",
    "                    data_dict[blk_Id] = []\n",
    "                data_dict[blk_Id].append(row['EventId'])\n",
    "        data_df = pd.DataFrame(list(data_dict.items()), columns=['BlockId', 'EventSequence'])\n",
    "        \n",
    "        if label_file:\n",
    "            # Split training and validation set in a class-uniform way\n",
    "            label_data = pd.read_csv(label_file, engine='c', na_filter=False, memory_map=True)\n",
    "            label_data = label_data.set_index('BlockId')\n",
    "            label_dict = label_data['Label'].to_dict()\n",
    "            data_df['Label'] = data_df['BlockId'].apply(lambda x: 1 if label_dict[x] == 'Anomaly' else 0)\n",
    "\n",
    "            # Split train and test data\n",
    "            (x_train, y_train), (x_test, y_test) = _split_data(data_df['EventSequence'].values, \n",
    "                data_df['Label'].values, train_ratio, split_type)\n",
    "            print(y_train.sum(), y_test.sum())\n",
    "            \n",
    "\n",
    "#         if save_csv:\n",
    "#             data_df.to_csv('data_instances.csv', index=False)\n",
    "\n",
    "        if window_size > 0:\n",
    "            x_train, window_y_train, y_train = slice_hdfs(x_train, y_train, window_size)\n",
    "            x_test, window_y_test, y_test = slice_hdfs(x_test, y_test, window_size)\n",
    "            log = \"{} {} windows ({}/{} anomaly), {}/{} normal\"\n",
    "            print(log.format(\"Train:\", x_train.shape[0], y_train.sum(), y_train.shape[0], (1-y_train).sum(), y_train.shape[0]))\n",
    "            print(log.format(\"Test:\", x_test.shape[0], y_test.sum(), y_test.shape[0], (1-y_test).sum(), y_test.shape[0]))\n",
    "            return (x_train, window_y_train, y_train), (x_test, window_y_test, y_test)\n",
    "\n",
    "#         if label_file is None:\n",
    "#             if split_type == 'uniform':\n",
    "#                 split_type = 'sequential'\n",
    "#                 print('Warning: Only split_type=sequential is supported \\\n",
    "#                 if label_file=None.'.format(split_type))\n",
    "#             # Split training and validation set sequentially\n",
    "#             x_data = data_df['EventSequence'].values\n",
    "#             (x_train, _), (x_test, _) = _split_data(x_data, train_ratio=train_ratio, split_type=split_type)\n",
    "#             print('Total: {} instances, train: {} instances, test: {} instances'.format(\n",
    "#                   x_data.shape[0], x_train.shape[0], x_test.shape[0]))\n",
    "#             return (x_train, None), (x_test, None), data_df\n",
    "#     else:\n",
    "#         raise NotImplementedError('load_HDFS() only support csv and npz files!')\n",
    "\n",
    "    num_train = x_train.shape[0]\n",
    "    num_test = x_test.shape[0]\n",
    "    num_total = num_train + num_test\n",
    "    num_train_pos = sum(y_train)\n",
    "    num_test_pos = sum(y_test)\n",
    "    num_pos = num_train_pos + num_test_pos\n",
    "\n",
    "    print('Total: {} instances, {} anomaly, {} normal' \\\n",
    "          .format(num_total, num_pos, num_total - num_pos))\n",
    "    print('Train: {} instances, {} anomaly, {} normal' \\\n",
    "          .format(num_train, num_train_pos, num_train - num_train_pos))\n",
    "    print('Test: {} instances, {} anomaly, {} normal\\n' \\\n",
    "          .format(num_test, num_test_pos, num_test - num_test_pos))\n",
    "\n",
    "    return (x_train, y_train), (x_test, y_test)\n",
    "\n",
    "# def slice_hdfs(x, y, window_size):\n",
    "#     results_data = []\n",
    "#     print(\"Slicing {} sessions, with window {}\".format(x.shape[0], window_size))\n",
    "#     for idx, sequence in enumerate(x):\n",
    "#         seqlen = len(sequence)\n",
    "#         i = 0\n",
    "#         while (i + window_size) < seqlen:\n",
    "#             slice = sequence[i: i + window_size]\n",
    "#             results_data.append([idx, slice, sequence[i + window_size], y[idx]])\n",
    "#             i += 1\n",
    "#         else:\n",
    "#             slice = sequence[i: i + window_size]\n",
    "#             slice += [\"#Pad\"] * (window_size - len(slice))\n",
    "#             results_data.append([idx, slice, \"#Pad\", y[idx]])\n",
    "#     results_df = pd.DataFrame(results_data, columns=[\"SessionId\", \"EventSequence\", \"Label\", \"SessionLabel\"])\n",
    "#     print(\"Slicing done, {} windows generated\".format(results_df.shape[0]))\n",
    "#     return results_df[[\"SessionId\", \"EventSequence\"]], results_df[\"Label\"], results_df[\"SessionLabel\"]"
   ]
  },
  {
   "cell_type": "markdown",
   "id": "71d2a869",
   "metadata": {},
   "source": [
    "---------импорт файлов----------"
   ]
  },
  {
   "cell_type": "code",
   "execution_count": 76,
   "id": "f8d98d58",
   "metadata": {},
   "outputs": [],
   "source": [
    "struct_log = 'HDFS_100k.log_structured.csv' \n",
    "label_file = 'anomaly_label.csv'"
   ]
  },
  {
   "cell_type": "code",
   "execution_count": 77,
   "id": "92dde6f0",
   "metadata": {},
   "outputs": [
    {
     "name": "stdout",
     "output_type": "stream",
     "text": [
      "====== Input data summary ======\n",
      "Loading HDFS_100k.log_structured.csv\n",
      "156 157\n",
      "Total: 7940 instances, 313 anomaly, 7627 normal\n",
      "Train: 3969 instances, 156 anomaly, 3813 normal\n",
      "Test: 3971 instances, 157 anomaly, 3814 normal\n",
      "\n"
     ]
    }
   ],
   "source": [
    "(x_train, y_train), (x_test, y_test) = load_HDFS(struct_log, label_file=label_file, window='session', \n",
    "                                                 train_ratio=0.5, split_type='uniform')"
   ]
  },
  {
   "cell_type": "markdown",
   "id": "fb0af4de",
   "metadata": {},
   "source": [
    "-----------------------------------Код для работы с другим файлом-----------------------------------"
   ]
  },
  {
   "cell_type": "code",
   "execution_count": 21,
   "id": "90396da4",
   "metadata": {},
   "outputs": [],
   "source": [
    "#Попытка сделать с другим файлом\n",
    "data_new = np.load('HDFS.npz', allow_pickle=True)"
   ]
  },
  {
   "cell_type": "code",
   "execution_count": 22,
   "id": "bf7741a3",
   "metadata": {},
   "outputs": [],
   "source": [
    "x_data_new = data_new['x_data'][:104816]\n",
    "y_data_new = data_new['y_data'][:104816] #anomalii\n",
    "x_training_data, x_test_data, y_training_data, y_test_data = train_test_split(x_data_new, y_data_new, test_size = 0.3)\n"
   ]
  },
  {
   "cell_type": "code",
   "execution_count": 23,
   "id": "6ef66e6d",
   "metadata": {},
   "outputs": [
    {
     "name": "stdout",
     "output_type": "stream",
     "text": [
      "====== Transformed train data summary ======\n",
      "Train data shape: 73371-by-28\n",
      "\n",
      "====== Transformed test data summary ======\n",
      "Test data shape: 31445-by-28\n",
      "\n"
     ]
    }
   ],
   "source": [
    "feature_extractor = FeatureExtractor()\n",
    "x_train_new = feature_extractor.fit_transform(x_training_data, term_weighting='tf-idf', normalization='zero-mean')\n",
    "x_test_new = feature_extractor.transform(x_test_data)"
   ]
  },
  {
   "cell_type": "code",
   "execution_count": null,
   "id": "764036e0",
   "metadata": {},
   "outputs": [],
   "source": []
  },
  {
   "cell_type": "code",
   "execution_count": 24,
   "id": "045008ba",
   "metadata": {},
   "outputs": [],
   "source": [
    "# feature_extractor = FeatureExtractor()\n",
    "# x_train_new = feature_extractor.fit_transform(x_train, term_weighting='tf-idf', normalization='zero-mean')\n",
    "# x_test_new = feature_extractor.transform(x_test)"
   ]
  },
  {
   "cell_type": "code",
   "execution_count": 25,
   "id": "3cd959f8",
   "metadata": {},
   "outputs": [],
   "source": [
    "from sklearn import svm"
   ]
  },
  {
   "cell_type": "code",
   "execution_count": 26,
   "id": "5e5d8ce3",
   "metadata": {},
   "outputs": [
    {
     "data": {
      "text/plain": [
       "SVC()"
      ]
     },
     "execution_count": 26,
     "metadata": {},
     "output_type": "execute_result"
    }
   ],
   "source": [
    "model_svm_new = svm.SVC()\n",
    "model_svm_new.fit(x_train_new, y_training_data)"
   ]
  },
  {
   "cell_type": "code",
   "execution_count": 27,
   "id": "b2d643a6",
   "metadata": {},
   "outputs": [],
   "source": [
    "from sklearn.metrics import f1_score, precision_score, recall_score, accuracy_score"
   ]
  },
  {
   "cell_type": "code",
   "execution_count": 28,
   "id": "860910ad",
   "metadata": {
    "scrolled": true
   },
   "outputs": [
    {
     "data": {
      "text/plain": [
       "0.9943393226268087"
      ]
     },
     "execution_count": 28,
     "metadata": {},
     "output_type": "execute_result"
    }
   ],
   "source": [
    "accuracy_score(y_test_data, model_svm_new.predict(x_test_new))"
   ]
  },
  {
   "cell_type": "code",
   "execution_count": 29,
   "id": "c1776771",
   "metadata": {},
   "outputs": [
    {
     "data": {
      "text/plain": [
       "0.9947848761408083"
      ]
     },
     "execution_count": 29,
     "metadata": {},
     "output_type": "execute_result"
    }
   ],
   "source": [
    "precision_score(y_test_data, model_svm_new.predict(x_test_new))"
   ]
  },
  {
   "cell_type": "code",
   "execution_count": 30,
   "id": "8b3ea975",
   "metadata": {},
   "outputs": [
    {
     "data": {
      "text/plain": [
       "0.8955399061032864"
      ]
     },
     "execution_count": 30,
     "metadata": {},
     "output_type": "execute_result"
    }
   ],
   "source": [
    "f1_score(y_test_data, model_svm_new.predict(x_test_new))"
   ]
  },
  {
   "cell_type": "code",
   "execution_count": 31,
   "id": "eb301fc2",
   "metadata": {},
   "outputs": [
    {
     "data": {
      "text/plain": [
       "0.8143009605122732"
      ]
     },
     "execution_count": 31,
     "metadata": {},
     "output_type": "execute_result"
    }
   ],
   "source": [
    "recall_score(y_test_data, model_svm_new.predict(x_test_new))"
   ]
  },
  {
   "cell_type": "markdown",
   "id": "73ffa781",
   "metadata": {},
   "source": [
    "------------------------------Деревья-----------------------"
   ]
  },
  {
   "cell_type": "code",
   "execution_count": 32,
   "id": "90289372",
   "metadata": {},
   "outputs": [],
   "source": [
    "from sklearn.tree import DecisionTreeClassifier"
   ]
  },
  {
   "cell_type": "code",
   "execution_count": 33,
   "id": "2544f768",
   "metadata": {},
   "outputs": [
    {
     "data": {
      "text/plain": [
       "DecisionTreeClassifier()"
      ]
     },
     "execution_count": 33,
     "metadata": {},
     "output_type": "execute_result"
    }
   ],
   "source": [
    "model_dt = DecisionTreeClassifier()\n",
    "model_dt.fit(x_train_new, y_training_data)"
   ]
  },
  {
   "cell_type": "code",
   "execution_count": 40,
   "id": "d0045912",
   "metadata": {},
   "outputs": [
    {
     "data": {
      "text/plain": [
       "(31445,)"
      ]
     },
     "execution_count": 40,
     "metadata": {},
     "output_type": "execute_result"
    }
   ],
   "source": [
    "model_dt.predict(x_test_new).shape"
   ]
  },
  {
   "cell_type": "code",
   "execution_count": 34,
   "id": "3992382d",
   "metadata": {},
   "outputs": [
    {
     "data": {
      "text/plain": [
       "0.9998091906503419"
      ]
     },
     "execution_count": 34,
     "metadata": {},
     "output_type": "execute_result"
    }
   ],
   "source": [
    "accuracy_score(y_test_data, model_dt.predict(x_test_new))"
   ]
  },
  {
   "cell_type": "code",
   "execution_count": 35,
   "id": "2f1d8444",
   "metadata": {},
   "outputs": [
    {
     "data": {
      "text/plain": [
       "0.9967982924226254"
      ]
     },
     "execution_count": 35,
     "metadata": {},
     "output_type": "execute_result"
    }
   ],
   "source": [
    "precision_score(y_test_data, model_dt.predict(x_test_new))"
   ]
  },
  {
   "cell_type": "code",
   "execution_count": 36,
   "id": "72247dfb",
   "metadata": {},
   "outputs": [
    {
     "data": {
      "text/plain": [
       "0.9967982924226254"
      ]
     },
     "execution_count": 36,
     "metadata": {},
     "output_type": "execute_result"
    }
   ],
   "source": [
    "f1_score(y_test_data, model_dt.predict(x_test_new))"
   ]
  },
  {
   "cell_type": "code",
   "execution_count": 37,
   "id": "a7c40555",
   "metadata": {},
   "outputs": [
    {
     "data": {
      "text/plain": [
       "0.9967982924226254"
      ]
     },
     "execution_count": 37,
     "metadata": {},
     "output_type": "execute_result"
    }
   ],
   "source": [
    "recall_score(y_test_data, model_dt.predict(x_test_new))"
   ]
  },
  {
   "cell_type": "markdown",
   "id": "279e3b1d",
   "metadata": {},
   "source": [
    "-----------------Для первых 2-х файлов----------------------"
   ]
  },
  {
   "cell_type": "code",
   "execution_count": 35,
   "id": "0a467913",
   "metadata": {},
   "outputs": [
    {
     "name": "stdout",
     "output_type": "stream",
     "text": [
      "====== Transformed train data summary ======\n",
      "Train data shape: 3969-by-14\n",
      "\n",
      "====== Transformed test data summary ======\n",
      "Test data shape: 3971-by-14\n",
      "\n"
     ]
    }
   ],
   "source": [
    "feature_extractor = FeatureExtractor()\n",
    "x_train = feature_extractor.fit_transform(x_train, term_weighting='tf-idf', normalization='zero-mean')\n",
    "x_test = feature_extractor.transform(x_test)\n",
    "\n",
    "# model = PCA()\n",
    "# model.fit(x_train)"
   ]
  },
  {
   "cell_type": "code",
   "execution_count": 25,
   "id": "893de630",
   "metadata": {},
   "outputs": [
    {
     "data": {
      "text/plain": [
       "SVC()"
      ]
     },
     "execution_count": 25,
     "metadata": {},
     "output_type": "execute_result"
    }
   ],
   "source": [
    "#feature_extractor = FeatureExtractor()\n",
    "#x_train_data = feature_extractor.fit_transform(x_train, term_weighting='tf-idf')\n",
    "\n",
    "model_svm = svm.SVC()\n",
    "model_svm.fit(x_train, y_train)"
   ]
  },
  {
   "cell_type": "code",
   "execution_count": 28,
   "id": "8898ceab",
   "metadata": {},
   "outputs": [
    {
     "data": {
      "text/plain": [
       "1.0"
      ]
     },
     "execution_count": 28,
     "metadata": {},
     "output_type": "execute_result"
    }
   ],
   "source": [
    "precision_score(y_test, model_svm.predict(x_test))"
   ]
  },
  {
   "cell_type": "code",
   "execution_count": 30,
   "id": "77adf475",
   "metadata": {},
   "outputs": [
    {
     "data": {
      "text/plain": [
       "0.9773356837068748"
      ]
     },
     "execution_count": 30,
     "metadata": {},
     "output_type": "execute_result"
    }
   ],
   "source": [
    "accuracy_score(y_test, model_svm.predict(x_test))"
   ]
  },
  {
   "cell_type": "code",
   "execution_count": 31,
   "id": "275697e9",
   "metadata": {},
   "outputs": [
    {
     "data": {
      "text/plain": [
       "0.4267515923566879"
      ]
     },
     "execution_count": 31,
     "metadata": {},
     "output_type": "execute_result"
    }
   ],
   "source": [
    "recall_score(y_test, model_svm.predict(x_test))"
   ]
  },
  {
   "cell_type": "code",
   "execution_count": 32,
   "id": "b8fe3a0d",
   "metadata": {
    "scrolled": true
   },
   "outputs": [
    {
     "data": {
      "text/plain": [
       "0.5982142857142857"
      ]
     },
     "execution_count": 32,
     "metadata": {},
     "output_type": "execute_result"
    }
   ],
   "source": [
    "f1_score(y_test, model_svm.predict(x_test))"
   ]
  },
  {
   "cell_type": "code",
   "execution_count": null,
   "id": "a136c559",
   "metadata": {},
   "outputs": [],
   "source": []
  },
  {
   "cell_type": "code",
   "execution_count": 36,
   "id": "4b7398ae",
   "metadata": {},
   "outputs": [],
   "source": [
    "from sklearn.tree import DecisionTreeClassifier"
   ]
  },
  {
   "cell_type": "code",
   "execution_count": 37,
   "id": "8820c128",
   "metadata": {},
   "outputs": [
    {
     "data": {
      "text/plain": [
       "DecisionTreeClassifier()"
      ]
     },
     "execution_count": 37,
     "metadata": {},
     "output_type": "execute_result"
    }
   ],
   "source": [
    "model = DecisionTreeClassifier()#DecisionTree()\n",
    "model.fit(x_train, y_train)"
   ]
  },
  {
   "cell_type": "code",
   "execution_count": 44,
   "id": "c7023e69",
   "metadata": {},
   "outputs": [],
   "source": [
    "# from sklearn import tree\n",
    "# model_dt = DecisionTree()\n",
    "# model_dt.fit(x_train, y_train)"
   ]
  },
  {
   "cell_type": "code",
   "execution_count": 45,
   "id": "303af41b",
   "metadata": {},
   "outputs": [
    {
     "data": {
      "text/plain": [
       "0.9852941176470589"
      ]
     },
     "execution_count": 45,
     "metadata": {},
     "output_type": "execute_result"
    }
   ],
   "source": [
    "precision_score(y_test, model.predict(x_test))"
   ]
  },
  {
   "cell_type": "code",
   "execution_count": 38,
   "id": "b4e0eb34",
   "metadata": {},
   "outputs": [
    {
     "data": {
      "text/plain": [
       "array([0, 0, 1, ..., 0, 0, 0])"
      ]
     },
     "execution_count": 38,
     "metadata": {},
     "output_type": "execute_result"
    }
   ],
   "source": []
  },
  {
   "cell_type": "code",
   "execution_count": 46,
   "id": "316a7eee",
   "metadata": {},
   "outputs": [
    {
     "data": {
      "text/plain": [
       "0.9770838579702845"
      ]
     },
     "execution_count": 46,
     "metadata": {},
     "output_type": "execute_result"
    }
   ],
   "source": [
    "accuracy_score(y_test, model.predict(x_test))"
   ]
  },
  {
   "cell_type": "code",
   "execution_count": 47,
   "id": "484ad4f7",
   "metadata": {},
   "outputs": [
    {
     "data": {
      "text/plain": [
       "0.4267515923566879"
      ]
     },
     "execution_count": 47,
     "metadata": {},
     "output_type": "execute_result"
    }
   ],
   "source": [
    "recall_score(y_test, model.predict(x_test))"
   ]
  },
  {
   "cell_type": "code",
   "execution_count": 48,
   "id": "61728f60",
   "metadata": {},
   "outputs": [
    {
     "data": {
      "text/plain": [
       "0.5955555555555555"
      ]
     },
     "execution_count": 48,
     "metadata": {},
     "output_type": "execute_result"
    }
   ],
   "source": [
    "f1_score(y_test, model.predict(x_test))"
   ]
  },
  {
   "cell_type": "markdown",
   "id": "b0260a00",
   "metadata": {},
   "source": [
    "-----------Построение графиков по DBSCAN and MeanShift для npz---------------"
   ]
  },
  {
   "cell_type": "code",
   "execution_count": 58,
   "id": "7a9a0d84",
   "metadata": {},
   "outputs": [],
   "source": [
    "#data[anom_new] = model.predict(x_test) + y_test\n",
    "wtf = np.concatenate((y_training_data,model_dt.predict(x_test_new)),axis=0)\n",
    "data_new = pd.DataFrame({\"anom_new\": wtf,\n",
    "                        'x_data_anom': x_data_new})"
   ]
  },
  {
   "cell_type": "code",
   "execution_count": 78,
   "id": "e528fe56",
   "metadata": {},
   "outputs": [],
   "source": [
    "#data_new['x_data_anom'[np.where('anom_new' == 1)]]"
   ]
  },
  {
   "cell_type": "code",
   "execution_count": 79,
   "id": "910e4c15",
   "metadata": {},
   "outputs": [],
   "source": [
    "#data_new['x_data_anom'[np.where('anom_new' == 1)]]"
   ]
  },
  {
   "cell_type": "code",
   "execution_count": 80,
   "id": "f96f18fb",
   "metadata": {},
   "outputs": [],
   "source": [
    "#data_new[data_new[x_data_anom]]"
   ]
  },
  {
   "cell_type": "code",
   "execution_count": 81,
   "id": "960831d0",
   "metadata": {},
   "outputs": [],
   "source": [
    "anom_old = x_test[np.where(y_test == 1)]"
   ]
  },
  {
   "cell_type": "code",
   "execution_count": 23,
   "id": "8a4f047f",
   "metadata": {},
   "outputs": [],
   "source": [
    "#anomalii = x_test_new[np.where(y_test_data == 1)]"
   ]
  },
  {
   "cell_type": "code",
   "execution_count": 41,
   "id": "ab765d9e",
   "metadata": {},
   "outputs": [],
   "source": [
    "# anomalii_old = x_test[np.where(y_test == 1)]"
   ]
  },
  {
   "cell_type": "markdown",
   "id": "f79c090d",
   "metadata": {},
   "source": [
    "---------------Кластеризация------------------"
   ]
  },
  {
   "cell_type": "code",
   "execution_count": 83,
   "id": "c2defe0c",
   "metadata": {},
   "outputs": [],
   "source": [
    "from sklearn.cluster import DBSCAN\n",
    "from sklearn.cluster import MeanShift\n",
    "\n",
    "from sklearn.manifold import TSNE\n",
    "from sklearn.decomposition import PCA"
   ]
  },
  {
   "cell_type": "code",
   "execution_count": 84,
   "id": "e1d6a214",
   "metadata": {},
   "outputs": [
    {
     "ename": "ValueError",
     "evalue": "setting an array element with a sequence.",
     "output_type": "error",
     "traceback": [
      "\u001b[0;31m---------------------------------------------------------------------------\u001b[0m",
      "\u001b[0;31mTypeError\u001b[0m                                 Traceback (most recent call last)",
      "\u001b[0;31mTypeError\u001b[0m: float() argument must be a string or a number, not 'list'",
      "\nThe above exception was the direct cause of the following exception:\n",
      "\u001b[0;31mValueError\u001b[0m                                Traceback (most recent call last)",
      "\u001b[0;32m/var/folders/3n/d3ym3bqs62zd6_z6p8tbp50r0000gn/T/ipykernel_18077/3231490402.py\u001b[0m in \u001b[0;36m<module>\u001b[0;34m\u001b[0m\n\u001b[0;32m----> 1\u001b[0;31m \u001b[0mclustering\u001b[0m \u001b[0;34m=\u001b[0m \u001b[0mDBSCAN\u001b[0m\u001b[0;34m(\u001b[0m\u001b[0meps\u001b[0m\u001b[0;34m=\u001b[0m\u001b[0;36m3\u001b[0m\u001b[0;34m,\u001b[0m \u001b[0mmin_samples\u001b[0m\u001b[0;34m=\u001b[0m\u001b[0;36m2\u001b[0m\u001b[0;34m)\u001b[0m\u001b[0;34m.\u001b[0m\u001b[0mfit\u001b[0m\u001b[0;34m(\u001b[0m\u001b[0manom_old\u001b[0m\u001b[0;34m)\u001b[0m\u001b[0;34m\u001b[0m\u001b[0;34m\u001b[0m\u001b[0m\n\u001b[0m\u001b[1;32m      2\u001b[0m \u001b[0;31m# clustering.labels_\u001b[0m\u001b[0;34m\u001b[0m\u001b[0;34m\u001b[0m\u001b[0m\n",
      "\u001b[0;32m/opt/anaconda3/lib/python3.9/site-packages/sklearn/cluster/_dbscan.py\u001b[0m in \u001b[0;36mfit\u001b[0;34m(self, X, y, sample_weight)\u001b[0m\n\u001b[1;32m    308\u001b[0m \u001b[0;34m\u001b[0m\u001b[0m\n\u001b[1;32m    309\u001b[0m         \"\"\"\n\u001b[0;32m--> 310\u001b[0;31m         \u001b[0mX\u001b[0m \u001b[0;34m=\u001b[0m \u001b[0mself\u001b[0m\u001b[0;34m.\u001b[0m\u001b[0m_validate_data\u001b[0m\u001b[0;34m(\u001b[0m\u001b[0mX\u001b[0m\u001b[0;34m,\u001b[0m \u001b[0maccept_sparse\u001b[0m\u001b[0;34m=\u001b[0m\u001b[0;34m'csr'\u001b[0m\u001b[0;34m)\u001b[0m\u001b[0;34m\u001b[0m\u001b[0;34m\u001b[0m\u001b[0m\n\u001b[0m\u001b[1;32m    311\u001b[0m \u001b[0;34m\u001b[0m\u001b[0m\n\u001b[1;32m    312\u001b[0m         \u001b[0;32mif\u001b[0m \u001b[0;32mnot\u001b[0m \u001b[0mself\u001b[0m\u001b[0;34m.\u001b[0m\u001b[0meps\u001b[0m \u001b[0;34m>\u001b[0m \u001b[0;36m0.0\u001b[0m\u001b[0;34m:\u001b[0m\u001b[0;34m\u001b[0m\u001b[0;34m\u001b[0m\u001b[0m\n",
      "\u001b[0;32m/opt/anaconda3/lib/python3.9/site-packages/sklearn/base.py\u001b[0m in \u001b[0;36m_validate_data\u001b[0;34m(self, X, y, reset, validate_separately, **check_params)\u001b[0m\n\u001b[1;32m    419\u001b[0m             \u001b[0mout\u001b[0m \u001b[0;34m=\u001b[0m \u001b[0mX\u001b[0m\u001b[0;34m\u001b[0m\u001b[0;34m\u001b[0m\u001b[0m\n\u001b[1;32m    420\u001b[0m         \u001b[0;32melif\u001b[0m \u001b[0misinstance\u001b[0m\u001b[0;34m(\u001b[0m\u001b[0my\u001b[0m\u001b[0;34m,\u001b[0m \u001b[0mstr\u001b[0m\u001b[0;34m)\u001b[0m \u001b[0;32mand\u001b[0m \u001b[0my\u001b[0m \u001b[0;34m==\u001b[0m \u001b[0;34m'no_validation'\u001b[0m\u001b[0;34m:\u001b[0m\u001b[0;34m\u001b[0m\u001b[0;34m\u001b[0m\u001b[0m\n\u001b[0;32m--> 421\u001b[0;31m             \u001b[0mX\u001b[0m \u001b[0;34m=\u001b[0m \u001b[0mcheck_array\u001b[0m\u001b[0;34m(\u001b[0m\u001b[0mX\u001b[0m\u001b[0;34m,\u001b[0m \u001b[0;34m**\u001b[0m\u001b[0mcheck_params\u001b[0m\u001b[0;34m)\u001b[0m\u001b[0;34m\u001b[0m\u001b[0;34m\u001b[0m\u001b[0m\n\u001b[0m\u001b[1;32m    422\u001b[0m             \u001b[0mout\u001b[0m \u001b[0;34m=\u001b[0m \u001b[0mX\u001b[0m\u001b[0;34m\u001b[0m\u001b[0;34m\u001b[0m\u001b[0m\n\u001b[1;32m    423\u001b[0m         \u001b[0;32melse\u001b[0m\u001b[0;34m:\u001b[0m\u001b[0;34m\u001b[0m\u001b[0;34m\u001b[0m\u001b[0m\n",
      "\u001b[0;32m/opt/anaconda3/lib/python3.9/site-packages/sklearn/utils/validation.py\u001b[0m in \u001b[0;36minner_f\u001b[0;34m(*args, **kwargs)\u001b[0m\n\u001b[1;32m     61\u001b[0m             \u001b[0mextra_args\u001b[0m \u001b[0;34m=\u001b[0m \u001b[0mlen\u001b[0m\u001b[0;34m(\u001b[0m\u001b[0margs\u001b[0m\u001b[0;34m)\u001b[0m \u001b[0;34m-\u001b[0m \u001b[0mlen\u001b[0m\u001b[0;34m(\u001b[0m\u001b[0mall_args\u001b[0m\u001b[0;34m)\u001b[0m\u001b[0;34m\u001b[0m\u001b[0;34m\u001b[0m\u001b[0m\n\u001b[1;32m     62\u001b[0m             \u001b[0;32mif\u001b[0m \u001b[0mextra_args\u001b[0m \u001b[0;34m<=\u001b[0m \u001b[0;36m0\u001b[0m\u001b[0;34m:\u001b[0m\u001b[0;34m\u001b[0m\u001b[0;34m\u001b[0m\u001b[0m\n\u001b[0;32m---> 63\u001b[0;31m                 \u001b[0;32mreturn\u001b[0m \u001b[0mf\u001b[0m\u001b[0;34m(\u001b[0m\u001b[0;34m*\u001b[0m\u001b[0margs\u001b[0m\u001b[0;34m,\u001b[0m \u001b[0;34m**\u001b[0m\u001b[0mkwargs\u001b[0m\u001b[0;34m)\u001b[0m\u001b[0;34m\u001b[0m\u001b[0;34m\u001b[0m\u001b[0m\n\u001b[0m\u001b[1;32m     64\u001b[0m \u001b[0;34m\u001b[0m\u001b[0m\n\u001b[1;32m     65\u001b[0m             \u001b[0;31m# extra_args > 0\u001b[0m\u001b[0;34m\u001b[0m\u001b[0;34m\u001b[0m\u001b[0m\n",
      "\u001b[0;32m/opt/anaconda3/lib/python3.9/site-packages/sklearn/utils/validation.py\u001b[0m in \u001b[0;36mcheck_array\u001b[0;34m(array, accept_sparse, accept_large_sparse, dtype, order, copy, force_all_finite, ensure_2d, allow_nd, ensure_min_samples, ensure_min_features, estimator)\u001b[0m\n\u001b[1;32m    671\u001b[0m                     \u001b[0marray\u001b[0m \u001b[0;34m=\u001b[0m \u001b[0marray\u001b[0m\u001b[0;34m.\u001b[0m\u001b[0mastype\u001b[0m\u001b[0;34m(\u001b[0m\u001b[0mdtype\u001b[0m\u001b[0;34m,\u001b[0m \u001b[0mcasting\u001b[0m\u001b[0;34m=\u001b[0m\u001b[0;34m\"unsafe\"\u001b[0m\u001b[0;34m,\u001b[0m \u001b[0mcopy\u001b[0m\u001b[0;34m=\u001b[0m\u001b[0;32mFalse\u001b[0m\u001b[0;34m)\u001b[0m\u001b[0;34m\u001b[0m\u001b[0;34m\u001b[0m\u001b[0m\n\u001b[1;32m    672\u001b[0m                 \u001b[0;32melse\u001b[0m\u001b[0;34m:\u001b[0m\u001b[0;34m\u001b[0m\u001b[0;34m\u001b[0m\u001b[0m\n\u001b[0;32m--> 673\u001b[0;31m                     \u001b[0marray\u001b[0m \u001b[0;34m=\u001b[0m \u001b[0mnp\u001b[0m\u001b[0;34m.\u001b[0m\u001b[0masarray\u001b[0m\u001b[0;34m(\u001b[0m\u001b[0marray\u001b[0m\u001b[0;34m,\u001b[0m \u001b[0morder\u001b[0m\u001b[0;34m=\u001b[0m\u001b[0morder\u001b[0m\u001b[0;34m,\u001b[0m \u001b[0mdtype\u001b[0m\u001b[0;34m=\u001b[0m\u001b[0mdtype\u001b[0m\u001b[0;34m)\u001b[0m\u001b[0;34m\u001b[0m\u001b[0;34m\u001b[0m\u001b[0m\n\u001b[0m\u001b[1;32m    674\u001b[0m             \u001b[0;32mexcept\u001b[0m \u001b[0mComplexWarning\u001b[0m \u001b[0;32mas\u001b[0m \u001b[0mcomplex_warning\u001b[0m\u001b[0;34m:\u001b[0m\u001b[0;34m\u001b[0m\u001b[0;34m\u001b[0m\u001b[0m\n\u001b[1;32m    675\u001b[0m                 raise ValueError(\"Complex data not supported\\n\"\n",
      "\u001b[0;32m/opt/anaconda3/lib/python3.9/site-packages/numpy/core/_asarray.py\u001b[0m in \u001b[0;36masarray\u001b[0;34m(a, dtype, order, like)\u001b[0m\n\u001b[1;32m    100\u001b[0m         \u001b[0;32mreturn\u001b[0m \u001b[0m_asarray_with_like\u001b[0m\u001b[0;34m(\u001b[0m\u001b[0ma\u001b[0m\u001b[0;34m,\u001b[0m \u001b[0mdtype\u001b[0m\u001b[0;34m=\u001b[0m\u001b[0mdtype\u001b[0m\u001b[0;34m,\u001b[0m \u001b[0morder\u001b[0m\u001b[0;34m=\u001b[0m\u001b[0morder\u001b[0m\u001b[0;34m,\u001b[0m \u001b[0mlike\u001b[0m\u001b[0;34m=\u001b[0m\u001b[0mlike\u001b[0m\u001b[0;34m)\u001b[0m\u001b[0;34m\u001b[0m\u001b[0;34m\u001b[0m\u001b[0m\n\u001b[1;32m    101\u001b[0m \u001b[0;34m\u001b[0m\u001b[0m\n\u001b[0;32m--> 102\u001b[0;31m     \u001b[0;32mreturn\u001b[0m \u001b[0marray\u001b[0m\u001b[0;34m(\u001b[0m\u001b[0ma\u001b[0m\u001b[0;34m,\u001b[0m \u001b[0mdtype\u001b[0m\u001b[0;34m,\u001b[0m \u001b[0mcopy\u001b[0m\u001b[0;34m=\u001b[0m\u001b[0;32mFalse\u001b[0m\u001b[0;34m,\u001b[0m \u001b[0morder\u001b[0m\u001b[0;34m=\u001b[0m\u001b[0morder\u001b[0m\u001b[0;34m)\u001b[0m\u001b[0;34m\u001b[0m\u001b[0;34m\u001b[0m\u001b[0m\n\u001b[0m\u001b[1;32m    103\u001b[0m \u001b[0;34m\u001b[0m\u001b[0m\n\u001b[1;32m    104\u001b[0m \u001b[0;34m\u001b[0m\u001b[0m\n",
      "\u001b[0;31mValueError\u001b[0m: setting an array element with a sequence."
     ]
    }
   ],
   "source": [
    "clustering = DBSCAN(eps=3, min_samples=2).fit(anom_old)\n",
    "# clustering.labels_"
   ]
  },
  {
   "cell_type": "code",
   "execution_count": 50,
   "id": "78a0ffa3",
   "metadata": {},
   "outputs": [],
   "source": [
    "clustering_msh = MeanShift(bandwidth=2).fit(anomalii)"
   ]
  },
  {
   "cell_type": "markdown",
   "id": "4fc2797a",
   "metadata": {},
   "source": [
    "Использование TNSE and PCA"
   ]
  },
  {
   "cell_type": "code",
   "execution_count": 51,
   "id": "5aa96f20",
   "metadata": {},
   "outputs": [],
   "source": [
    "X_after_tsne = TSNE(n_components=2, random_state=15).fit_transform(anomalii)"
   ]
  },
  {
   "cell_type": "code",
   "execution_count": 52,
   "id": "6e0981e7",
   "metadata": {},
   "outputs": [],
   "source": [
    "X_after_pca = PCA(n_components=2, random_state=15).fit_transform(anomalii)"
   ]
  },
  {
   "cell_type": "markdown",
   "id": "88d59861",
   "metadata": {},
   "source": [
    "Построение графиков DBSCAN and PCA"
   ]
  },
  {
   "cell_type": "code",
   "execution_count": null,
   "id": "7131471c",
   "metadata": {},
   "outputs": [],
   "source": []
  },
  {
   "cell_type": "code",
   "execution_count": null,
   "id": "d6c6a6f1",
   "metadata": {},
   "outputs": [],
   "source": []
  },
  {
   "cell_type": "code",
   "execution_count": null,
   "id": "c3927970",
   "metadata": {},
   "outputs": [],
   "source": []
  },
  {
   "cell_type": "code",
   "execution_count": null,
   "id": "560b5e10",
   "metadata": {},
   "outputs": [],
   "source": []
  },
  {
   "cell_type": "code",
   "execution_count": null,
   "id": "f96393ef",
   "metadata": {},
   "outputs": [],
   "source": []
  },
  {
   "cell_type": "code",
   "execution_count": null,
   "id": "a740b9aa",
   "metadata": {},
   "outputs": [],
   "source": []
  },
  {
   "cell_type": "code",
   "execution_count": null,
   "id": "0b565b9e",
   "metadata": {},
   "outputs": [],
   "source": []
  },
  {
   "cell_type": "code",
   "execution_count": 53,
   "id": "5a3c31a5",
   "metadata": {},
   "outputs": [
    {
     "data": {
      "image/png": "[encoded data removed]",
      "text/plain": [
       "<Figure size 1600x1000 with 1 Axes>"
      ]
     },
     "metadata": {},
     "output_type": "display_data"
    }
   ],
   "source": [
    "plt.style.use('default')\n",
    "X_axis = []\n",
    "Y_axis = []\n",
    "for i in range(X_after_pca.shape[0]):\n",
    "    X_axis.append(X_after_pca[i][0])\n",
    "    Y_axis.append(X_after_pca[i][1])\n",
    "plt.figure(figsize=(16,10))\n",
    "plt.scatter(x=X_axis, y=Y_axis, c=clustering.labels_);"
   ]
  },
  {
   "cell_type": "code",
   "execution_count": 82,
   "id": "15bb9552",
   "metadata": {},
   "outputs": [
    {
     "ename": "NameError",
     "evalue": "name 'X_after_pca_3d' is not defined",
     "output_type": "error",
     "traceback": [
      "\u001b[0;31m---------------------------------------------------------------------------\u001b[0m",
      "\u001b[0;31mNameError\u001b[0m                                 Traceback (most recent call last)",
      "\u001b[0;32m/var/folders/3n/d3ym3bqs62zd6_z6p8tbp50r0000gn/T/ipykernel_15018/3490921625.py\u001b[0m in \u001b[0;36m<module>\u001b[0;34m\u001b[0m\n\u001b[1;32m      6\u001b[0m \u001b[0mY_axis\u001b[0m \u001b[0;34m=\u001b[0m \u001b[0;34m[\u001b[0m\u001b[0;34m]\u001b[0m\u001b[0;34m\u001b[0m\u001b[0;34m\u001b[0m\u001b[0m\n\u001b[1;32m      7\u001b[0m \u001b[0mZ_axis\u001b[0m \u001b[0;34m=\u001b[0m \u001b[0;34m[\u001b[0m\u001b[0;34m]\u001b[0m\u001b[0;34m\u001b[0m\u001b[0;34m\u001b[0m\u001b[0m\n\u001b[0;32m----> 8\u001b[0;31m \u001b[0;32mfor\u001b[0m \u001b[0mi\u001b[0m \u001b[0;32min\u001b[0m \u001b[0mrange\u001b[0m\u001b[0;34m(\u001b[0m\u001b[0mX_after_pca_3d\u001b[0m\u001b[0;34m.\u001b[0m\u001b[0mshape\u001b[0m\u001b[0;34m[\u001b[0m\u001b[0;36m0\u001b[0m\u001b[0;34m]\u001b[0m\u001b[0;34m)\u001b[0m\u001b[0;34m:\u001b[0m\u001b[0;34m\u001b[0m\u001b[0;34m\u001b[0m\u001b[0m\n\u001b[0m\u001b[1;32m      9\u001b[0m     \u001b[0mX_axis\u001b[0m\u001b[0;34m.\u001b[0m\u001b[0mappend\u001b[0m\u001b[0;34m(\u001b[0m\u001b[0mX_after_pca_3d\u001b[0m\u001b[0;34m[\u001b[0m\u001b[0mi\u001b[0m\u001b[0;34m]\u001b[0m\u001b[0;34m[\u001b[0m\u001b[0;36m0\u001b[0m\u001b[0;34m]\u001b[0m\u001b[0;34m)\u001b[0m\u001b[0;34m\u001b[0m\u001b[0;34m\u001b[0m\u001b[0m\n\u001b[1;32m     10\u001b[0m     \u001b[0mY_axis\u001b[0m\u001b[0;34m.\u001b[0m\u001b[0mappend\u001b[0m\u001b[0;34m(\u001b[0m\u001b[0mX_after_pca_3d\u001b[0m\u001b[0;34m[\u001b[0m\u001b[0mi\u001b[0m\u001b[0;34m]\u001b[0m\u001b[0;34m[\u001b[0m\u001b[0;36m1\u001b[0m\u001b[0;34m]\u001b[0m\u001b[0;34m)\u001b[0m\u001b[0;34m\u001b[0m\u001b[0;34m\u001b[0m\u001b[0m\n",
      "\u001b[0;31mNameError\u001b[0m: name 'X_after_pca_3d' is not defined"
     ]
    },
    {
     "data": {
      "image/png": "[encoded data removed]",
      "text/plain": [
       "<Figure size 640x480 with 1 Axes>"
      ]
     },
     "metadata": {},
     "output_type": "display_data"
    }
   ],
   "source": [
    "fig = plt.figure()\n",
    "ax = fig.add_subplot(projection='3d')\n",
    "\n",
    "plt.style.use('default')\n",
    "X_axis = []\n",
    "Y_axis = []\n",
    "Z_axis = []\n",
    "for i in range(X_after_pca_3d.shape[0]):\n",
    "    X_axis.append(X_after_pca_3d[i][0])\n",
    "    Y_axis.append(X_after_pca_3d[i][1])\n",
    "    Z_axis.append(X_after_pca_3d[i][2])\n",
    "plt.figure(figsize=(16,10))\n",
    "ax.scatter(xs=X_axis, ys=Y_axis,zs=Z_axis, c=clustering.labels_);"
   ]
  },
  {
   "cell_type": "markdown",
   "id": "b018d8f2",
   "metadata": {},
   "source": [
    "ПОСТРОЕНИЕ ГРАФИКОВ MeanShift and TNSE"
   ]
  },
  {
   "cell_type": "code",
   "execution_count": 55,
   "id": "c239105f",
   "metadata": {},
   "outputs": [
    {
     "data": {
      "image/png": "[encoded data removed]",
      "text/plain": [
       "<Figure size 1600x1000 with 1 Axes>"
      ]
     },
     "metadata": {},
     "output_type": "display_data"
    }
   ],
   "source": [
    "plt.style.use('default')\n",
    "X_axis = []\n",
    "Y_axis = []\n",
    "for i in range(X_after_tsne.shape[0]):\n",
    "    X_axis.append(X_after_tsne[i][0])\n",
    "    Y_axis.append(X_after_tsne[i][1])\n",
    "plt.figure(figsize=(16,10))\n",
    "plt.scatter(x=X_axis, y=Y_axis, c=clustering_msh.labels_);"
   ]
  },
  {
   "cell_type": "code",
   "execution_count": null,
   "id": "b71e2c11",
   "metadata": {},
   "outputs": [],
   "source": [
    "fig = plt.figure()\n",
    "ax = fig.add_subplot(projection='3d')\n",
    "\n",
    "plt.style.use('default')\n",
    "X_axis = []\n",
    "Y_axis = []\n",
    "Z_axis = []\n",
    "for i in range(X_after_tsne_3d.shape[0]):\n",
    "    X_axis.append(X_after_tsne_3d[i][0])\n",
    "    Y_axis.append(X_after_tsne_3d[i][1])\n",
    "    Z_axis.append(X_after_tsne_3d[i][2])\n",
    "plt.figure(figsize=(16,10))\n",
    "ax.scatter(xs=X_axis, ys=Y_axis,zs=Z_axis, c=clustering.labels_);"
   ]
  },
  {
   "cell_type": "code",
   "execution_count": 75,
   "id": "0a055302",
   "metadata": {},
   "outputs": [],
   "source": []
  },
  {
   "cell_type": "code",
   "execution_count": 76,
   "id": "01c00fb1",
   "metadata": {},
   "outputs": [],
   "source": []
  },
  {
   "cell_type": "code",
   "execution_count": null,
   "id": "104f0149",
   "metadata": {},
   "outputs": [],
   "source": []
  },
  {
   "cell_type": "code",
   "execution_count": null,
   "id": "a3e7ca05",
   "metadata": {},
   "outputs": [],
   "source": []
  },
  {
   "cell_type": "markdown",
   "id": "541fff10",
   "metadata": {},
   "source": [
    "Построение результирующих графиков"
   ]
  },
  {
   "cell_type": "code",
   "execution_count": 58,
   "id": "7160a5cf",
   "metadata": {},
   "outputs": [],
   "source": [
    "df = pd.read_csv('HDFS_100k.log_structured.csv')"
   ]
  },
  {
   "cell_type": "code",
   "execution_count": 62,
   "id": "5f76da94",
   "metadata": {},
   "outputs": [
    {
     "data": {
      "text/plain": [
       "0         Receiving block blk_-1608999687919862906 src: ...\n",
       "1         BLOCK* NameSystem.allocateBlock: /mnt/hadoop/m...\n",
       "2         Receiving block blk_-1608999687919862906 src: ...\n",
       "3         Receiving block blk_-1608999687919862906 src: ...\n",
       "4         PacketResponder 1 for block blk_-1608999687919...\n",
       "                                ...                        \n",
       "104810    Verification succeeded for blk_-87387097785867...\n",
       "104811    Verification succeeded for blk_642047611142564...\n",
       "104812    Verification succeeded for blk_-23823897510323...\n",
       "104813    Verification succeeded for blk_485603173001003...\n",
       "104814    Verification succeeded for blk_-49047501208105...\n",
       "Name: Content, Length: 104815, dtype: object"
      ]
     },
     "execution_count": 62,
     "metadata": {},
     "output_type": "execute_result"
    }
   ],
   "source": [
    "df.Content"
   ]
  },
  {
   "cell_type": "code",
   "execution_count": 63,
   "id": "287deeaf",
   "metadata": {},
   "outputs": [
    {
     "data": {
      "text/plain": [
       "['blk_-1608999687919862906']"
      ]
     },
     "execution_count": 63,
     "metadata": {},
     "output_type": "execute_result"
    }
   ],
   "source": [
    "re.findall('blk_-\\d+', 'Receiving block blk_-1608999687919862906 src')"
   ]
  },
  {
   "cell_type": "code",
   "execution_count": 64,
   "id": "07d490c2",
   "metadata": {},
   "outputs": [
    {
     "data": {
      "text/plain": [
       "0         blk_-1608999687919862906\n",
       "1         blk_-1608999687919862906\n",
       "2         blk_-1608999687919862906\n",
       "3         blk_-1608999687919862906\n",
       "4         blk_-1608999687919862906\n",
       "                    ...           \n",
       "104810    blk_-8738709778586756237\n",
       "104811     blk_6420476111425645508\n",
       "104812    blk_-2382389751032389929\n",
       "104813     blk_4856031730010032819\n",
       "104814    blk_-4904750120810562215\n",
       "Name: Content, Length: 104815, dtype: object"
      ]
     },
     "execution_count": 64,
     "metadata": {},
     "output_type": "execute_result"
    }
   ],
   "source": [
    "df.Content.apply(lambda x: re.findall('blk_.\\d+', x)[0])"
   ]
  },
  {
   "cell_type": "code",
   "execution_count": 65,
   "id": "7730fa1b",
   "metadata": {},
   "outputs": [],
   "source": [
    "result_df = pd.DataFrame([df.Date, df.Time, df.Content.apply(lambda x: re.findall('blk_.\\d+', x)[0]), df.EventId]).T"
   ]
  },
  {
   "cell_type": "code",
   "execution_count": 66,
   "id": "3e29de4f",
   "metadata": {},
   "outputs": [],
   "source": [
    "labels_df = pd.read_csv('anomaly_label.csv')"
   ]
  },
  {
   "cell_type": "code",
   "execution_count": 67,
   "id": "df3c6941",
   "metadata": {},
   "outputs": [],
   "source": [
    "labels_df.columns = ['Content', 'Label']"
   ]
  },
  {
   "cell_type": "code",
   "execution_count": 68,
   "id": "06fd2b56",
   "metadata": {},
   "outputs": [],
   "source": [
    "data = pd.merge(result_df, labels_df, on='Content')"
   ]
  },
  {
   "cell_type": "code",
   "execution_count": 69,
   "id": "0697f2d0",
   "metadata": {},
   "outputs": [],
   "source": [
    "data.drop('Date', axis=1, inplace=True)"
   ]
  },
  {
   "cell_type": "code",
   "execution_count": 70,
   "id": "13828fa2",
   "metadata": {},
   "outputs": [],
   "source": [
    "data.Time = data.Time - data.Time[0]"
   ]
  },
  {
   "cell_type": "code",
   "execution_count": 71,
   "id": "fd097355",
   "metadata": {},
   "outputs": [],
   "source": [
    "encod = {\n",
    "    'Normal' : 0,\n",
    "    'Anomaly': 1\n",
    "}"
   ]
  },
  {
   "cell_type": "code",
   "execution_count": 72,
   "id": "82dda2ce",
   "metadata": {},
   "outputs": [],
   "source": [
    "one_hot_labels = OneHotEncoder().fit_transform(data.Label.to_numpy().reshape(-1, 1))"
   ]
  },
  {
   "cell_type": "code",
   "execution_count": 73,
   "id": "ecda61ce",
   "metadata": {
    "scrolled": false
   },
   "outputs": [
    {
     "data": {
      "text/plain": [
       "array([[0., 1.],\n",
       "       [0., 1.],\n",
       "       [0., 1.],\n",
       "       ...,\n",
       "       [1., 0.],\n",
       "       [1., 0.],\n",
       "       [1., 0.]])"
      ]
     },
     "execution_count": 73,
     "metadata": {},
     "output_type": "execute_result"
    }
   ],
   "source": [
    "one_hot_labels.toarray()"
   ]
  },
  {
   "cell_type": "code",
   "execution_count": 74,
   "id": "559b6f5f",
   "metadata": {
    "scrolled": true
   },
   "outputs": [
    {
     "data": {
      "text/html": [
       "<div>\n",
       "<style scoped>\n",
       "    .dataframe tbody tr th:only-of-type {\n",
       "        vertical-align: middle;\n",
       "    }\n",
       "\n",
       "    .dataframe tbody tr th {\n",
       "        vertical-align: top;\n",
       "    }\n",
       "\n",
       "    .dataframe thead th {\n",
       "        text-align: right;\n",
       "    }\n",
       "</style>\n",
       "<table border=\"1\" class=\"dataframe\">\n",
       "  <thead>\n",
       "    <tr style=\"text-align: right;\">\n",
       "      <th></th>\n",
       "      <th>Time</th>\n",
       "      <th>Content</th>\n",
       "      <th>EventId</th>\n",
       "      <th>0</th>\n",
       "      <th>1</th>\n",
       "    </tr>\n",
       "  </thead>\n",
       "  <tbody>\n",
       "    <tr>\n",
       "      <th>0</th>\n",
       "      <td>0</td>\n",
       "      <td>blk_-1608999687919862906</td>\n",
       "      <td>E5</td>\n",
       "      <td>0.0</td>\n",
       "      <td>1.0</td>\n",
       "    </tr>\n",
       "    <tr>\n",
       "      <th>1</th>\n",
       "      <td>0</td>\n",
       "      <td>blk_-1608999687919862906</td>\n",
       "      <td>E22</td>\n",
       "      <td>0.0</td>\n",
       "      <td>1.0</td>\n",
       "    </tr>\n",
       "    <tr>\n",
       "      <th>2</th>\n",
       "      <td>1</td>\n",
       "      <td>blk_-1608999687919862906</td>\n",
       "      <td>E5</td>\n",
       "      <td>0.0</td>\n",
       "      <td>1.0</td>\n",
       "    </tr>\n",
       "    <tr>\n",
       "      <th>3</th>\n",
       "      <td>1</td>\n",
       "      <td>blk_-1608999687919862906</td>\n",
       "      <td>E5</td>\n",
       "      <td>0.0</td>\n",
       "      <td>1.0</td>\n",
       "    </tr>\n",
       "    <tr>\n",
       "      <th>4</th>\n",
       "      <td>1</td>\n",
       "      <td>blk_-1608999687919862906</td>\n",
       "      <td>E11</td>\n",
       "      <td>0.0</td>\n",
       "      <td>1.0</td>\n",
       "    </tr>\n",
       "    <tr>\n",
       "      <th>...</th>\n",
       "      <td>...</td>\n",
       "      <td>...</td>\n",
       "      <td>...</td>\n",
       "      <td>...</td>\n",
       "      <td>...</td>\n",
       "    </tr>\n",
       "    <tr>\n",
       "      <th>104810</th>\n",
       "      <td>1493</td>\n",
       "      <td>blk_8909107483987085802</td>\n",
       "      <td>E11</td>\n",
       "      <td>1.0</td>\n",
       "      <td>0.0</td>\n",
       "    </tr>\n",
       "    <tr>\n",
       "      <th>104811</th>\n",
       "      <td>1493</td>\n",
       "      <td>blk_8909107483987085802</td>\n",
       "      <td>E9</td>\n",
       "      <td>1.0</td>\n",
       "      <td>0.0</td>\n",
       "    </tr>\n",
       "    <tr>\n",
       "      <th>104812</th>\n",
       "      <td>1494</td>\n",
       "      <td>blk_8909107483987085802</td>\n",
       "      <td>E26</td>\n",
       "      <td>1.0</td>\n",
       "      <td>0.0</td>\n",
       "    </tr>\n",
       "    <tr>\n",
       "      <th>104813</th>\n",
       "      <td>1494</td>\n",
       "      <td>blk_8909107483987085802</td>\n",
       "      <td>E11</td>\n",
       "      <td>1.0</td>\n",
       "      <td>0.0</td>\n",
       "    </tr>\n",
       "    <tr>\n",
       "      <th>104814</th>\n",
       "      <td>1494</td>\n",
       "      <td>blk_8909107483987085802</td>\n",
       "      <td>E9</td>\n",
       "      <td>1.0</td>\n",
       "      <td>0.0</td>\n",
       "    </tr>\n",
       "  </tbody>\n",
       "</table>\n",
       "<p>104815 rows × 5 columns</p>\n",
       "</div>"
      ],
      "text/plain": [
       "        Time                   Content EventId    0    1\n",
       "0          0  blk_-1608999687919862906      E5  0.0  1.0\n",
       "1          0  blk_-1608999687919862906     E22  0.0  1.0\n",
       "2          1  blk_-1608999687919862906      E5  0.0  1.0\n",
       "3          1  blk_-1608999687919862906      E5  0.0  1.0\n",
       "4          1  blk_-1608999687919862906     E11  0.0  1.0\n",
       "...      ...                       ...     ...  ...  ...\n",
       "104810  1493   blk_8909107483987085802     E11  1.0  0.0\n",
       "104811  1493   blk_8909107483987085802      E9  1.0  0.0\n",
       "104812  1494   blk_8909107483987085802     E26  1.0  0.0\n",
       "104813  1494   blk_8909107483987085802     E11  1.0  0.0\n",
       "104814  1494   blk_8909107483987085802      E9  1.0  0.0\n",
       "\n",
       "[104815 rows x 5 columns]"
      ]
     },
     "execution_count": 74,
     "metadata": {},
     "output_type": "execute_result"
    }
   ],
   "source": [
    "data = pd.concat([data, pd.DataFrame(one_hot_labels.toarray())], axis=1)\n",
    "data.drop('Label', axis=1)"
   ]
  },
  {
   "cell_type": "code",
   "execution_count": 75,
   "id": "b55103f5",
   "metadata": {
    "scrolled": true
   },
   "outputs": [
    {
     "data": {
      "text/html": [
       "<div>\n",
       "<style scoped>\n",
       "    .dataframe tbody tr th:only-of-type {\n",
       "        vertical-align: middle;\n",
       "    }\n",
       "\n",
       "    .dataframe tbody tr th {\n",
       "        vertical-align: top;\n",
       "    }\n",
       "\n",
       "    .dataframe thead th {\n",
       "        text-align: right;\n",
       "    }\n",
       "</style>\n",
       "<table border=\"1\" class=\"dataframe\">\n",
       "  <thead>\n",
       "    <tr style=\"text-align: right;\">\n",
       "      <th></th>\n",
       "      <th>Time</th>\n",
       "      <th>Content</th>\n",
       "      <th>EventId</th>\n",
       "      <th>Label</th>\n",
       "      <th>0</th>\n",
       "      <th>1</th>\n",
       "    </tr>\n",
       "  </thead>\n",
       "  <tbody>\n",
       "    <tr>\n",
       "      <th>0</th>\n",
       "      <td>0</td>\n",
       "      <td>blk_-1608999687919862906</td>\n",
       "      <td>E5</td>\n",
       "      <td>Normal</td>\n",
       "      <td>0.0</td>\n",
       "      <td>1.0</td>\n",
       "    </tr>\n",
       "    <tr>\n",
       "      <th>1</th>\n",
       "      <td>0</td>\n",
       "      <td>blk_-1608999687919862906</td>\n",
       "      <td>E22</td>\n",
       "      <td>Normal</td>\n",
       "      <td>0.0</td>\n",
       "      <td>1.0</td>\n",
       "    </tr>\n",
       "    <tr>\n",
       "      <th>2</th>\n",
       "      <td>1</td>\n",
       "      <td>blk_-1608999687919862906</td>\n",
       "      <td>E5</td>\n",
       "      <td>Normal</td>\n",
       "      <td>0.0</td>\n",
       "      <td>1.0</td>\n",
       "    </tr>\n",
       "    <tr>\n",
       "      <th>3</th>\n",
       "      <td>1</td>\n",
       "      <td>blk_-1608999687919862906</td>\n",
       "      <td>E5</td>\n",
       "      <td>Normal</td>\n",
       "      <td>0.0</td>\n",
       "      <td>1.0</td>\n",
       "    </tr>\n",
       "    <tr>\n",
       "      <th>4</th>\n",
       "      <td>1</td>\n",
       "      <td>blk_-1608999687919862906</td>\n",
       "      <td>E11</td>\n",
       "      <td>Normal</td>\n",
       "      <td>0.0</td>\n",
       "      <td>1.0</td>\n",
       "    </tr>\n",
       "    <tr>\n",
       "      <th>...</th>\n",
       "      <td>...</td>\n",
       "      <td>...</td>\n",
       "      <td>...</td>\n",
       "      <td>...</td>\n",
       "      <td>...</td>\n",
       "      <td>...</td>\n",
       "    </tr>\n",
       "    <tr>\n",
       "      <th>104810</th>\n",
       "      <td>1493</td>\n",
       "      <td>blk_8909107483987085802</td>\n",
       "      <td>E11</td>\n",
       "      <td>Anomaly</td>\n",
       "      <td>1.0</td>\n",
       "      <td>0.0</td>\n",
       "    </tr>\n",
       "    <tr>\n",
       "      <th>104811</th>\n",
       "      <td>1493</td>\n",
       "      <td>blk_8909107483987085802</td>\n",
       "      <td>E9</td>\n",
       "      <td>Anomaly</td>\n",
       "      <td>1.0</td>\n",
       "      <td>0.0</td>\n",
       "    </tr>\n",
       "    <tr>\n",
       "      <th>104812</th>\n",
       "      <td>1494</td>\n",
       "      <td>blk_8909107483987085802</td>\n",
       "      <td>E26</td>\n",
       "      <td>Anomaly</td>\n",
       "      <td>1.0</td>\n",
       "      <td>0.0</td>\n",
       "    </tr>\n",
       "    <tr>\n",
       "      <th>104813</th>\n",
       "      <td>1494</td>\n",
       "      <td>blk_8909107483987085802</td>\n",
       "      <td>E11</td>\n",
       "      <td>Anomaly</td>\n",
       "      <td>1.0</td>\n",
       "      <td>0.0</td>\n",
       "    </tr>\n",
       "    <tr>\n",
       "      <th>104814</th>\n",
       "      <td>1494</td>\n",
       "      <td>blk_8909107483987085802</td>\n",
       "      <td>E9</td>\n",
       "      <td>Anomaly</td>\n",
       "      <td>1.0</td>\n",
       "      <td>0.0</td>\n",
       "    </tr>\n",
       "  </tbody>\n",
       "</table>\n",
       "<p>104815 rows × 6 columns</p>\n",
       "</div>"
      ],
      "text/plain": [
       "        Time                   Content EventId    Label    0    1\n",
       "0          0  blk_-1608999687919862906      E5   Normal  0.0  1.0\n",
       "1          0  blk_-1608999687919862906     E22   Normal  0.0  1.0\n",
       "2          1  blk_-1608999687919862906      E5   Normal  0.0  1.0\n",
       "3          1  blk_-1608999687919862906      E5   Normal  0.0  1.0\n",
       "4          1  blk_-1608999687919862906     E11   Normal  0.0  1.0\n",
       "...      ...                       ...     ...      ...  ...  ...\n",
       "104810  1493   blk_8909107483987085802     E11  Anomaly  1.0  0.0\n",
       "104811  1493   blk_8909107483987085802      E9  Anomaly  1.0  0.0\n",
       "104812  1494   blk_8909107483987085802     E26  Anomaly  1.0  0.0\n",
       "104813  1494   blk_8909107483987085802     E11  Anomaly  1.0  0.0\n",
       "104814  1494   blk_8909107483987085802      E9  Anomaly  1.0  0.0\n",
       "\n",
       "[104815 rows x 6 columns]"
      ]
     },
     "execution_count": 75,
     "metadata": {},
     "output_type": "execute_result"
    }
   ],
   "source": [
    "data"
   ]
  },
  {
   "cell_type": "code",
   "execution_count": 76,
   "id": "68c27ea3",
   "metadata": {},
   "outputs": [
    {
     "data": {
      "text/plain": [
       "<AxesSubplot:xlabel='time', ylabel='кол-во'>"
      ]
     },
     "execution_count": 76,
     "metadata": {},
     "output_type": "execute_result"
    },
    {
     "data": {
      "text/plain": [
       "<Figure size 1600x800 with 0 Axes>"
      ]
     },
     "metadata": {},
     "output_type": "display_data"
    },
    {
     "data": {
      "image/png": "[encoded data removed]",
      "text/plain": [
       "<Figure size 1600x800 with 1 Axes>"
      ]
     },
     "metadata": {},
     "output_type": "display_data"
    }
   ],
   "source": [
    "to_plot = data.groupby('Time', as_index=False).sum()\n",
    "to_plot.columns = ['time', 'norm', 'anom']\n",
    "plt.figure(figsize=(16,8))\n",
    "to_plot.plot(x='time',ylabel='кол-во', figsize=(16,8))"
   ]
  },
  {
   "cell_type": "code",
   "execution_count": 77,
   "id": "f3d6b959",
   "metadata": {},
   "outputs": [
    {
     "data": {
      "text/plain": [
       "<AxesSubplot:xlabel='time', ylabel='кол-во'>"
      ]
     },
     "execution_count": 77,
     "metadata": {},
     "output_type": "execute_result"
    },
    {
     "data": {
      "text/plain": [
       "<Figure size 1600x800 with 0 Axes>"
      ]
     },
     "metadata": {},
     "output_type": "display_data"
    },
    {
     "data": {
      "image/png": "[encoded data removed]",
      "text/plain": [
       "<Figure size 1600x800 with 1 Axes>"
      ]
     },
     "metadata": {},
     "output_type": "display_data"
    }
   ],
   "source": [
    "to_plot['all'] = to_plot.norm + to_plot.anom\n",
    "\n",
    "to_plot_all = to_plot.drop(['norm', 'anom'], axis=1)\n",
    "\n",
    "plt.figure(figsize=(16,8))\n",
    "to_plot_all.plot(x='time',ylabel='кол-во', figsize=(16,8))"
   ]
  },
  {
   "cell_type": "code",
   "execution_count": null,
   "id": "e1765929",
   "metadata": {},
   "outputs": [],
   "source": []
  }
 ],
 "metadata": {
  "kernelspec": {
   "display_name": "Python 3 (ipykernel)",
   "language": "python",
   "name": "python3"
  },
  "language_info": {
   "codemirror_mode": {
    "name": "ipython",
    "version": 3
   },
   "file_extension": ".py",
   "mimetype": "text/x-python",
   "name": "python",
   "nbconvert_exporter": "python",
   "pygments_lexer": "ipython3",
   "version": "3.9.7"
  }
 },
 "nbformat": 4,
 "nbformat_minor": 5
}
