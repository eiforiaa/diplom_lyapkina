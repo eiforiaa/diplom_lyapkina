{
 "cells": [
  {
   "cell_type": "code",
   "execution_count": 70,
   "id": "70a249c2",
   "metadata": {},
   "outputs": [],
   "source": [
    "import numpy as np\n",
    "import pandas as pd\n",
    "from sklearn.metrics import f1_score\n",
    "from sklearn.model_selection import train_test_split\n",
    "import matplotlib.pyplot as plt\n",
    "import seaborn as sns\n",
    "import re\n",
    "from sklearn.preprocessing import OneHotEncoder\n",
    "from sklearn.model_selection import train_test_split\n",
    "import os\n",
    "from sklearn.utils import shuffle\n",
    "from collections import OrderedDict\n",
    "from collections import Counter\n",
    "from scipy.special import expit\n",
    "from itertools import compress\n",
    "from torch.utils.data import DataLoader, Dataset\n",
    "import seaborn as sns\n",
    "import matplotlib.pyplot as plt"
   ]
  },
  {
   "cell_type": "code",
   "execution_count": null,
   "id": "72287d77",
   "metadata": {},
   "outputs": [],
   "source": []
  },
  {
   "cell_type": "code",
   "execution_count": 73,
   "id": "f40aa55a",
   "metadata": {},
   "outputs": [],
   "source": [
    "hdfs_data= pd.read_csv('HDFS_100k.log_structured.csv')"
   ]
  },
  {
   "cell_type": "code",
   "execution_count": 75,
   "id": "967d908e",
   "metadata": {
    "scrolled": true
   },
   "outputs": [],
   "source": [
    "anomaly_labels = pd.read_csv('anomaly_label.csv')"
   ]
  },
  {
   "cell_type": "code",
   "execution_count": 76,
   "id": "537a7589",
   "metadata": {},
   "outputs": [
    {
     "name": "stdout",
     "output_type": "stream",
     "text": [
      "<class 'pandas.core.frame.DataFrame'>\n",
      "RangeIndex: 104815 entries, 0 to 104814\n",
      "Data columns (total 9 columns):\n",
      " #   Column         Non-Null Count   Dtype \n",
      "---  ------         --------------   ----- \n",
      " 0   LineId         104815 non-null  int64 \n",
      " 1   Date           104815 non-null  int64 \n",
      " 2   Time           104815 non-null  int64 \n",
      " 3   Pid            104815 non-null  int64 \n",
      " 4   Level          104815 non-null  object\n",
      " 5   Component      104815 non-null  object\n",
      " 6   Content        104815 non-null  object\n",
      " 7   EventId        104815 non-null  object\n",
      " 8   EventTemplate  104815 non-null  object\n",
      "dtypes: int64(4), object(5)\n",
      "memory usage: 7.2+ MB\n"
     ]
    }
   ],
   "source": [
    "hdfs_data.info()"
   ]
  },
  {
   "cell_type": "code",
   "execution_count": 77,
   "id": "e220854c",
   "metadata": {},
   "outputs": [
    {
     "data": {
      "text/html": [
       "<div>\n",
       "<style scoped>\n",
       "    .dataframe tbody tr th:only-of-type {\n",
       "        vertical-align: middle;\n",
       "    }\n",
       "\n",
       "    .dataframe tbody tr th {\n",
       "        vertical-align: top;\n",
       "    }\n",
       "\n",
       "    .dataframe thead th {\n",
       "        text-align: right;\n",
       "    }\n",
       "</style>\n",
       "<table border=\"1\" class=\"dataframe\">\n",
       "  <thead>\n",
       "    <tr style=\"text-align: right;\">\n",
       "      <th></th>\n",
       "      <th>LineId</th>\n",
       "      <th>Date</th>\n",
       "      <th>Time</th>\n",
       "      <th>Pid</th>\n",
       "      <th>Level</th>\n",
       "      <th>Component</th>\n",
       "      <th>Content</th>\n",
       "      <th>EventId</th>\n",
       "      <th>EventTemplate</th>\n",
       "    </tr>\n",
       "  </thead>\n",
       "  <tbody>\n",
       "    <tr>\n",
       "      <th>0</th>\n",
       "      <td>1</td>\n",
       "      <td>81109</td>\n",
       "      <td>203518</td>\n",
       "      <td>143</td>\n",
       "      <td>INFO</td>\n",
       "      <td>dfs.DataNode$DataXceiver</td>\n",
       "      <td>Receiving block blk_-1608999687919862906 src: ...</td>\n",
       "      <td>E5</td>\n",
       "      <td>Receiving block &lt;*&gt; src: /&lt;*&gt; dest: /&lt;*&gt;</td>\n",
       "    </tr>\n",
       "    <tr>\n",
       "      <th>1</th>\n",
       "      <td>2</td>\n",
       "      <td>81109</td>\n",
       "      <td>203518</td>\n",
       "      <td>35</td>\n",
       "      <td>INFO</td>\n",
       "      <td>dfs.FSNamesystem</td>\n",
       "      <td>BLOCK* NameSystem.allocateBlock: /mnt/hadoop/m...</td>\n",
       "      <td>E22</td>\n",
       "      <td>BLOCK* NameSystem.allocateBlock:&lt;*&gt;</td>\n",
       "    </tr>\n",
       "    <tr>\n",
       "      <th>2</th>\n",
       "      <td>3</td>\n",
       "      <td>81109</td>\n",
       "      <td>203519</td>\n",
       "      <td>143</td>\n",
       "      <td>INFO</td>\n",
       "      <td>dfs.DataNode$DataXceiver</td>\n",
       "      <td>Receiving block blk_-1608999687919862906 src: ...</td>\n",
       "      <td>E5</td>\n",
       "      <td>Receiving block &lt;*&gt; src: /&lt;*&gt; dest: /&lt;*&gt;</td>\n",
       "    </tr>\n",
       "    <tr>\n",
       "      <th>3</th>\n",
       "      <td>4</td>\n",
       "      <td>81109</td>\n",
       "      <td>203519</td>\n",
       "      <td>145</td>\n",
       "      <td>INFO</td>\n",
       "      <td>dfs.DataNode$DataXceiver</td>\n",
       "      <td>Receiving block blk_-1608999687919862906 src: ...</td>\n",
       "      <td>E5</td>\n",
       "      <td>Receiving block &lt;*&gt; src: /&lt;*&gt; dest: /&lt;*&gt;</td>\n",
       "    </tr>\n",
       "    <tr>\n",
       "      <th>4</th>\n",
       "      <td>5</td>\n",
       "      <td>81109</td>\n",
       "      <td>203519</td>\n",
       "      <td>145</td>\n",
       "      <td>INFO</td>\n",
       "      <td>dfs.DataNode$PacketResponder</td>\n",
       "      <td>PacketResponder 1 for block blk_-1608999687919...</td>\n",
       "      <td>E11</td>\n",
       "      <td>PacketResponder &lt;*&gt; for block &lt;*&gt; terminating</td>\n",
       "    </tr>\n",
       "  </tbody>\n",
       "</table>\n",
       "</div>"
      ],
      "text/plain": [
       "   LineId   Date    Time  Pid Level                     Component  \\\n",
       "0       1  81109  203518  143  INFO      dfs.DataNode$DataXceiver   \n",
       "1       2  81109  203518   35  INFO              dfs.FSNamesystem   \n",
       "2       3  81109  203519  143  INFO      dfs.DataNode$DataXceiver   \n",
       "3       4  81109  203519  145  INFO      dfs.DataNode$DataXceiver   \n",
       "4       5  81109  203519  145  INFO  dfs.DataNode$PacketResponder   \n",
       "\n",
       "                                             Content EventId  \\\n",
       "0  Receiving block blk_-1608999687919862906 src: ...      E5   \n",
       "1  BLOCK* NameSystem.allocateBlock: /mnt/hadoop/m...     E22   \n",
       "2  Receiving block blk_-1608999687919862906 src: ...      E5   \n",
       "3  Receiving block blk_-1608999687919862906 src: ...      E5   \n",
       "4  PacketResponder 1 for block blk_-1608999687919...     E11   \n",
       "\n",
       "                                   EventTemplate  \n",
       "0       Receiving block <*> src: /<*> dest: /<*>  \n",
       "1            BLOCK* NameSystem.allocateBlock:<*>  \n",
       "2       Receiving block <*> src: /<*> dest: /<*>  \n",
       "3       Receiving block <*> src: /<*> dest: /<*>  \n",
       "4  PacketResponder <*> for block <*> terminating  "
      ]
     },
     "execution_count": 77,
     "metadata": {},
     "output_type": "execute_result"
    }
   ],
   "source": [
    "hdfs_data.head()"
   ]
  },
  {
   "cell_type": "code",
   "execution_count": 78,
   "id": "6751968f",
   "metadata": {},
   "outputs": [],
   "source": [
    "hdfs_data['BlockId']=hdfs_data['Content'].str.findall(r'(blk_-?\\d+)').apply(lambda x:x[0])"
   ]
  },
  {
   "cell_type": "code",
   "execution_count": 79,
   "id": "49e3d224",
   "metadata": {},
   "outputs": [
    {
     "data": {
      "text/html": [
       "<div>\n",
       "<style scoped>\n",
       "    .dataframe tbody tr th:only-of-type {\n",
       "        vertical-align: middle;\n",
       "    }\n",
       "\n",
       "    .dataframe tbody tr th {\n",
       "        vertical-align: top;\n",
       "    }\n",
       "\n",
       "    .dataframe thead th {\n",
       "        text-align: right;\n",
       "    }\n",
       "</style>\n",
       "<table border=\"1\" class=\"dataframe\">\n",
       "  <thead>\n",
       "    <tr style=\"text-align: right;\">\n",
       "      <th></th>\n",
       "      <th>LineId</th>\n",
       "      <th>Date</th>\n",
       "      <th>Time</th>\n",
       "      <th>Pid</th>\n",
       "      <th>Level</th>\n",
       "      <th>Component</th>\n",
       "      <th>Content</th>\n",
       "      <th>EventId</th>\n",
       "      <th>EventTemplate</th>\n",
       "      <th>BlockId</th>\n",
       "    </tr>\n",
       "  </thead>\n",
       "  <tbody>\n",
       "    <tr>\n",
       "      <th>0</th>\n",
       "      <td>1</td>\n",
       "      <td>81109</td>\n",
       "      <td>203518</td>\n",
       "      <td>143</td>\n",
       "      <td>INFO</td>\n",
       "      <td>dfs.DataNode$DataXceiver</td>\n",
       "      <td>Receiving block blk_-1608999687919862906 src: ...</td>\n",
       "      <td>E5</td>\n",
       "      <td>Receiving block &lt;*&gt; src: /&lt;*&gt; dest: /&lt;*&gt;</td>\n",
       "      <td>blk_-1608999687919862906</td>\n",
       "    </tr>\n",
       "    <tr>\n",
       "      <th>1</th>\n",
       "      <td>2</td>\n",
       "      <td>81109</td>\n",
       "      <td>203518</td>\n",
       "      <td>35</td>\n",
       "      <td>INFO</td>\n",
       "      <td>dfs.FSNamesystem</td>\n",
       "      <td>BLOCK* NameSystem.allocateBlock: /mnt/hadoop/m...</td>\n",
       "      <td>E22</td>\n",
       "      <td>BLOCK* NameSystem.allocateBlock:&lt;*&gt;</td>\n",
       "      <td>blk_-1608999687919862906</td>\n",
       "    </tr>\n",
       "    <tr>\n",
       "      <th>2</th>\n",
       "      <td>3</td>\n",
       "      <td>81109</td>\n",
       "      <td>203519</td>\n",
       "      <td>143</td>\n",
       "      <td>INFO</td>\n",
       "      <td>dfs.DataNode$DataXceiver</td>\n",
       "      <td>Receiving block blk_-1608999687919862906 src: ...</td>\n",
       "      <td>E5</td>\n",
       "      <td>Receiving block &lt;*&gt; src: /&lt;*&gt; dest: /&lt;*&gt;</td>\n",
       "      <td>blk_-1608999687919862906</td>\n",
       "    </tr>\n",
       "    <tr>\n",
       "      <th>3</th>\n",
       "      <td>4</td>\n",
       "      <td>81109</td>\n",
       "      <td>203519</td>\n",
       "      <td>145</td>\n",
       "      <td>INFO</td>\n",
       "      <td>dfs.DataNode$DataXceiver</td>\n",
       "      <td>Receiving block blk_-1608999687919862906 src: ...</td>\n",
       "      <td>E5</td>\n",
       "      <td>Receiving block &lt;*&gt; src: /&lt;*&gt; dest: /&lt;*&gt;</td>\n",
       "      <td>blk_-1608999687919862906</td>\n",
       "    </tr>\n",
       "    <tr>\n",
       "      <th>4</th>\n",
       "      <td>5</td>\n",
       "      <td>81109</td>\n",
       "      <td>203519</td>\n",
       "      <td>145</td>\n",
       "      <td>INFO</td>\n",
       "      <td>dfs.DataNode$PacketResponder</td>\n",
       "      <td>PacketResponder 1 for block blk_-1608999687919...</td>\n",
       "      <td>E11</td>\n",
       "      <td>PacketResponder &lt;*&gt; for block &lt;*&gt; terminating</td>\n",
       "      <td>blk_-1608999687919862906</td>\n",
       "    </tr>\n",
       "    <tr>\n",
       "      <th>...</th>\n",
       "      <td>...</td>\n",
       "      <td>...</td>\n",
       "      <td>...</td>\n",
       "      <td>...</td>\n",
       "      <td>...</td>\n",
       "      <td>...</td>\n",
       "      <td>...</td>\n",
       "      <td>...</td>\n",
       "      <td>...</td>\n",
       "      <td>...</td>\n",
       "    </tr>\n",
       "    <tr>\n",
       "      <th>104810</th>\n",
       "      <td>104811</td>\n",
       "      <td>81109</td>\n",
       "      <td>210122</td>\n",
       "      <td>13</td>\n",
       "      <td>INFO</td>\n",
       "      <td>dfs.DataBlockScanner</td>\n",
       "      <td>Verification succeeded for blk_-87387097785867...</td>\n",
       "      <td>E2</td>\n",
       "      <td>Verification succeeded for &lt;*&gt;</td>\n",
       "      <td>blk_-8738709778586756237</td>\n",
       "    </tr>\n",
       "    <tr>\n",
       "      <th>104811</th>\n",
       "      <td>104812</td>\n",
       "      <td>81109</td>\n",
       "      <td>210124</td>\n",
       "      <td>13</td>\n",
       "      <td>INFO</td>\n",
       "      <td>dfs.DataBlockScanner</td>\n",
       "      <td>Verification succeeded for blk_642047611142564...</td>\n",
       "      <td>E2</td>\n",
       "      <td>Verification succeeded for &lt;*&gt;</td>\n",
       "      <td>blk_6420476111425645508</td>\n",
       "    </tr>\n",
       "    <tr>\n",
       "      <th>104812</th>\n",
       "      <td>104813</td>\n",
       "      <td>81109</td>\n",
       "      <td>210126</td>\n",
       "      <td>13</td>\n",
       "      <td>INFO</td>\n",
       "      <td>dfs.DataBlockScanner</td>\n",
       "      <td>Verification succeeded for blk_-23823897510323...</td>\n",
       "      <td>E2</td>\n",
       "      <td>Verification succeeded for &lt;*&gt;</td>\n",
       "      <td>blk_-2382389751032389929</td>\n",
       "    </tr>\n",
       "    <tr>\n",
       "      <th>104813</th>\n",
       "      <td>104814</td>\n",
       "      <td>81109</td>\n",
       "      <td>210126</td>\n",
       "      <td>13</td>\n",
       "      <td>INFO</td>\n",
       "      <td>dfs.DataBlockScanner</td>\n",
       "      <td>Verification succeeded for blk_485603173001003...</td>\n",
       "      <td>E2</td>\n",
       "      <td>Verification succeeded for &lt;*&gt;</td>\n",
       "      <td>blk_4856031730010032819</td>\n",
       "    </tr>\n",
       "    <tr>\n",
       "      <th>104814</th>\n",
       "      <td>104815</td>\n",
       "      <td>81109</td>\n",
       "      <td>210126</td>\n",
       "      <td>13</td>\n",
       "      <td>INFO</td>\n",
       "      <td>dfs.DataBlockScanner</td>\n",
       "      <td>Verification succeeded for blk_-49047501208105...</td>\n",
       "      <td>E2</td>\n",
       "      <td>Verification succeeded for &lt;*&gt;</td>\n",
       "      <td>blk_-4904750120810562215</td>\n",
       "    </tr>\n",
       "  </tbody>\n",
       "</table>\n",
       "<p>104815 rows × 10 columns</p>\n",
       "</div>"
      ],
      "text/plain": [
       "        LineId   Date    Time  Pid Level                     Component  \\\n",
       "0            1  81109  203518  143  INFO      dfs.DataNode$DataXceiver   \n",
       "1            2  81109  203518   35  INFO              dfs.FSNamesystem   \n",
       "2            3  81109  203519  143  INFO      dfs.DataNode$DataXceiver   \n",
       "3            4  81109  203519  145  INFO      dfs.DataNode$DataXceiver   \n",
       "4            5  81109  203519  145  INFO  dfs.DataNode$PacketResponder   \n",
       "...        ...    ...     ...  ...   ...                           ...   \n",
       "104810  104811  81109  210122   13  INFO          dfs.DataBlockScanner   \n",
       "104811  104812  81109  210124   13  INFO          dfs.DataBlockScanner   \n",
       "104812  104813  81109  210126   13  INFO          dfs.DataBlockScanner   \n",
       "104813  104814  81109  210126   13  INFO          dfs.DataBlockScanner   \n",
       "104814  104815  81109  210126   13  INFO          dfs.DataBlockScanner   \n",
       "\n",
       "                                                  Content EventId  \\\n",
       "0       Receiving block blk_-1608999687919862906 src: ...      E5   \n",
       "1       BLOCK* NameSystem.allocateBlock: /mnt/hadoop/m...     E22   \n",
       "2       Receiving block blk_-1608999687919862906 src: ...      E5   \n",
       "3       Receiving block blk_-1608999687919862906 src: ...      E5   \n",
       "4       PacketResponder 1 for block blk_-1608999687919...     E11   \n",
       "...                                                   ...     ...   \n",
       "104810  Verification succeeded for blk_-87387097785867...      E2   \n",
       "104811  Verification succeeded for blk_642047611142564...      E2   \n",
       "104812  Verification succeeded for blk_-23823897510323...      E2   \n",
       "104813  Verification succeeded for blk_485603173001003...      E2   \n",
       "104814  Verification succeeded for blk_-49047501208105...      E2   \n",
       "\n",
       "                                        EventTemplate  \\\n",
       "0            Receiving block <*> src: /<*> dest: /<*>   \n",
       "1                 BLOCK* NameSystem.allocateBlock:<*>   \n",
       "2            Receiving block <*> src: /<*> dest: /<*>   \n",
       "3            Receiving block <*> src: /<*> dest: /<*>   \n",
       "4       PacketResponder <*> for block <*> terminating   \n",
       "...                                               ...   \n",
       "104810                 Verification succeeded for <*>   \n",
       "104811                 Verification succeeded for <*>   \n",
       "104812                 Verification succeeded for <*>   \n",
       "104813                 Verification succeeded for <*>   \n",
       "104814                 Verification succeeded for <*>   \n",
       "\n",
       "                         BlockId  \n",
       "0       blk_-1608999687919862906  \n",
       "1       blk_-1608999687919862906  \n",
       "2       blk_-1608999687919862906  \n",
       "3       blk_-1608999687919862906  \n",
       "4       blk_-1608999687919862906  \n",
       "...                          ...  \n",
       "104810  blk_-8738709778586756237  \n",
       "104811   blk_6420476111425645508  \n",
       "104812  blk_-2382389751032389929  \n",
       "104813   blk_4856031730010032819  \n",
       "104814  blk_-4904750120810562215  \n",
       "\n",
       "[104815 rows x 10 columns]"
      ]
     },
     "execution_count": 79,
     "metadata": {},
     "output_type": "execute_result"
    }
   ],
   "source": [
    "hdfs_data"
   ]
  },
  {
   "cell_type": "code",
   "execution_count": 80,
   "id": "64a2ee5d",
   "metadata": {},
   "outputs": [
    {
     "data": {
      "text/plain": [
       "81109    104815\n",
       "Name: Date, dtype: int64"
      ]
     },
     "execution_count": 80,
     "metadata": {},
     "output_type": "execute_result"
    }
   ],
   "source": [
    "hdfs_data['Date'].value_counts()"
   ]
  },
  {
   "cell_type": "code",
   "execution_count": 81,
   "id": "0c57e551",
   "metadata": {},
   "outputs": [],
   "source": [
    "hdfs_data=hdfs_data.drop(columns='Date')"
   ]
  },
  {
   "cell_type": "code",
   "execution_count": 82,
   "id": "9fcfe1be",
   "metadata": {},
   "outputs": [
    {
     "data": {
      "text/html": [
       "<div>\n",
       "<style scoped>\n",
       "    .dataframe tbody tr th:only-of-type {\n",
       "        vertical-align: middle;\n",
       "    }\n",
       "\n",
       "    .dataframe tbody tr th {\n",
       "        vertical-align: top;\n",
       "    }\n",
       "\n",
       "    .dataframe thead th {\n",
       "        text-align: right;\n",
       "    }\n",
       "</style>\n",
       "<table border=\"1\" class=\"dataframe\">\n",
       "  <thead>\n",
       "    <tr style=\"text-align: right;\">\n",
       "      <th></th>\n",
       "      <th>BlockId</th>\n",
       "      <th>Label</th>\n",
       "    </tr>\n",
       "  </thead>\n",
       "  <tbody>\n",
       "    <tr>\n",
       "      <th>0</th>\n",
       "      <td>blk_-1608999687919862906</td>\n",
       "      <td>Normal</td>\n",
       "    </tr>\n",
       "    <tr>\n",
       "      <th>1</th>\n",
       "      <td>blk_7503483334202473044</td>\n",
       "      <td>Normal</td>\n",
       "    </tr>\n",
       "    <tr>\n",
       "      <th>2</th>\n",
       "      <td>blk_-3544583377289625738</td>\n",
       "      <td>Anomaly</td>\n",
       "    </tr>\n",
       "    <tr>\n",
       "      <th>3</th>\n",
       "      <td>blk_-9073992586687739851</td>\n",
       "      <td>Normal</td>\n",
       "    </tr>\n",
       "    <tr>\n",
       "      <th>4</th>\n",
       "      <td>blk_7854771516489510256</td>\n",
       "      <td>Normal</td>\n",
       "    </tr>\n",
       "  </tbody>\n",
       "</table>\n",
       "</div>"
      ],
      "text/plain": [
       "                    BlockId    Label\n",
       "0  blk_-1608999687919862906   Normal\n",
       "1   blk_7503483334202473044   Normal\n",
       "2  blk_-3544583377289625738  Anomaly\n",
       "3  blk_-9073992586687739851   Normal\n",
       "4   blk_7854771516489510256   Normal"
      ]
     },
     "execution_count": 82,
     "metadata": {},
     "output_type": "execute_result"
    }
   ],
   "source": [
    "anomaly_labels.head()"
   ]
  },
  {
   "cell_type": "code",
   "execution_count": 83,
   "id": "aad09435",
   "metadata": {},
   "outputs": [
    {
     "data": {
      "text/plain": [
       "0         blk_-1608999687919862906\n",
       "1          blk_7503483334202473044\n",
       "2         blk_-3544583377289625738\n",
       "3         blk_-9073992586687739851\n",
       "4          blk_7854771516489510256\n",
       "                    ...           \n",
       "575056     blk_1019720114020043203\n",
       "575057    blk_-2683116845478050414\n",
       "575058     blk_5595059397348477632\n",
       "575059     blk_1513937873877967730\n",
       "575060    blk_-9128742458709757181\n",
       "Name: BlockId, Length: 575061, dtype: object"
      ]
     },
     "execution_count": 83,
     "metadata": {},
     "output_type": "execute_result"
    }
   ],
   "source": [
    "anomaly_labels['BlockId']"
   ]
  },
  {
   "cell_type": "code",
   "execution_count": 84,
   "id": "590a417d",
   "metadata": {},
   "outputs": [
    {
     "data": {
      "text/plain": [
       "(104815, 9)"
      ]
     },
     "execution_count": 84,
     "metadata": {},
     "output_type": "execute_result"
    }
   ],
   "source": [
    "hdfs_data.shape"
   ]
  },
  {
   "cell_type": "code",
   "execution_count": 85,
   "id": "95452c85",
   "metadata": {},
   "outputs": [],
   "source": [
    "df_hdfs=hdfs_data.merge(anomaly_labels, left_on='BlockId',right_on='BlockId')"
   ]
  },
  {
   "cell_type": "code",
   "execution_count": 86,
   "id": "41b9b501",
   "metadata": {},
   "outputs": [
    {
     "data": {
      "text/html": [
       "<div>\n",
       "<style scoped>\n",
       "    .dataframe tbody tr th:only-of-type {\n",
       "        vertical-align: middle;\n",
       "    }\n",
       "\n",
       "    .dataframe tbody tr th {\n",
       "        vertical-align: top;\n",
       "    }\n",
       "\n",
       "    .dataframe thead th {\n",
       "        text-align: right;\n",
       "    }\n",
       "</style>\n",
       "<table border=\"1\" class=\"dataframe\">\n",
       "  <thead>\n",
       "    <tr style=\"text-align: right;\">\n",
       "      <th></th>\n",
       "      <th>LineId</th>\n",
       "      <th>Time</th>\n",
       "      <th>Pid</th>\n",
       "      <th>Level</th>\n",
       "      <th>Component</th>\n",
       "      <th>Content</th>\n",
       "      <th>EventId</th>\n",
       "      <th>EventTemplate</th>\n",
       "      <th>BlockId</th>\n",
       "      <th>Label</th>\n",
       "    </tr>\n",
       "  </thead>\n",
       "  <tbody>\n",
       "    <tr>\n",
       "      <th>0</th>\n",
       "      <td>1</td>\n",
       "      <td>203518</td>\n",
       "      <td>143</td>\n",
       "      <td>INFO</td>\n",
       "      <td>dfs.DataNode$DataXceiver</td>\n",
       "      <td>Receiving block blk_-1608999687919862906 src: ...</td>\n",
       "      <td>E5</td>\n",
       "      <td>Receiving block &lt;*&gt; src: /&lt;*&gt; dest: /&lt;*&gt;</td>\n",
       "      <td>blk_-1608999687919862906</td>\n",
       "      <td>Normal</td>\n",
       "    </tr>\n",
       "    <tr>\n",
       "      <th>1</th>\n",
       "      <td>2</td>\n",
       "      <td>203518</td>\n",
       "      <td>35</td>\n",
       "      <td>INFO</td>\n",
       "      <td>dfs.FSNamesystem</td>\n",
       "      <td>BLOCK* NameSystem.allocateBlock: /mnt/hadoop/m...</td>\n",
       "      <td>E22</td>\n",
       "      <td>BLOCK* NameSystem.allocateBlock:&lt;*&gt;</td>\n",
       "      <td>blk_-1608999687919862906</td>\n",
       "      <td>Normal</td>\n",
       "    </tr>\n",
       "    <tr>\n",
       "      <th>2</th>\n",
       "      <td>3</td>\n",
       "      <td>203519</td>\n",
       "      <td>143</td>\n",
       "      <td>INFO</td>\n",
       "      <td>dfs.DataNode$DataXceiver</td>\n",
       "      <td>Receiving block blk_-1608999687919862906 src: ...</td>\n",
       "      <td>E5</td>\n",
       "      <td>Receiving block &lt;*&gt; src: /&lt;*&gt; dest: /&lt;*&gt;</td>\n",
       "      <td>blk_-1608999687919862906</td>\n",
       "      <td>Normal</td>\n",
       "    </tr>\n",
       "    <tr>\n",
       "      <th>3</th>\n",
       "      <td>4</td>\n",
       "      <td>203519</td>\n",
       "      <td>145</td>\n",
       "      <td>INFO</td>\n",
       "      <td>dfs.DataNode$DataXceiver</td>\n",
       "      <td>Receiving block blk_-1608999687919862906 src: ...</td>\n",
       "      <td>E5</td>\n",
       "      <td>Receiving block &lt;*&gt; src: /&lt;*&gt; dest: /&lt;*&gt;</td>\n",
       "      <td>blk_-1608999687919862906</td>\n",
       "      <td>Normal</td>\n",
       "    </tr>\n",
       "    <tr>\n",
       "      <th>4</th>\n",
       "      <td>5</td>\n",
       "      <td>203519</td>\n",
       "      <td>145</td>\n",
       "      <td>INFO</td>\n",
       "      <td>dfs.DataNode$PacketResponder</td>\n",
       "      <td>PacketResponder 1 for block blk_-1608999687919...</td>\n",
       "      <td>E11</td>\n",
       "      <td>PacketResponder &lt;*&gt; for block &lt;*&gt; terminating</td>\n",
       "      <td>blk_-1608999687919862906</td>\n",
       "      <td>Normal</td>\n",
       "    </tr>\n",
       "  </tbody>\n",
       "</table>\n",
       "</div>"
      ],
      "text/plain": [
       "   LineId    Time  Pid Level                     Component  \\\n",
       "0       1  203518  143  INFO      dfs.DataNode$DataXceiver   \n",
       "1       2  203518   35  INFO              dfs.FSNamesystem   \n",
       "2       3  203519  143  INFO      dfs.DataNode$DataXceiver   \n",
       "3       4  203519  145  INFO      dfs.DataNode$DataXceiver   \n",
       "4       5  203519  145  INFO  dfs.DataNode$PacketResponder   \n",
       "\n",
       "                                             Content EventId  \\\n",
       "0  Receiving block blk_-1608999687919862906 src: ...      E5   \n",
       "1  BLOCK* NameSystem.allocateBlock: /mnt/hadoop/m...     E22   \n",
       "2  Receiving block blk_-1608999687919862906 src: ...      E5   \n",
       "3  Receiving block blk_-1608999687919862906 src: ...      E5   \n",
       "4  PacketResponder 1 for block blk_-1608999687919...     E11   \n",
       "\n",
       "                                   EventTemplate                   BlockId  \\\n",
       "0       Receiving block <*> src: /<*> dest: /<*>  blk_-1608999687919862906   \n",
       "1            BLOCK* NameSystem.allocateBlock:<*>  blk_-1608999687919862906   \n",
       "2       Receiving block <*> src: /<*> dest: /<*>  blk_-1608999687919862906   \n",
       "3       Receiving block <*> src: /<*> dest: /<*>  blk_-1608999687919862906   \n",
       "4  PacketResponder <*> for block <*> terminating  blk_-1608999687919862906   \n",
       "\n",
       "    Label  \n",
       "0  Normal  \n",
       "1  Normal  \n",
       "2  Normal  \n",
       "3  Normal  \n",
       "4  Normal  "
      ]
     },
     "execution_count": 86,
     "metadata": {},
     "output_type": "execute_result"
    }
   ],
   "source": [
    "df_hdfs.head()"
   ]
  },
  {
   "cell_type": "code",
   "execution_count": 87,
   "id": "af6921a9",
   "metadata": {},
   "outputs": [
    {
     "data": {
      "text/plain": [
       "E5     23671\n",
       "E26    23478\n",
       "E11    23451\n",
       "E9     23447\n",
       "E22     7940\n",
       "E2      2183\n",
       "E3       407\n",
       "E7        68\n",
       "E6        31\n",
       "E18       27\n",
       "E25       27\n",
       "E16       27\n",
       "E13       24\n",
       "E21       23\n",
       "E14        4\n",
       "E10        3\n",
       "E15        2\n",
       "E27        1\n",
       "E8         1\n",
       "Name: EventId, dtype: int64"
      ]
     },
     "execution_count": 87,
     "metadata": {},
     "output_type": "execute_result"
    }
   ],
   "source": [
    "df_hdfs['EventId'].value_counts()"
   ]
  },
  {
   "cell_type": "code",
   "execution_count": 88,
   "id": "5fdf04af",
   "metadata": {},
   "outputs": [
    {
     "data": {
      "text/plain": [
       "Normal     101544\n",
       "Anomaly      3271\n",
       "Name: Label, dtype: int64"
      ]
     },
     "execution_count": 88,
     "metadata": {},
     "output_type": "execute_result"
    }
   ],
   "source": [
    "df_hdfs['Label'].value_counts()"
   ]
  },
  {
   "cell_type": "code",
   "execution_count": null,
   "id": "24f28d02",
   "metadata": {},
   "outputs": [],
   "source": []
  },
  {
   "cell_type": "code",
   "execution_count": null,
   "id": "afef3fe3",
   "metadata": {},
   "outputs": [],
   "source": []
  },
  {
   "cell_type": "code",
   "execution_count": null,
   "id": "ac7771f2",
   "metadata": {},
   "outputs": [],
   "source": []
  },
  {
   "cell_type": "code",
   "execution_count": null,
   "id": "dffe207f",
   "metadata": {},
   "outputs": [],
   "source": []
  },
  {
   "cell_type": "code",
   "execution_count": 1,
   "id": "9764210d",
   "metadata": {},
   "outputs": [],
   "source": []
  },
  {
   "cell_type": "code",
   "execution_count": 2,
   "id": "5b541747",
   "metadata": {},
   "outputs": [],
   "source": []
  },
  {
   "cell_type": "code",
   "execution_count": 3,
   "id": "1b243b2d",
   "metadata": {},
   "outputs": [],
   "source": [
    "\n",
    "\n",
    "\n",
    "class Iterator(Dataset):\n",
    "    def __init__(self, data_dict, batch_size=32, shuffle=False, num_workers=1):\n",
    "        self.data_dict = data_dict\n",
    "        self.keys = list(data_dict.keys())\n",
    "        self.iter = DataLoader(dataset=self, batch_size=batch_size, shuffle=shuffle, num_workers=num_workers)\n",
    "\n",
    "    def __getitem__(self, index):\n",
    "        return {k: self.data_dict[k][index] for k in self.keys}\n",
    "\n",
    "    def __len__(self):\n",
    "        return self.data_dict[\"SessionId\"].shape[0]\n",
    "\n",
    "class Vectorizer(object):\n",
    "\n",
    "    def fit_transform(self, x_train, window_y_train, y_train):\n",
    "        self.label_mapping = {eid: idx for idx, eid in enumerate(window_y_train.unique(), 2)}\n",
    "        self.label_mapping[\"#OOV\"] = 0\n",
    "        self.label_mapping[\"#Pad\"] = 1\n",
    "        self.num_labels = len(self.label_mapping)\n",
    "        return self.transform(x_train, window_y_train, y_train)\n",
    "\n",
    "    def transform(self, x, window_y, y):\n",
    "        x[\"EventSequence\"] = x[\"EventSequence\"].map(lambda x: [self.label_mapping.get(item, 0) for item in x])\n",
    "        window_y = window_y.map(lambda x: self.label_mapping.get(x, 0))\n",
    "        y = y\n",
    "        data_dict = {\"SessionId\": x[\"SessionId\"].values, \"window_y\": window_y.values, \"y\": y.values, \"x\": np.array(x[\"EventSequence\"].tolist())}\n",
    "        return data_dict\n",
    "        \n",
    "\n",
    "class FeatureExtractor(object):\n",
    "\n",
    "    def __init__(self):\n",
    "        self.idf_vec = None\n",
    "        self.mean_vec = None\n",
    "        self.events = None\n",
    "        self.term_weighting = None\n",
    "        self.normalization = None\n",
    "        self.oov = None\n",
    "\n",
    "    def fit_transform(self, X_seq, term_weighting=None, normalization=None, oov=False, min_count=1):\n",
    "        \"\"\" \n",
    "            Подгонка и преобразование матрицы данных\n",
    "        Аргументы\n",
    "        ---------\n",
    "            X_seq: ndarray, матрица лог-последовательностей\n",
    "            взвешивание_термина: Нет или `tf-idf`\n",
    "            нормализация: Нет или `zero-mean`\n",
    "            oov: bool, использовать ли OOV события\n",
    "            min_count: int, минимальное количество событий (по умолчанию 0), действительно только при oov=True.\n",
    "        Возвращает\n",
    "        -------\n",
    "            X_new: преобразованная матрица данных\n",
    "        \"\"\"\n",
    "        print('====== Transformed train data summary ======')\n",
    "        self.term_weighting = term_weighting\n",
    "        self.normalization = normalization\n",
    "        self.oov = oov\n",
    "\n",
    "        X_counts = []\n",
    "        for i in range(X_seq.shape[0]):\n",
    "            event_counts = Counter(X_seq[i])\n",
    "            X_counts.append(event_counts)\n",
    "        X_df = pd.DataFrame(X_counts)\n",
    "        X_df = X_df.fillna(0)\n",
    "        self.events = X_df.columns\n",
    "        X = X_df.values\n",
    "        if self.oov:\n",
    "            oov_vec = np.zeros(X.shape[0])\n",
    "            if min_count > 1:\n",
    "                idx = np.sum(X > 0, axis=0) >= min_count\n",
    "                oov_vec = np.sum(X[:, ~idx] > 0, axis=1)\n",
    "                X = X[:, idx]\n",
    "                self.events = np.array(X_df.columns)[idx].tolist()\n",
    "            X = np.hstack([X, oov_vec.reshape(X.shape[0], 1)])\n",
    "        \n",
    "        num_instance, num_event = X.shape\n",
    "        if self.term_weighting == 'tf-idf':\n",
    "            df_vec = np.sum(X > 0, axis=0)\n",
    "            self.idf_vec = np.log(num_instance / (df_vec + 1e-8))\n",
    "            idf_matrix = X * np.tile(self.idf_vec, (num_instance, 1)) \n",
    "            X = idf_matrix\n",
    "        if self.normalization == 'zero-mean':\n",
    "            mean_vec = X.mean(axis=0)\n",
    "            self.mean_vec = mean_vec.reshape(1, num_event)\n",
    "            X = X - np.tile(self.mean_vec, (num_instance, 1))\n",
    "        elif self.normalization == 'sigmoid':\n",
    "            X[X != 0] = expit(X[X != 0])\n",
    "        X_new = X\n",
    "        \n",
    "        print('Train data shape: {}-by-{}\\n'.format(X_new.shape[0], X_new.shape[1])) \n",
    "        return X_new\n",
    "\n",
    "    def transform(self, X_seq):\n",
    "        \"\"\" \n",
    "            Преобразование матрицы данных с обученными параметрами\n",
    "        Аргументы\n",
    "        ---------\n",
    "            X: матрица лог-последовательностей\n",
    "            взвешивание_термина: Нет или `tf-idf`.\n",
    "        Возвращает\n",
    "        -------\n",
    "            X_new: матрица преобразованных данных\n",
    "        \"\"\"\n",
    "        print('====== Transformed test data summary ======')\n",
    "        X_counts = []\n",
    "        for i in range(X_seq.shape[0]):\n",
    "            event_counts = Counter(X_seq[i])\n",
    "            X_counts.append(event_counts)\n",
    "        X_df = pd.DataFrame(X_counts)\n",
    "        X_df = X_df.fillna(0)\n",
    "        empty_events = set(self.events) - set(X_df.columns)\n",
    "        for event in empty_events:\n",
    "            X_df[event] = [0] * len(X_df)\n",
    "        X = X_df[self.events].values\n",
    "        if self.oov:\n",
    "            oov_vec = np.sum(X_df[X_df.columns.difference(self.events)].values > 0, axis=1)\n",
    "            X = np.hstack([X, oov_vec.reshape(X.shape[0], 1)])\n",
    "        \n",
    "        num_instance, num_event = X.shape\n",
    "        if self.term_weighting == 'tf-idf':\n",
    "            idf_matrix = X * np.tile(self.idf_vec, (num_instance, 1)) \n",
    "            X = idf_matrix\n",
    "        if self.normalization == 'zero-mean':\n",
    "            X = X - np.tile(self.mean_vec, (num_instance, 1))\n",
    "        elif self.normalization == 'sigmoid':\n",
    "            X[X != 0] = expit(X[X != 0])\n",
    "        X_new = X\n",
    "\n",
    "        print('Test data shape: {}-by-{}\\n'.format(X_new.shape[0], X_new.shape[1])) \n",
    "\n",
    "        return X_new"
   ]
  },
  {
   "cell_type": "code",
   "execution_count": 89,
   "id": "e4afd5c1",
   "metadata": {},
   "outputs": [],
   "source": [
    "def _split_data(x_data, y_data=None, train_ratio=0, split_type='uniform'): #uniform sequential\n",
    "    if split_type == 'uniform' and y_data is not None:\n",
    "        pos_idx = y_data > 0\n",
    "        x_pos = x_data[pos_idx]\n",
    "        y_pos = y_data[pos_idx]\n",
    "        x_neg = x_data[~pos_idx]\n",
    "        y_neg = y_data[~pos_idx]\n",
    "        train_pos = int(train_ratio * x_pos.shape[0])\n",
    "        train_neg = int(train_ratio * x_neg.shape[0])\n",
    "        x_train = np.hstack([x_pos[0:train_pos], x_neg[0:train_neg]])\n",
    "        y_train = np.hstack([y_pos[0:train_pos], y_neg[0:train_neg]])\n",
    "        x_test = np.hstack([x_pos[train_pos:], x_neg[train_neg:]])\n",
    "        y_test = np.hstack([y_pos[train_pos:], y_neg[train_neg:]])\n",
    "    elif split_type == 'sequential':\n",
    "        num_train = int(train_ratio * x_data.shape[0])\n",
    "        x_train = x_data[0:num_train]\n",
    "        x_test = x_data[num_train:]\n",
    "        if y_data is None:\n",
    "            y_train = None\n",
    "            y_test = None\n",
    "        else:\n",
    "            y_train = y_data[0:num_train]\n",
    "            y_test = y_data[num_train:]\n",
    "    # Random shuffle\n",
    "    indexes = shuffle(np.arange(x_train.shape[0]))\n",
    "    x_train = x_train[indexes]\n",
    "    if y_train is not None:\n",
    "        y_train = y_train[indexes]\n",
    "    return (x_train, y_train), (x_test, y_test)\n",
    "#--------------------------------------------------------------------------------------------\n",
    "def load_HDFS(log_file, label_file=None, window='session', train_ratio=0.5, split_type='sequential',\n",
    "              save_csv=False, window_size=0):\n",
    "    \n",
    "\n",
    "    print('====== Input data summary ======')\n",
    "\n",
    "#     if log_file.endswith('.npz'):\n",
    "#         # Split training and validation set in a class-uniform way\n",
    "#         data = np.load(log_file, allow_pickle=True)\n",
    "#         x_data = data['x_data']\n",
    "#         y_data = data['y_data']\n",
    "#         (x_train, y_train), (x_test, y_test) = _split_data(x_data, y_data, train_ratio, split_type)\n",
    "\n",
    "    if log_file.endswith('.csv'):\n",
    "        assert window == 'session', \"Only window=session is supported for HDFS dataset.\"\n",
    "        print(\"Loading\", log_file)\n",
    "        struct_log = pd.read_csv(log_file, engine='c',\n",
    "                na_filter=False, memory_map=True)\n",
    "        data_dict = OrderedDict()\n",
    "        for idx, row in struct_log.iterrows():\n",
    "            blkId_list = re.findall(r'(blk_-?\\d+)', row['Content'])\n",
    "            blkId_set = set(blkId_list)\n",
    "            for blk_Id in blkId_set:\n",
    "                if not blk_Id in data_dict:\n",
    "                    data_dict[blk_Id] = []\n",
    "                data_dict[blk_Id].append(row['EventId'])\n",
    "        data_df = pd.DataFrame(list(data_dict.items()), columns=['BlockId', 'EventSequence'])\n",
    "        \n",
    "        if label_file:\n",
    "            # Split training and validation set in a class-uniform way\n",
    "            label_data = pd.read_csv(label_file, engine='c', na_filter=False, memory_map=True)\n",
    "            label_data = label_data.set_index('BlockId')\n",
    "            label_dict = label_data['Label'].to_dict()\n",
    "            data_df['Label'] = data_df['BlockId'].apply(lambda x: 1 if label_dict[x] == 'Anomaly' else 0)\n",
    "\n",
    "            # Split train and test data\n",
    "            (x_train, y_train), (x_test, y_test) = _split_data(data_df['EventSequence'].values, \n",
    "                data_df['Label'].values, train_ratio, split_type)\n",
    "            print(y_train.sum(), y_test.sum())\n",
    "            \n",
    "\n",
    "#         if save_csv:\n",
    "#             data_df.to_csv('data_instances.csv', index=False)\n",
    "\n",
    "        if window_size > 0:\n",
    "            x_train, window_y_train, y_train = slice_hdfs(x_train, y_train, window_size)\n",
    "            x_test, window_y_test, y_test = slice_hdfs(x_test, y_test, window_size)\n",
    "            log = \"{} {} windows ({}/{} anomaly), {}/{} normal\"\n",
    "            print(log.format(\"Train:\", x_train.shape[0], y_train.sum(), y_train.shape[0], (1-y_train).sum(), y_train.shape[0]))\n",
    "            print(log.format(\"Test:\", x_test.shape[0], y_test.sum(), y_test.shape[0], (1-y_test).sum(), y_test.shape[0]))\n",
    "            return (x_train, window_y_train, y_train), (x_test, window_y_test, y_test)\n",
    "\n",
    "#         if label_file is None:\n",
    "#             if split_type == 'uniform':\n",
    "#                 split_type = 'sequential'\n",
    "#                 print('Warning: Only split_type=sequential is supported \\\n",
    "#                 if label_file=None.'.format(split_type))\n",
    "#             # Split training and validation set sequentially\n",
    "#             x_data = data_df['EventSequence'].values\n",
    "#             (x_train, _), (x_test, _) = _split_data(x_data, train_ratio=train_ratio, split_type=split_type)\n",
    "#             print('Total: {} instances, train: {} instances, test: {} instances'.format(\n",
    "#                   x_data.shape[0], x_train.shape[0], x_test.shape[0]))\n",
    "#             return (x_train, None), (x_test, None), data_df\n",
    "#     else:\n",
    "#         raise NotImplementedError('load_HDFS() only support csv and npz files!')\n",
    "\n",
    "    num_train = x_train.shape[0]\n",
    "    num_test = x_test.shape[0]\n",
    "    num_total = num_train + num_test\n",
    "    num_train_pos = sum(y_train)\n",
    "    num_test_pos = sum(y_test)\n",
    "    num_pos = num_train_pos + num_test_pos\n",
    "\n",
    "    print('Total: {} instances, {} anomaly, {} normal' \\\n",
    "          .format(num_total, num_pos, num_total - num_pos))\n",
    "    print('Train: {} instances, {} anomaly, {} normal' \\\n",
    "          .format(num_train, num_train_pos, num_train - num_train_pos))\n",
    "    print('Test: {} instances, {} anomaly, {} normal\\n' \\\n",
    "          .format(num_test, num_test_pos, num_test - num_test_pos))\n",
    "\n",
    "    return (x_train, y_train), (x_test, y_test)\n",
    "\n",
    "# def slice_hdfs(x, y, window_size):\n",
    "#     results_data = []\n",
    "#     print(\"Slicing {} sessions, with window {}\".format(x.shape[0], window_size))\n",
    "#     for idx, sequence in enumerate(x):\n",
    "#         seqlen = len(sequence)\n",
    "#         i = 0\n",
    "#         while (i + window_size) < seqlen:\n",
    "#             slice = sequence[i: i + window_size]\n",
    "#             results_data.append([idx, slice, sequence[i + window_size], y[idx]])\n",
    "#             i += 1\n",
    "#         else:\n",
    "#             slice = sequence[i: i + window_size]\n",
    "#             slice += [\"#Pad\"] * (window_size - len(slice))\n",
    "#             results_data.append([idx, slice, \"#Pad\", y[idx]])\n",
    "#     results_df = pd.DataFrame(results_data, columns=[\"SessionId\", \"EventSequence\", \"Label\", \"SessionLabel\"])\n",
    "#     print(\"Slicing done, {} windows generated\".format(results_df.shape[0]))\n",
    "#     return results_df[[\"SessionId\", \"EventSequence\"]], results_df[\"Label\"], results_df[\"SessionLabel\"]"
   ]
  },
  {
   "cell_type": "code",
   "execution_count": 91,
   "id": "2a6f9887",
   "metadata": {},
   "outputs": [],
   "source": [
    "struct_log = 'HDFS_100k.log_structured.csv' \n",
    "label_file = 'anomaly_label.csv'"
   ]
  },
  {
   "cell_type": "code",
   "execution_count": 92,
   "id": "484a47c2",
   "metadata": {},
   "outputs": [
    {
     "name": "stdout",
     "output_type": "stream",
     "text": [
      "====== Input data summary ======\n",
      "Loading HDFS_100k.log_structured.csv\n",
      "156 157\n",
      "Total: 7940 instances, 313 anomaly, 7627 normal\n",
      "Train: 3969 instances, 156 anomaly, 3813 normal\n",
      "Test: 3971 instances, 157 anomaly, 3814 normal\n",
      "\n"
     ]
    }
   ],
   "source": [
    "(x_train, y_train), (x_test, y_test) = load_HDFS(struct_log, label_file=label_file, window='session', \n",
    "                                                 train_ratio=0.5, split_type='uniform')"
   ]
  },
  {
   "cell_type": "code",
   "execution_count": 29,
   "id": "b4de0484",
   "metadata": {},
   "outputs": [
    {
     "data": {
      "text/plain": [
       "(3971,)"
      ]
     },
     "execution_count": 29,
     "metadata": {},
     "output_type": "execute_result"
    }
   ],
   "source": [
    "x_test.shape"
   ]
  },
  {
   "cell_type": "code",
   "execution_count": 4,
   "id": "309640ac",
   "metadata": {},
   "outputs": [],
   "source": [
    "#Попытка сделать с другим файлом\n",
    "data_new = np.load('HDFS.npz', allow_pickle=True)"
   ]
  },
  {
   "cell_type": "code",
   "execution_count": 14,
   "id": "5386ad35",
   "metadata": {},
   "outputs": [
    {
     "data": {
      "text/plain": [
       "(575061,)"
      ]
     },
     "execution_count": 14,
     "metadata": {},
     "output_type": "execute_result"
    }
   ],
   "source": [
    "x_data_new.shape"
   ]
  },
  {
   "cell_type": "code",
   "execution_count": 20,
   "id": "37a44f31",
   "metadata": {},
   "outputs": [],
   "source": [
    "x_data_new = data_new['x_data'][:100000]\n",
    "y_data_new = data_new['y_data'][:100000] #anomalii\n",
    "x_training_data, x_test_data, y_training_data, y_test_data = train_test_split(x_data_new, y_data_new, test_size = 0.3)"
   ]
  },
  {
   "cell_type": "code",
   "execution_count": 21,
   "id": "87f79f3b",
   "metadata": {},
   "outputs": [
    {
     "name": "stdout",
     "output_type": "stream",
     "text": [
      "====== Transformed train data summary ======\n",
      "Train data shape: 70000-by-28\n",
      "\n",
      "====== Transformed test data summary ======\n",
      "Test data shape: 30000-by-28\n",
      "\n"
     ]
    }
   ],
   "source": [
    "feature_extractor = FeatureExtractor()\n",
    "x_train_new = feature_extractor.fit_transform(x_training_data, term_weighting='tf-idf', normalization='zero-mean')\n",
    "x_test_new = feature_extractor.transform(x_test_data)"
   ]
  },
  {
   "cell_type": "code",
   "execution_count": 22,
   "id": "9fa69f70",
   "metadata": {},
   "outputs": [],
   "source": [
    "from sklearn import svm"
   ]
  },
  {
   "cell_type": "code",
   "execution_count": 23,
   "id": "fd6e77a4",
   "metadata": {},
   "outputs": [
    {
     "data": {
      "text/plain": [
       "SVC()"
      ]
     },
     "execution_count": 23,
     "metadata": {},
     "output_type": "execute_result"
    }
   ],
   "source": [
    "model_svm_new = svm.SVC()\n",
    "model_svm_new.fit(x_train_new, y_training_data)"
   ]
  },
  {
   "cell_type": "code",
   "execution_count": 24,
   "id": "8db13e2e",
   "metadata": {},
   "outputs": [],
   "source": [
    "from sklearn.metrics import f1_score, precision_score, recall_score, accuracy_score"
   ]
  },
  {
   "cell_type": "code",
   "execution_count": 25,
   "id": "1486cf3c",
   "metadata": {},
   "outputs": [
    {
     "data": {
      "text/plain": [
       "0.9888111888111888"
      ]
     },
     "execution_count": 25,
     "metadata": {},
     "output_type": "execute_result"
    }
   ],
   "source": [
    "precision_score(y_test_data, model_svm_new.predict(x_test_new))"
   ]
  },
  {
   "cell_type": "code",
   "execution_count": 26,
   "id": "5bf28cb6",
   "metadata": {},
   "outputs": [
    {
     "data": {
      "text/plain": [
       "0.8943706514864009"
      ]
     },
     "execution_count": 26,
     "metadata": {},
     "output_type": "execute_result"
    }
   ],
   "source": [
    "f1_score(y_test_data, model_svm_new.predict(x_test_new))"
   ]
  },
  {
   "cell_type": "code",
   "execution_count": 27,
   "id": "2634ac19",
   "metadata": {},
   "outputs": [
    {
     "data": {
      "text/plain": [
       "0.8163972286374134"
      ]
     },
     "execution_count": 27,
     "metadata": {},
     "output_type": "execute_result"
    }
   ],
   "source": [
    "recall_score(y_test_data, model_svm_new.predict(x_test_new))"
   ]
  },
  {
   "cell_type": "code",
   "execution_count": null,
   "id": "65044f8d",
   "metadata": {},
   "outputs": [],
   "source": []
  },
  {
   "cell_type": "code",
   "execution_count": null,
   "id": "9da9147d",
   "metadata": {},
   "outputs": [],
   "source": []
  },
  {
   "cell_type": "code",
   "execution_count": 39,
   "id": "bc3707c1",
   "metadata": {},
   "outputs": [
    {
     "name": "stdout",
     "output_type": "stream",
     "text": [
      "====== Transformed train data summary ======\n",
      "Train data shape: 3969-by-14\n",
      "\n",
      "====== Transformed test data summary ======\n",
      "Test data shape: 3971-by-14\n",
      "\n"
     ]
    }
   ],
   "source": [
    "feature_extractor = FeatureExtractor()\n",
    "x_train = feature_extractor.fit_transform(x_train, term_weighting='tf-idf', normalization='zero-mean')\n",
    "x_test = feature_extractor.transform(x_test)\n",
    "\n",
    "# model = PCA()\n",
    "# model.fit(x_train)"
   ]
  },
  {
   "cell_type": "code",
   "execution_count": 44,
   "id": "53b22c36",
   "metadata": {},
   "outputs": [
    {
     "data": {
      "text/plain": [
       "SVC()"
      ]
     },
     "execution_count": 44,
     "metadata": {},
     "output_type": "execute_result"
    }
   ],
   "source": [
    "#feature_extractor = FeatureExtractor()\n",
    "#x_train_data = feature_extractor.fit_transform(x_train, term_weighting='tf-idf')\n",
    "\n",
    "model_svm = svm.SVC()\n",
    "model_svm.fit(x_train, y_train)"
   ]
  },
  {
   "cell_type": "code",
   "execution_count": 54,
   "id": "afae24f2",
   "metadata": {},
   "outputs": [
    {
     "data": {
      "text/plain": [
       "1.0"
      ]
     },
     "execution_count": 54,
     "metadata": {},
     "output_type": "execute_result"
    }
   ],
   "source": [
    "precision_score(y_test, model_svm.predict(x_test))"
   ]
  },
  {
   "cell_type": "code",
   "execution_count": 55,
   "id": "4645cfb0",
   "metadata": {},
   "outputs": [
    {
     "data": {
      "text/plain": [
       "0.9697809116091665"
      ]
     },
     "execution_count": 55,
     "metadata": {},
     "output_type": "execute_result"
    }
   ],
   "source": [
    "accuracy_score(y_test, model_svm.predict(x_test))"
   ]
  },
  {
   "cell_type": "code",
   "execution_count": 56,
   "id": "31580dda",
   "metadata": {},
   "outputs": [
    {
     "data": {
      "text/plain": [
       "0.2356687898089172"
      ]
     },
     "execution_count": 56,
     "metadata": {},
     "output_type": "execute_result"
    }
   ],
   "source": [
    "recall_score(y_test, model_svm.predict(x_test))"
   ]
  },
  {
   "cell_type": "code",
   "execution_count": 57,
   "id": "2b744383",
   "metadata": {
    "scrolled": true
   },
   "outputs": [
    {
     "data": {
      "text/plain": [
       "0.3814432989690722"
      ]
     },
     "execution_count": 57,
     "metadata": {},
     "output_type": "execute_result"
    }
   ],
   "source": [
    "f1_score(y_test, model_svm.predict(x_test))"
   ]
  },
  {
   "cell_type": "code",
   "execution_count": 58,
   "id": "34562df9",
   "metadata": {},
   "outputs": [],
   "source": [
    "from sklearn.tree import DecisionTreeClassifier"
   ]
  },
  {
   "cell_type": "code",
   "execution_count": 60,
   "id": "2d997b81",
   "metadata": {},
   "outputs": [
    {
     "data": {
      "text/plain": [
       "DecisionTreeClassifier()"
      ]
     },
     "execution_count": 60,
     "metadata": {},
     "output_type": "execute_result"
    }
   ],
   "source": [
    "model = DecisionTreeClassifier()#DecisionTree()\n",
    "model.fit(x_train, y_train)"
   ]
  },
  {
   "cell_type": "code",
   "execution_count": 66,
   "id": "669aaf01",
   "metadata": {},
   "outputs": [],
   "source": [
    "# from sklearn import tree\n",
    "# model_dt = DecisionTree()\n",
    "# model_dt.fit(x_train, y_train)"
   ]
  },
  {
   "cell_type": "code",
   "execution_count": 61,
   "id": "137dced4",
   "metadata": {},
   "outputs": [
    {
     "data": {
      "text/plain": [
       "0.9852941176470589"
      ]
     },
     "execution_count": 61,
     "metadata": {},
     "output_type": "execute_result"
    }
   ],
   "source": [
    "precision_score(y_test, model.predict(x_test))"
   ]
  },
  {
   "cell_type": "code",
   "execution_count": 62,
   "id": "c64785a2",
   "metadata": {},
   "outputs": [
    {
     "data": {
      "text/plain": [
       "0.9770838579702845"
      ]
     },
     "execution_count": 62,
     "metadata": {},
     "output_type": "execute_result"
    }
   ],
   "source": [
    "accuracy_score(y_test, model.predict(x_test))"
   ]
  },
  {
   "cell_type": "code",
   "execution_count": 63,
   "id": "7615f6d2",
   "metadata": {},
   "outputs": [
    {
     "data": {
      "text/plain": [
       "0.4267515923566879"
      ]
     },
     "execution_count": 63,
     "metadata": {},
     "output_type": "execute_result"
    }
   ],
   "source": [
    "recall_score(y_test, model.predict(x_test))"
   ]
  },
  {
   "cell_type": "code",
   "execution_count": 64,
   "id": "fa83d5f2",
   "metadata": {},
   "outputs": [
    {
     "data": {
      "text/plain": [
       "0.5955555555555555"
      ]
     },
     "execution_count": 64,
     "metadata": {},
     "output_type": "execute_result"
    }
   ],
   "source": [
    "f1_score(y_test, model.predict(x_test))"
   ]
  },
  {
   "cell_type": "code",
   "execution_count": 67,
   "id": "b97ecc26",
   "metadata": {},
   "outputs": [],
   "source": [
    "from sklearn.neighbors import KNeighborsClassifier"
   ]
  },
  {
   "cell_type": "code",
   "execution_count": 83,
   "id": "9920a9cb",
   "metadata": {},
   "outputs": [
    {
     "data": {
      "text/plain": [
       "KNeighborsClassifier()"
      ]
     },
     "execution_count": 83,
     "metadata": {},
     "output_type": "execute_result"
    }
   ],
   "source": [
    "model_kn = KNeighborsClassifier(n_neighbors=5)\n",
    "model_kn.fit(x_train, y_train)"
   ]
  },
  {
   "cell_type": "code",
   "execution_count": 84,
   "id": "15671680",
   "metadata": {},
   "outputs": [
    {
     "data": {
      "text/plain": [
       "0.9855072463768116"
      ]
     },
     "execution_count": 84,
     "metadata": {},
     "output_type": "execute_result"
    }
   ],
   "source": [
    "precision_score(y_test, model_kn.predict(x_test))"
   ]
  },
  {
   "cell_type": "code",
   "execution_count": 85,
   "id": "c283146a",
   "metadata": {},
   "outputs": [
    {
     "data": {
      "text/plain": [
       "0.9773356837068748"
      ]
     },
     "execution_count": 85,
     "metadata": {},
     "output_type": "execute_result"
    }
   ],
   "source": [
    "accuracy_score(y_test, model_kn.predict(x_test))"
   ]
  },
  {
   "cell_type": "code",
   "execution_count": 86,
   "id": "d8f587ac",
   "metadata": {},
   "outputs": [
    {
     "data": {
      "text/plain": [
       "0.43312101910828027"
      ]
     },
     "execution_count": 86,
     "metadata": {},
     "output_type": "execute_result"
    }
   ],
   "source": [
    "recall_score(y_test, model_kn.predict(x_test))"
   ]
  },
  {
   "cell_type": "code",
   "execution_count": 87,
   "id": "27f40d6f",
   "metadata": {},
   "outputs": [
    {
     "data": {
      "text/plain": [
       "0.6017699115044248"
      ]
     },
     "execution_count": 87,
     "metadata": {},
     "output_type": "execute_result"
    }
   ],
   "source": [
    "f1_score(y_test, model_kn.predict(x_test))"
   ]
  },
  {
   "cell_type": "code",
   "execution_count": null,
   "id": "a8cc36a7",
   "metadata": {},
   "outputs": [],
   "source": [
    "from sklearn.cluster import DBSCAN\n",
    "from sklearn.cluster import MeanShift\n",
    "\n",
    "from sklearn.manifold import TSNE\n",
    "from sklearn.decomposition import PCA"
   ]
  },
  {
   "cell_type": "code",
   "execution_count": null,
   "id": "07866bf9",
   "metadata": {},
   "outputs": [],
   "source": [
    "X_after_tsne = TSNE(n_components=2, random_state=15).fit_transform(anomalii)"
   ]
  },
  {
   "cell_type": "code",
   "execution_count": null,
   "id": "fe1c4028",
   "metadata": {},
   "outputs": [],
   "source": [
    "X_after_pca = PCA(n_components=2, random_state=15).fit_transform(anomalii)"
   ]
  },
  {
   "cell_type": "code",
   "execution_count": null,
   "id": "759527ff",
   "metadata": {},
   "outputs": [],
   "source": []
  },
  {
   "cell_type": "code",
   "execution_count": null,
   "id": "8a56fbe1",
   "metadata": {},
   "outputs": [],
   "source": [
    "plt.style.use('default')\n",
    "X_axis = []\n",
    "Y_axis = []\n",
    "for i in range(X_after_tsne.shape[0]):\n",
    "    X_axis.append(X_after_tsne[i][0])\n",
    "    Y_axis.append(X_after_tsne[i][1])\n",
    "plt.figure(figsize=(16,10))\n",
    "plt.scatter(x=X_axis, y=Y_axis, c=clustering.labels_);"
   ]
  },
  {
   "cell_type": "code",
   "execution_count": null,
   "id": "988b7806",
   "metadata": {},
   "outputs": [],
   "source": [
    "plt.style.use('default')\n",
    "X_axis = []\n",
    "Y_axis = []\n",
    "for i in range(X_after_tsne.shape[0]):\n",
    "    X_axis.append(X_after_tsne[i][0])\n",
    "    Y_axis.append(X_after_tsne[i][1])\n",
    "plt.figure(figsize=(16,10))\n",
    "plt.scatter(x=X_axis, y=Y_axis, c=clustering_msh.labels_);"
   ]
  },
  {
   "cell_type": "code",
   "execution_count": null,
   "id": "cf20c6ec",
   "metadata": {},
   "outputs": [],
   "source": []
  },
  {
   "cell_type": "code",
   "execution_count": 90,
   "id": "bb4ff7f2",
   "metadata": {},
   "outputs": [],
   "source": [
    "data_df = pd.DataFrame(model.predict(x_test))"
   ]
  },
  {
   "cell_type": "code",
   "execution_count": 91,
   "id": "ec01c7ca",
   "metadata": {},
   "outputs": [
    {
     "data": {
      "text/html": [
       "<div>\n",
       "<style scoped>\n",
       "    .dataframe tbody tr th:only-of-type {\n",
       "        vertical-align: middle;\n",
       "    }\n",
       "\n",
       "    .dataframe tbody tr th {\n",
       "        vertical-align: top;\n",
       "    }\n",
       "\n",
       "    .dataframe thead th {\n",
       "        text-align: right;\n",
       "    }\n",
       "</style>\n",
       "<table border=\"1\" class=\"dataframe\">\n",
       "  <thead>\n",
       "    <tr style=\"text-align: right;\">\n",
       "      <th></th>\n",
       "      <th>0</th>\n",
       "    </tr>\n",
       "  </thead>\n",
       "  <tbody>\n",
       "    <tr>\n",
       "      <th>0</th>\n",
       "      <td>0</td>\n",
       "    </tr>\n",
       "    <tr>\n",
       "      <th>1</th>\n",
       "      <td>0</td>\n",
       "    </tr>\n",
       "    <tr>\n",
       "      <th>2</th>\n",
       "      <td>1</td>\n",
       "    </tr>\n",
       "    <tr>\n",
       "      <th>3</th>\n",
       "      <td>0</td>\n",
       "    </tr>\n",
       "    <tr>\n",
       "      <th>4</th>\n",
       "      <td>1</td>\n",
       "    </tr>\n",
       "    <tr>\n",
       "      <th>...</th>\n",
       "      <td>...</td>\n",
       "    </tr>\n",
       "    <tr>\n",
       "      <th>3966</th>\n",
       "      <td>0</td>\n",
       "    </tr>\n",
       "    <tr>\n",
       "      <th>3967</th>\n",
       "      <td>0</td>\n",
       "    </tr>\n",
       "    <tr>\n",
       "      <th>3968</th>\n",
       "      <td>0</td>\n",
       "    </tr>\n",
       "    <tr>\n",
       "      <th>3969</th>\n",
       "      <td>0</td>\n",
       "    </tr>\n",
       "    <tr>\n",
       "      <th>3970</th>\n",
       "      <td>0</td>\n",
       "    </tr>\n",
       "  </tbody>\n",
       "</table>\n",
       "<p>3971 rows × 1 columns</p>\n",
       "</div>"
      ],
      "text/plain": [
       "      0\n",
       "0     0\n",
       "1     0\n",
       "2     1\n",
       "3     0\n",
       "4     1\n",
       "...  ..\n",
       "3966  0\n",
       "3967  0\n",
       "3968  0\n",
       "3969  0\n",
       "3970  0\n",
       "\n",
       "[3971 rows x 1 columns]"
      ]
     },
     "execution_count": 91,
     "metadata": {},
     "output_type": "execute_result"
    }
   ],
   "source": [
    "data_df"
   ]
  },
  {
   "cell_type": "code",
   "execution_count": null,
   "id": "31a895fc",
   "metadata": {},
   "outputs": [],
   "source": []
  },
  {
   "cell_type": "code",
   "execution_count": null,
   "id": "80a87948",
   "metadata": {},
   "outputs": [],
   "source": []
  },
  {
   "cell_type": "code",
   "execution_count": null,
   "id": "d1c65288",
   "metadata": {},
   "outputs": [],
   "source": [
    "df = pd.read_csv('HDFS_100k.log_structured.csv')"
   ]
  },
  {
   "cell_type": "code",
   "execution_count": null,
   "id": "935c23e5",
   "metadata": {},
   "outputs": [],
   "source": [
    "anomal = pd.read_csv('anomaly_label.csv')"
   ]
  },
  {
   "cell_type": "code",
   "execution_count": null,
   "id": "d0058947",
   "metadata": {},
   "outputs": [],
   "source": []
  },
  {
   "cell_type": "code",
   "execution_count": null,
   "id": "53ec0788",
   "metadata": {},
   "outputs": [],
   "source": []
  },
  {
   "cell_type": "code",
   "execution_count": null,
   "id": "c41a969b",
   "metadata": {},
   "outputs": [],
   "source": []
  },
  {
   "cell_type": "code",
   "execution_count": null,
   "id": "2ecd3462",
   "metadata": {},
   "outputs": [],
   "source": [
    "data = pd.merge(result_df, labels_df, on='Content')"
   ]
  },
  {
   "cell_type": "code",
   "execution_count": null,
   "id": "1283593c",
   "metadata": {},
   "outputs": [],
   "source": [
    "data.drop('Date', axis=1, inplace=True)"
   ]
  },
  {
   "cell_type": "code",
   "execution_count": null,
   "id": "eddab319",
   "metadata": {},
   "outputs": [],
   "source": [
    "data.Time = data.Time - data.Time[0]"
   ]
  },
  {
   "cell_type": "code",
   "execution_count": 48,
   "id": "ae2eb63d",
   "metadata": {},
   "outputs": [],
   "source": [
    "encod = {\n",
    "    'Normal' : 0,\n",
    "    'Anomaly': 1\n",
    "}"
   ]
  },
  {
   "cell_type": "code",
   "execution_count": 50,
   "id": "0cf812d0",
   "metadata": {},
   "outputs": [],
   "source": [
    "one_hot_labels = OneHotEncoder().fit_transform(data.Label.to_numpy().reshape(-1, 1))"
   ]
  },
  {
   "cell_type": "code",
   "execution_count": 51,
   "id": "e5151be9",
   "metadata": {
    "scrolled": false
   },
   "outputs": [
    {
     "data": {
      "text/plain": [
       "array([[0., 1.],\n",
       "       [0., 1.],\n",
       "       [0., 1.],\n",
       "       ...,\n",
       "       [1., 0.],\n",
       "       [1., 0.],\n",
       "       [1., 0.]])"
      ]
     },
     "execution_count": 51,
     "metadata": {},
     "output_type": "execute_result"
    }
   ],
   "source": [
    "one_hot_labels.toarray()"
   ]
  },
  {
   "cell_type": "code",
   "execution_count": 52,
   "id": "13cd4a34",
   "metadata": {
    "scrolled": true
   },
   "outputs": [
    {
     "data": {
      "text/html": [
       "<div>\n",
       "<style scoped>\n",
       "    .dataframe tbody tr th:only-of-type {\n",
       "        vertical-align: middle;\n",
       "    }\n",
       "\n",
       "    .dataframe tbody tr th {\n",
       "        vertical-align: top;\n",
       "    }\n",
       "\n",
       "    .dataframe thead th {\n",
       "        text-align: right;\n",
       "    }\n",
       "</style>\n",
       "<table border=\"1\" class=\"dataframe\">\n",
       "  <thead>\n",
       "    <tr style=\"text-align: right;\">\n",
       "      <th></th>\n",
       "      <th>Time</th>\n",
       "      <th>Content</th>\n",
       "      <th>EventId</th>\n",
       "      <th>0</th>\n",
       "      <th>1</th>\n",
       "    </tr>\n",
       "  </thead>\n",
       "  <tbody>\n",
       "    <tr>\n",
       "      <th>0</th>\n",
       "      <td>0</td>\n",
       "      <td>blk_-1608999687919862906</td>\n",
       "      <td>E5</td>\n",
       "      <td>0.0</td>\n",
       "      <td>1.0</td>\n",
       "    </tr>\n",
       "    <tr>\n",
       "      <th>1</th>\n",
       "      <td>0</td>\n",
       "      <td>blk_-1608999687919862906</td>\n",
       "      <td>E22</td>\n",
       "      <td>0.0</td>\n",
       "      <td>1.0</td>\n",
       "    </tr>\n",
       "    <tr>\n",
       "      <th>2</th>\n",
       "      <td>1</td>\n",
       "      <td>blk_-1608999687919862906</td>\n",
       "      <td>E5</td>\n",
       "      <td>0.0</td>\n",
       "      <td>1.0</td>\n",
       "    </tr>\n",
       "    <tr>\n",
       "      <th>3</th>\n",
       "      <td>1</td>\n",
       "      <td>blk_-1608999687919862906</td>\n",
       "      <td>E5</td>\n",
       "      <td>0.0</td>\n",
       "      <td>1.0</td>\n",
       "    </tr>\n",
       "    <tr>\n",
       "      <th>4</th>\n",
       "      <td>1</td>\n",
       "      <td>blk_-1608999687919862906</td>\n",
       "      <td>E11</td>\n",
       "      <td>0.0</td>\n",
       "      <td>1.0</td>\n",
       "    </tr>\n",
       "    <tr>\n",
       "      <th>...</th>\n",
       "      <td>...</td>\n",
       "      <td>...</td>\n",
       "      <td>...</td>\n",
       "      <td>...</td>\n",
       "      <td>...</td>\n",
       "    </tr>\n",
       "    <tr>\n",
       "      <th>104810</th>\n",
       "      <td>1493</td>\n",
       "      <td>blk_8909107483987085802</td>\n",
       "      <td>E11</td>\n",
       "      <td>1.0</td>\n",
       "      <td>0.0</td>\n",
       "    </tr>\n",
       "    <tr>\n",
       "      <th>104811</th>\n",
       "      <td>1493</td>\n",
       "      <td>blk_8909107483987085802</td>\n",
       "      <td>E9</td>\n",
       "      <td>1.0</td>\n",
       "      <td>0.0</td>\n",
       "    </tr>\n",
       "    <tr>\n",
       "      <th>104812</th>\n",
       "      <td>1494</td>\n",
       "      <td>blk_8909107483987085802</td>\n",
       "      <td>E26</td>\n",
       "      <td>1.0</td>\n",
       "      <td>0.0</td>\n",
       "    </tr>\n",
       "    <tr>\n",
       "      <th>104813</th>\n",
       "      <td>1494</td>\n",
       "      <td>blk_8909107483987085802</td>\n",
       "      <td>E11</td>\n",
       "      <td>1.0</td>\n",
       "      <td>0.0</td>\n",
       "    </tr>\n",
       "    <tr>\n",
       "      <th>104814</th>\n",
       "      <td>1494</td>\n",
       "      <td>blk_8909107483987085802</td>\n",
       "      <td>E9</td>\n",
       "      <td>1.0</td>\n",
       "      <td>0.0</td>\n",
       "    </tr>\n",
       "  </tbody>\n",
       "</table>\n",
       "<p>104815 rows × 5 columns</p>\n",
       "</div>"
      ],
      "text/plain": [
       "        Time                   Content EventId    0    1\n",
       "0          0  blk_-1608999687919862906      E5  0.0  1.0\n",
       "1          0  blk_-1608999687919862906     E22  0.0  1.0\n",
       "2          1  blk_-1608999687919862906      E5  0.0  1.0\n",
       "3          1  blk_-1608999687919862906      E5  0.0  1.0\n",
       "4          1  blk_-1608999687919862906     E11  0.0  1.0\n",
       "...      ...                       ...     ...  ...  ...\n",
       "104810  1493   blk_8909107483987085802     E11  1.0  0.0\n",
       "104811  1493   blk_8909107483987085802      E9  1.0  0.0\n",
       "104812  1494   blk_8909107483987085802     E26  1.0  0.0\n",
       "104813  1494   blk_8909107483987085802     E11  1.0  0.0\n",
       "104814  1494   blk_8909107483987085802      E9  1.0  0.0\n",
       "\n",
       "[104815 rows x 5 columns]"
      ]
     },
     "execution_count": 52,
     "metadata": {},
     "output_type": "execute_result"
    }
   ],
   "source": [
    "data = pd.concat([data, pd.DataFrame(one_hot_labels.toarray())], axis=1)\n",
    "data.drop('Label', axis=1)"
   ]
  },
  {
   "cell_type": "code",
   "execution_count": 53,
   "id": "802aff98",
   "metadata": {
    "scrolled": true
   },
   "outputs": [
    {
     "data": {
      "text/html": [
       "<div>\n",
       "<style scoped>\n",
       "    .dataframe tbody tr th:only-of-type {\n",
       "        vertical-align: middle;\n",
       "    }\n",
       "\n",
       "    .dataframe tbody tr th {\n",
       "        vertical-align: top;\n",
       "    }\n",
       "\n",
       "    .dataframe thead th {\n",
       "        text-align: right;\n",
       "    }\n",
       "</style>\n",
       "<table border=\"1\" class=\"dataframe\">\n",
       "  <thead>\n",
       "    <tr style=\"text-align: right;\">\n",
       "      <th></th>\n",
       "      <th>Time</th>\n",
       "      <th>Content</th>\n",
       "      <th>EventId</th>\n",
       "      <th>Label</th>\n",
       "      <th>0</th>\n",
       "      <th>1</th>\n",
       "    </tr>\n",
       "  </thead>\n",
       "  <tbody>\n",
       "    <tr>\n",
       "      <th>0</th>\n",
       "      <td>0</td>\n",
       "      <td>blk_-1608999687919862906</td>\n",
       "      <td>E5</td>\n",
       "      <td>Normal</td>\n",
       "      <td>0.0</td>\n",
       "      <td>1.0</td>\n",
       "    </tr>\n",
       "    <tr>\n",
       "      <th>1</th>\n",
       "      <td>0</td>\n",
       "      <td>blk_-1608999687919862906</td>\n",
       "      <td>E22</td>\n",
       "      <td>Normal</td>\n",
       "      <td>0.0</td>\n",
       "      <td>1.0</td>\n",
       "    </tr>\n",
       "    <tr>\n",
       "      <th>2</th>\n",
       "      <td>1</td>\n",
       "      <td>blk_-1608999687919862906</td>\n",
       "      <td>E5</td>\n",
       "      <td>Normal</td>\n",
       "      <td>0.0</td>\n",
       "      <td>1.0</td>\n",
       "    </tr>\n",
       "    <tr>\n",
       "      <th>3</th>\n",
       "      <td>1</td>\n",
       "      <td>blk_-1608999687919862906</td>\n",
       "      <td>E5</td>\n",
       "      <td>Normal</td>\n",
       "      <td>0.0</td>\n",
       "      <td>1.0</td>\n",
       "    </tr>\n",
       "    <tr>\n",
       "      <th>4</th>\n",
       "      <td>1</td>\n",
       "      <td>blk_-1608999687919862906</td>\n",
       "      <td>E11</td>\n",
       "      <td>Normal</td>\n",
       "      <td>0.0</td>\n",
       "      <td>1.0</td>\n",
       "    </tr>\n",
       "    <tr>\n",
       "      <th>...</th>\n",
       "      <td>...</td>\n",
       "      <td>...</td>\n",
       "      <td>...</td>\n",
       "      <td>...</td>\n",
       "      <td>...</td>\n",
       "      <td>...</td>\n",
       "    </tr>\n",
       "    <tr>\n",
       "      <th>104810</th>\n",
       "      <td>1493</td>\n",
       "      <td>blk_8909107483987085802</td>\n",
       "      <td>E11</td>\n",
       "      <td>Anomaly</td>\n",
       "      <td>1.0</td>\n",
       "      <td>0.0</td>\n",
       "    </tr>\n",
       "    <tr>\n",
       "      <th>104811</th>\n",
       "      <td>1493</td>\n",
       "      <td>blk_8909107483987085802</td>\n",
       "      <td>E9</td>\n",
       "      <td>Anomaly</td>\n",
       "      <td>1.0</td>\n",
       "      <td>0.0</td>\n",
       "    </tr>\n",
       "    <tr>\n",
       "      <th>104812</th>\n",
       "      <td>1494</td>\n",
       "      <td>blk_8909107483987085802</td>\n",
       "      <td>E26</td>\n",
       "      <td>Anomaly</td>\n",
       "      <td>1.0</td>\n",
       "      <td>0.0</td>\n",
       "    </tr>\n",
       "    <tr>\n",
       "      <th>104813</th>\n",
       "      <td>1494</td>\n",
       "      <td>blk_8909107483987085802</td>\n",
       "      <td>E11</td>\n",
       "      <td>Anomaly</td>\n",
       "      <td>1.0</td>\n",
       "      <td>0.0</td>\n",
       "    </tr>\n",
       "    <tr>\n",
       "      <th>104814</th>\n",
       "      <td>1494</td>\n",
       "      <td>blk_8909107483987085802</td>\n",
       "      <td>E9</td>\n",
       "      <td>Anomaly</td>\n",
       "      <td>1.0</td>\n",
       "      <td>0.0</td>\n",
       "    </tr>\n",
       "  </tbody>\n",
       "</table>\n",
       "<p>104815 rows × 6 columns</p>\n",
       "</div>"
      ],
      "text/plain": [
       "        Time                   Content EventId    Label    0    1\n",
       "0          0  blk_-1608999687919862906      E5   Normal  0.0  1.0\n",
       "1          0  blk_-1608999687919862906     E22   Normal  0.0  1.0\n",
       "2          1  blk_-1608999687919862906      E5   Normal  0.0  1.0\n",
       "3          1  blk_-1608999687919862906      E5   Normal  0.0  1.0\n",
       "4          1  blk_-1608999687919862906     E11   Normal  0.0  1.0\n",
       "...      ...                       ...     ...      ...  ...  ...\n",
       "104810  1493   blk_8909107483987085802     E11  Anomaly  1.0  0.0\n",
       "104811  1493   blk_8909107483987085802      E9  Anomaly  1.0  0.0\n",
       "104812  1494   blk_8909107483987085802     E26  Anomaly  1.0  0.0\n",
       "104813  1494   blk_8909107483987085802     E11  Anomaly  1.0  0.0\n",
       "104814  1494   blk_8909107483987085802      E9  Anomaly  1.0  0.0\n",
       "\n",
       "[104815 rows x 6 columns]"
      ]
     },
     "execution_count": 53,
     "metadata": {},
     "output_type": "execute_result"
    }
   ],
   "source": [
    "data"
   ]
  },
  {
   "cell_type": "code",
   "execution_count": 66,
   "id": "39a28895",
   "metadata": {},
   "outputs": [
    {
     "data": {
      "text/plain": [
       "<AxesSubplot:xlabel='time', ylabel='кол-во'>"
      ]
     },
     "execution_count": 66,
     "metadata": {},
     "output_type": "execute_result"
    },
    {
     "data": {
      "text/plain": [
       "<Figure size 1152x576 with 0 Axes>"
      ]
     },
     "metadata": {},
     "output_type": "display_data"
    },
    {
     "data": {
      "image/png": "[encoded data removed]",
      "text/plain": [
       "<Figure size 1152x576 with 1 Axes>"
      ]
     },
     "metadata": {
      "needs_background": "light"
     },
     "output_type": "display_data"
    }
   ],
   "source": [
    "to_plot = data.groupby('Time', as_index=False).sum()\n",
    "to_plot.columns = ['time', 'norm', 'anom']\n",
    "plt.figure(figsize=(16,8))\n",
    "to_plot.plot(x='time',ylabel='кол-во', figsize=(16,8))"
   ]
  },
  {
   "cell_type": "code",
   "execution_count": 61,
   "id": "aa1c7aec",
   "metadata": {},
   "outputs": [
    {
     "data": {
      "text/plain": [
       "<AxesSubplot:xlabel='time', ylabel='кол-во'>"
      ]
     },
     "execution_count": 61,
     "metadata": {},
     "output_type": "execute_result"
    },
    {
     "data": {
      "text/plain": [
       "<Figure size 1152x576 with 0 Axes>"
      ]
     },
     "metadata": {},
     "output_type": "display_data"
    },
    {
     "data": {
      "image/png": "[encoded data removed]",
      "text/plain": [
       "<Figure size 1152x576 with 1 Axes>"
      ]
     },
     "metadata": {
      "needs_background": "light"
     },
     "output_type": "display_data"
    }
   ],
   "source": [
    "to_plot['all'] = to_plot.norm + to_plot.anom\n",
    "\n",
    "to_plot_all = to_plot.drop(['norm', 'anom'], axis=1)\n",
    "\n",
    "plt.figure(figsize=(16,8))\n",
    "to_plot_all.plot(x='time',ylabel='кол-во', figsize=(16,8))"
   ]
  }
 ],
 "metadata": {
  "kernelspec": {
   "display_name": "Python 3 (ipykernel)",
   "language": "python",
   "name": "python3"
  },
  "language_info": {
   "codemirror_mode": {
    "name": "ipython",
    "version": 3
   },
   "file_extension": ".py",
   "mimetype": "text/x-python",
   "name": "python",
   "nbconvert_exporter": "python",
   "pygments_lexer": "ipython3",
   "version": "3.9.7"
  }
 },
 "nbformat": 4,
 "nbformat_minor": 5
}
