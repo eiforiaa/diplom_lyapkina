{
 "cells": [
  {
   "cell_type": "code",
   "execution_count": 1,
   "id": "a9a9d38c",
   "metadata": {},
   "outputs": [],
   "source": [
    "import numpy as np\n",
    "import pandas as pd\n",
    "from sklearn.metrics import f1_score\n",
    "from sklearn.model_selection import train_test_split\n",
    "import matplotlib.pyplot as plt\n",
    "import seaborn as sns\n",
    "import re\n",
    "from sklearn.preprocessing import OneHotEncoder\n",
    "from sklearn.model_selection import train_test_split\n",
    "import os\n",
    "from sklearn.utils import shuffle\n",
    "from collections import OrderedDict\n",
    "from collections import Counter\n",
    "from scipy.special import expit\n",
    "from itertools import compress\n",
    "from torch.utils.data import DataLoader, Dataset\n",
    "import seaborn as sns\n",
    "import matplotlib.pyplot as plt"
   ]
  },
  {
   "cell_type": "markdown",
   "id": "e6c462ed",
   "metadata": {},
   "source": [
    "Первичный анализ данных"
   ]
  },
  {
   "cell_type": "code",
   "execution_count": 2,
   "id": "f9d94daf",
   "metadata": {},
   "outputs": [],
   "source": [
    "hdfs_data= pd.read_csv('HDFS_100k.log_structured.csv')"
   ]
  },
  {
   "cell_type": "code",
   "execution_count": 3,
   "id": "dbe996be",
   "metadata": {
    "scrolled": true
   },
   "outputs": [],
   "source": [
    "anomaly_labels = pd.read_csv('anomaly_label.csv')"
   ]
  },
  {
   "cell_type": "code",
   "execution_count": 4,
   "id": "d3e3c09c",
   "metadata": {},
   "outputs": [
    {
     "name": "stdout",
     "output_type": "stream",
     "text": [
      "<class 'pandas.core.frame.DataFrame'>\n",
      "RangeIndex: 104815 entries, 0 to 104814\n",
      "Data columns (total 9 columns):\n",
      " #   Column         Non-Null Count   Dtype \n",
      "---  ------         --------------   ----- \n",
      " 0   LineId         104815 non-null  int64 \n",
      " 1   Date           104815 non-null  int64 \n",
      " 2   Time           104815 non-null  int64 \n",
      " 3   Pid            104815 non-null  int64 \n",
      " 4   Level          104815 non-null  object\n",
      " 5   Component      104815 non-null  object\n",
      " 6   Content        104815 non-null  object\n",
      " 7   EventId        104815 non-null  object\n",
      " 8   EventTemplate  104815 non-null  object\n",
      "dtypes: int64(4), object(5)\n",
      "memory usage: 7.2+ MB\n"
     ]
    }
   ],
   "source": [
    "hdfs_data.info()"
   ]
  },
  {
   "cell_type": "code",
   "execution_count": 5,
   "id": "ff5ae96b",
   "metadata": {},
   "outputs": [
    {
     "data": {
      "text/html": [
       "<div>\n",
       "<style scoped>\n",
       "    .dataframe tbody tr th:only-of-type {\n",
       "        vertical-align: middle;\n",
       "    }\n",
       "\n",
       "    .dataframe tbody tr th {\n",
       "        vertical-align: top;\n",
       "    }\n",
       "\n",
       "    .dataframe thead th {\n",
       "        text-align: right;\n",
       "    }\n",
       "</style>\n",
       "<table border=\"1\" class=\"dataframe\">\n",
       "  <thead>\n",
       "    <tr style=\"text-align: right;\">\n",
       "      <th></th>\n",
       "      <th>LineId</th>\n",
       "      <th>Date</th>\n",
       "      <th>Time</th>\n",
       "      <th>Pid</th>\n",
       "      <th>Level</th>\n",
       "      <th>Component</th>\n",
       "      <th>Content</th>\n",
       "      <th>EventId</th>\n",
       "      <th>EventTemplate</th>\n",
       "    </tr>\n",
       "  </thead>\n",
       "  <tbody>\n",
       "    <tr>\n",
       "      <th>0</th>\n",
       "      <td>1</td>\n",
       "      <td>81109</td>\n",
       "      <td>203518</td>\n",
       "      <td>143</td>\n",
       "      <td>INFO</td>\n",
       "      <td>dfs.DataNode$DataXceiver</td>\n",
       "      <td>Receiving block blk_-1608999687919862906 src: ...</td>\n",
       "      <td>E5</td>\n",
       "      <td>Receiving block &lt;*&gt; src: /&lt;*&gt; dest: /&lt;*&gt;</td>\n",
       "    </tr>\n",
       "    <tr>\n",
       "      <th>1</th>\n",
       "      <td>2</td>\n",
       "      <td>81109</td>\n",
       "      <td>203518</td>\n",
       "      <td>35</td>\n",
       "      <td>INFO</td>\n",
       "      <td>dfs.FSNamesystem</td>\n",
       "      <td>BLOCK* NameSystem.allocateBlock: /mnt/hadoop/m...</td>\n",
       "      <td>E22</td>\n",
       "      <td>BLOCK* NameSystem.allocateBlock:&lt;*&gt;</td>\n",
       "    </tr>\n",
       "    <tr>\n",
       "      <th>2</th>\n",
       "      <td>3</td>\n",
       "      <td>81109</td>\n",
       "      <td>203519</td>\n",
       "      <td>143</td>\n",
       "      <td>INFO</td>\n",
       "      <td>dfs.DataNode$DataXceiver</td>\n",
       "      <td>Receiving block blk_-1608999687919862906 src: ...</td>\n",
       "      <td>E5</td>\n",
       "      <td>Receiving block &lt;*&gt; src: /&lt;*&gt; dest: /&lt;*&gt;</td>\n",
       "    </tr>\n",
       "    <tr>\n",
       "      <th>3</th>\n",
       "      <td>4</td>\n",
       "      <td>81109</td>\n",
       "      <td>203519</td>\n",
       "      <td>145</td>\n",
       "      <td>INFO</td>\n",
       "      <td>dfs.DataNode$DataXceiver</td>\n",
       "      <td>Receiving block blk_-1608999687919862906 src: ...</td>\n",
       "      <td>E5</td>\n",
       "      <td>Receiving block &lt;*&gt; src: /&lt;*&gt; dest: /&lt;*&gt;</td>\n",
       "    </tr>\n",
       "    <tr>\n",
       "      <th>4</th>\n",
       "      <td>5</td>\n",
       "      <td>81109</td>\n",
       "      <td>203519</td>\n",
       "      <td>145</td>\n",
       "      <td>INFO</td>\n",
       "      <td>dfs.DataNode$PacketResponder</td>\n",
       "      <td>PacketResponder 1 for block blk_-1608999687919...</td>\n",
       "      <td>E11</td>\n",
       "      <td>PacketResponder &lt;*&gt; for block &lt;*&gt; terminating</td>\n",
       "    </tr>\n",
       "  </tbody>\n",
       "</table>\n",
       "</div>"
      ],
      "text/plain": [
       "   LineId   Date    Time  Pid Level                     Component  \\\n",
       "0       1  81109  203518  143  INFO      dfs.DataNode$DataXceiver   \n",
       "1       2  81109  203518   35  INFO              dfs.FSNamesystem   \n",
       "2       3  81109  203519  143  INFO      dfs.DataNode$DataXceiver   \n",
       "3       4  81109  203519  145  INFO      dfs.DataNode$DataXceiver   \n",
       "4       5  81109  203519  145  INFO  dfs.DataNode$PacketResponder   \n",
       "\n",
       "                                             Content EventId  \\\n",
       "0  Receiving block blk_-1608999687919862906 src: ...      E5   \n",
       "1  BLOCK* NameSystem.allocateBlock: /mnt/hadoop/m...     E22   \n",
       "2  Receiving block blk_-1608999687919862906 src: ...      E5   \n",
       "3  Receiving block blk_-1608999687919862906 src: ...      E5   \n",
       "4  PacketResponder 1 for block blk_-1608999687919...     E11   \n",
       "\n",
       "                                   EventTemplate  \n",
       "0       Receiving block <*> src: /<*> dest: /<*>  \n",
       "1            BLOCK* NameSystem.allocateBlock:<*>  \n",
       "2       Receiving block <*> src: /<*> dest: /<*>  \n",
       "3       Receiving block <*> src: /<*> dest: /<*>  \n",
       "4  PacketResponder <*> for block <*> terminating  "
      ]
     },
     "execution_count": 5,
     "metadata": {},
     "output_type": "execute_result"
    }
   ],
   "source": [
    "hdfs_data.head()"
   ]
  },
  {
   "cell_type": "code",
   "execution_count": 6,
   "id": "4074aa93",
   "metadata": {},
   "outputs": [],
   "source": [
    "hdfs_data['BlockId']=hdfs_data['Content'].str.findall(r'(blk_-?\\d+)').apply(lambda x:x[0])"
   ]
  },
  {
   "cell_type": "code",
   "execution_count": 7,
   "id": "7d6f56ec",
   "metadata": {},
   "outputs": [
    {
     "data": {
      "text/html": [
       "<div>\n",
       "<style scoped>\n",
       "    .dataframe tbody tr th:only-of-type {\n",
       "        vertical-align: middle;\n",
       "    }\n",
       "\n",
       "    .dataframe tbody tr th {\n",
       "        vertical-align: top;\n",
       "    }\n",
       "\n",
       "    .dataframe thead th {\n",
       "        text-align: right;\n",
       "    }\n",
       "</style>\n",
       "<table border=\"1\" class=\"dataframe\">\n",
       "  <thead>\n",
       "    <tr style=\"text-align: right;\">\n",
       "      <th></th>\n",
       "      <th>LineId</th>\n",
       "      <th>Date</th>\n",
       "      <th>Time</th>\n",
       "      <th>Pid</th>\n",
       "      <th>Level</th>\n",
       "      <th>Component</th>\n",
       "      <th>Content</th>\n",
       "      <th>EventId</th>\n",
       "      <th>EventTemplate</th>\n",
       "      <th>BlockId</th>\n",
       "    </tr>\n",
       "  </thead>\n",
       "  <tbody>\n",
       "    <tr>\n",
       "      <th>0</th>\n",
       "      <td>1</td>\n",
       "      <td>81109</td>\n",
       "      <td>203518</td>\n",
       "      <td>143</td>\n",
       "      <td>INFO</td>\n",
       "      <td>dfs.DataNode$DataXceiver</td>\n",
       "      <td>Receiving block blk_-1608999687919862906 src: ...</td>\n",
       "      <td>E5</td>\n",
       "      <td>Receiving block &lt;*&gt; src: /&lt;*&gt; dest: /&lt;*&gt;</td>\n",
       "      <td>blk_-1608999687919862906</td>\n",
       "    </tr>\n",
       "    <tr>\n",
       "      <th>1</th>\n",
       "      <td>2</td>\n",
       "      <td>81109</td>\n",
       "      <td>203518</td>\n",
       "      <td>35</td>\n",
       "      <td>INFO</td>\n",
       "      <td>dfs.FSNamesystem</td>\n",
       "      <td>BLOCK* NameSystem.allocateBlock: /mnt/hadoop/m...</td>\n",
       "      <td>E22</td>\n",
       "      <td>BLOCK* NameSystem.allocateBlock:&lt;*&gt;</td>\n",
       "      <td>blk_-1608999687919862906</td>\n",
       "    </tr>\n",
       "    <tr>\n",
       "      <th>2</th>\n",
       "      <td>3</td>\n",
       "      <td>81109</td>\n",
       "      <td>203519</td>\n",
       "      <td>143</td>\n",
       "      <td>INFO</td>\n",
       "      <td>dfs.DataNode$DataXceiver</td>\n",
       "      <td>Receiving block blk_-1608999687919862906 src: ...</td>\n",
       "      <td>E5</td>\n",
       "      <td>Receiving block &lt;*&gt; src: /&lt;*&gt; dest: /&lt;*&gt;</td>\n",
       "      <td>blk_-1608999687919862906</td>\n",
       "    </tr>\n",
       "    <tr>\n",
       "      <th>3</th>\n",
       "      <td>4</td>\n",
       "      <td>81109</td>\n",
       "      <td>203519</td>\n",
       "      <td>145</td>\n",
       "      <td>INFO</td>\n",
       "      <td>dfs.DataNode$DataXceiver</td>\n",
       "      <td>Receiving block blk_-1608999687919862906 src: ...</td>\n",
       "      <td>E5</td>\n",
       "      <td>Receiving block &lt;*&gt; src: /&lt;*&gt; dest: /&lt;*&gt;</td>\n",
       "      <td>blk_-1608999687919862906</td>\n",
       "    </tr>\n",
       "    <tr>\n",
       "      <th>4</th>\n",
       "      <td>5</td>\n",
       "      <td>81109</td>\n",
       "      <td>203519</td>\n",
       "      <td>145</td>\n",
       "      <td>INFO</td>\n",
       "      <td>dfs.DataNode$PacketResponder</td>\n",
       "      <td>PacketResponder 1 for block blk_-1608999687919...</td>\n",
       "      <td>E11</td>\n",
       "      <td>PacketResponder &lt;*&gt; for block &lt;*&gt; terminating</td>\n",
       "      <td>blk_-1608999687919862906</td>\n",
       "    </tr>\n",
       "    <tr>\n",
       "      <th>...</th>\n",
       "      <td>...</td>\n",
       "      <td>...</td>\n",
       "      <td>...</td>\n",
       "      <td>...</td>\n",
       "      <td>...</td>\n",
       "      <td>...</td>\n",
       "      <td>...</td>\n",
       "      <td>...</td>\n",
       "      <td>...</td>\n",
       "      <td>...</td>\n",
       "    </tr>\n",
       "    <tr>\n",
       "      <th>104810</th>\n",
       "      <td>104811</td>\n",
       "      <td>81109</td>\n",
       "      <td>210122</td>\n",
       "      <td>13</td>\n",
       "      <td>INFO</td>\n",
       "      <td>dfs.DataBlockScanner</td>\n",
       "      <td>Verification succeeded for blk_-87387097785867...</td>\n",
       "      <td>E2</td>\n",
       "      <td>Verification succeeded for &lt;*&gt;</td>\n",
       "      <td>blk_-8738709778586756237</td>\n",
       "    </tr>\n",
       "    <tr>\n",
       "      <th>104811</th>\n",
       "      <td>104812</td>\n",
       "      <td>81109</td>\n",
       "      <td>210124</td>\n",
       "      <td>13</td>\n",
       "      <td>INFO</td>\n",
       "      <td>dfs.DataBlockScanner</td>\n",
       "      <td>Verification succeeded for blk_642047611142564...</td>\n",
       "      <td>E2</td>\n",
       "      <td>Verification succeeded for &lt;*&gt;</td>\n",
       "      <td>blk_6420476111425645508</td>\n",
       "    </tr>\n",
       "    <tr>\n",
       "      <th>104812</th>\n",
       "      <td>104813</td>\n",
       "      <td>81109</td>\n",
       "      <td>210126</td>\n",
       "      <td>13</td>\n",
       "      <td>INFO</td>\n",
       "      <td>dfs.DataBlockScanner</td>\n",
       "      <td>Verification succeeded for blk_-23823897510323...</td>\n",
       "      <td>E2</td>\n",
       "      <td>Verification succeeded for &lt;*&gt;</td>\n",
       "      <td>blk_-2382389751032389929</td>\n",
       "    </tr>\n",
       "    <tr>\n",
       "      <th>104813</th>\n",
       "      <td>104814</td>\n",
       "      <td>81109</td>\n",
       "      <td>210126</td>\n",
       "      <td>13</td>\n",
       "      <td>INFO</td>\n",
       "      <td>dfs.DataBlockScanner</td>\n",
       "      <td>Verification succeeded for blk_485603173001003...</td>\n",
       "      <td>E2</td>\n",
       "      <td>Verification succeeded for &lt;*&gt;</td>\n",
       "      <td>blk_4856031730010032819</td>\n",
       "    </tr>\n",
       "    <tr>\n",
       "      <th>104814</th>\n",
       "      <td>104815</td>\n",
       "      <td>81109</td>\n",
       "      <td>210126</td>\n",
       "      <td>13</td>\n",
       "      <td>INFO</td>\n",
       "      <td>dfs.DataBlockScanner</td>\n",
       "      <td>Verification succeeded for blk_-49047501208105...</td>\n",
       "      <td>E2</td>\n",
       "      <td>Verification succeeded for &lt;*&gt;</td>\n",
       "      <td>blk_-4904750120810562215</td>\n",
       "    </tr>\n",
       "  </tbody>\n",
       "</table>\n",
       "<p>104815 rows × 10 columns</p>\n",
       "</div>"
      ],
      "text/plain": [
       "        LineId   Date    Time  Pid Level                     Component  \\\n",
       "0            1  81109  203518  143  INFO      dfs.DataNode$DataXceiver   \n",
       "1            2  81109  203518   35  INFO              dfs.FSNamesystem   \n",
       "2            3  81109  203519  143  INFO      dfs.DataNode$DataXceiver   \n",
       "3            4  81109  203519  145  INFO      dfs.DataNode$DataXceiver   \n",
       "4            5  81109  203519  145  INFO  dfs.DataNode$PacketResponder   \n",
       "...        ...    ...     ...  ...   ...                           ...   \n",
       "104810  104811  81109  210122   13  INFO          dfs.DataBlockScanner   \n",
       "104811  104812  81109  210124   13  INFO          dfs.DataBlockScanner   \n",
       "104812  104813  81109  210126   13  INFO          dfs.DataBlockScanner   \n",
       "104813  104814  81109  210126   13  INFO          dfs.DataBlockScanner   \n",
       "104814  104815  81109  210126   13  INFO          dfs.DataBlockScanner   \n",
       "\n",
       "                                                  Content EventId  \\\n",
       "0       Receiving block blk_-1608999687919862906 src: ...      E5   \n",
       "1       BLOCK* NameSystem.allocateBlock: /mnt/hadoop/m...     E22   \n",
       "2       Receiving block blk_-1608999687919862906 src: ...      E5   \n",
       "3       Receiving block blk_-1608999687919862906 src: ...      E5   \n",
       "4       PacketResponder 1 for block blk_-1608999687919...     E11   \n",
       "...                                                   ...     ...   \n",
       "104810  Verification succeeded for blk_-87387097785867...      E2   \n",
       "104811  Verification succeeded for blk_642047611142564...      E2   \n",
       "104812  Verification succeeded for blk_-23823897510323...      E2   \n",
       "104813  Verification succeeded for blk_485603173001003...      E2   \n",
       "104814  Verification succeeded for blk_-49047501208105...      E2   \n",
       "\n",
       "                                        EventTemplate  \\\n",
       "0            Receiving block <*> src: /<*> dest: /<*>   \n",
       "1                 BLOCK* NameSystem.allocateBlock:<*>   \n",
       "2            Receiving block <*> src: /<*> dest: /<*>   \n",
       "3            Receiving block <*> src: /<*> dest: /<*>   \n",
       "4       PacketResponder <*> for block <*> terminating   \n",
       "...                                               ...   \n",
       "104810                 Verification succeeded for <*>   \n",
       "104811                 Verification succeeded for <*>   \n",
       "104812                 Verification succeeded for <*>   \n",
       "104813                 Verification succeeded for <*>   \n",
       "104814                 Verification succeeded for <*>   \n",
       "\n",
       "                         BlockId  \n",
       "0       blk_-1608999687919862906  \n",
       "1       blk_-1608999687919862906  \n",
       "2       blk_-1608999687919862906  \n",
       "3       blk_-1608999687919862906  \n",
       "4       blk_-1608999687919862906  \n",
       "...                          ...  \n",
       "104810  blk_-8738709778586756237  \n",
       "104811   blk_6420476111425645508  \n",
       "104812  blk_-2382389751032389929  \n",
       "104813   blk_4856031730010032819  \n",
       "104814  blk_-4904750120810562215  \n",
       "\n",
       "[104815 rows x 10 columns]"
      ]
     },
     "execution_count": 7,
     "metadata": {},
     "output_type": "execute_result"
    }
   ],
   "source": [
    "hdfs_data"
   ]
  },
  {
   "cell_type": "code",
   "execution_count": 8,
   "id": "3032bf43",
   "metadata": {},
   "outputs": [
    {
     "data": {
      "text/plain": [
       "81109    104815\n",
       "Name: Date, dtype: int64"
      ]
     },
     "execution_count": 8,
     "metadata": {},
     "output_type": "execute_result"
    }
   ],
   "source": [
    "hdfs_data['Date'].value_counts()"
   ]
  },
  {
   "cell_type": "code",
   "execution_count": 9,
   "id": "364d311c",
   "metadata": {},
   "outputs": [],
   "source": [
    "hdfs_data=hdfs_data.drop(columns='Date')"
   ]
  },
  {
   "cell_type": "code",
   "execution_count": 10,
   "id": "c083baf5",
   "metadata": {},
   "outputs": [
    {
     "data": {
      "text/html": [
       "<div>\n",
       "<style scoped>\n",
       "    .dataframe tbody tr th:only-of-type {\n",
       "        vertical-align: middle;\n",
       "    }\n",
       "\n",
       "    .dataframe tbody tr th {\n",
       "        vertical-align: top;\n",
       "    }\n",
       "\n",
       "    .dataframe thead th {\n",
       "        text-align: right;\n",
       "    }\n",
       "</style>\n",
       "<table border=\"1\" class=\"dataframe\">\n",
       "  <thead>\n",
       "    <tr style=\"text-align: right;\">\n",
       "      <th></th>\n",
       "      <th>BlockId</th>\n",
       "      <th>Label</th>\n",
       "    </tr>\n",
       "  </thead>\n",
       "  <tbody>\n",
       "    <tr>\n",
       "      <th>0</th>\n",
       "      <td>blk_-1608999687919862906</td>\n",
       "      <td>Normal</td>\n",
       "    </tr>\n",
       "    <tr>\n",
       "      <th>1</th>\n",
       "      <td>blk_7503483334202473044</td>\n",
       "      <td>Normal</td>\n",
       "    </tr>\n",
       "    <tr>\n",
       "      <th>2</th>\n",
       "      <td>blk_-3544583377289625738</td>\n",
       "      <td>Anomaly</td>\n",
       "    </tr>\n",
       "    <tr>\n",
       "      <th>3</th>\n",
       "      <td>blk_-9073992586687739851</td>\n",
       "      <td>Normal</td>\n",
       "    </tr>\n",
       "    <tr>\n",
       "      <th>4</th>\n",
       "      <td>blk_7854771516489510256</td>\n",
       "      <td>Normal</td>\n",
       "    </tr>\n",
       "  </tbody>\n",
       "</table>\n",
       "</div>"
      ],
      "text/plain": [
       "                    BlockId    Label\n",
       "0  blk_-1608999687919862906   Normal\n",
       "1   blk_7503483334202473044   Normal\n",
       "2  blk_-3544583377289625738  Anomaly\n",
       "3  blk_-9073992586687739851   Normal\n",
       "4   blk_7854771516489510256   Normal"
      ]
     },
     "execution_count": 10,
     "metadata": {},
     "output_type": "execute_result"
    }
   ],
   "source": [
    "anomaly_labels.head()"
   ]
  },
  {
   "cell_type": "code",
   "execution_count": 11,
   "id": "61eb0526",
   "metadata": {},
   "outputs": [
    {
     "data": {
      "text/plain": [
       "0         blk_-1608999687919862906\n",
       "1          blk_7503483334202473044\n",
       "2         blk_-3544583377289625738\n",
       "3         blk_-9073992586687739851\n",
       "4          blk_7854771516489510256\n",
       "                    ...           \n",
       "575056     blk_1019720114020043203\n",
       "575057    blk_-2683116845478050414\n",
       "575058     blk_5595059397348477632\n",
       "575059     blk_1513937873877967730\n",
       "575060    blk_-9128742458709757181\n",
       "Name: BlockId, Length: 575061, dtype: object"
      ]
     },
     "execution_count": 11,
     "metadata": {},
     "output_type": "execute_result"
    }
   ],
   "source": [
    "anomaly_labels['BlockId']"
   ]
  },
  {
   "cell_type": "code",
   "execution_count": 12,
   "id": "05d367c1",
   "metadata": {},
   "outputs": [
    {
     "data": {
      "text/plain": [
       "(104815, 9)"
      ]
     },
     "execution_count": 12,
     "metadata": {},
     "output_type": "execute_result"
    }
   ],
   "source": [
    "hdfs_data.shape"
   ]
  },
  {
   "cell_type": "code",
   "execution_count": 13,
   "id": "45f0d4e5",
   "metadata": {},
   "outputs": [],
   "source": [
    "df_hdfs=hdfs_data.merge(anomaly_labels, left_on='BlockId',right_on='BlockId')"
   ]
  },
  {
   "cell_type": "code",
   "execution_count": 14,
   "id": "c8fe8a59",
   "metadata": {},
   "outputs": [
    {
     "data": {
      "text/html": [
       "<div>\n",
       "<style scoped>\n",
       "    .dataframe tbody tr th:only-of-type {\n",
       "        vertical-align: middle;\n",
       "    }\n",
       "\n",
       "    .dataframe tbody tr th {\n",
       "        vertical-align: top;\n",
       "    }\n",
       "\n",
       "    .dataframe thead th {\n",
       "        text-align: right;\n",
       "    }\n",
       "</style>\n",
       "<table border=\"1\" class=\"dataframe\">\n",
       "  <thead>\n",
       "    <tr style=\"text-align: right;\">\n",
       "      <th></th>\n",
       "      <th>LineId</th>\n",
       "      <th>Time</th>\n",
       "      <th>Pid</th>\n",
       "      <th>Level</th>\n",
       "      <th>Component</th>\n",
       "      <th>Content</th>\n",
       "      <th>EventId</th>\n",
       "      <th>EventTemplate</th>\n",
       "      <th>BlockId</th>\n",
       "      <th>Label</th>\n",
       "    </tr>\n",
       "  </thead>\n",
       "  <tbody>\n",
       "    <tr>\n",
       "      <th>0</th>\n",
       "      <td>1</td>\n",
       "      <td>203518</td>\n",
       "      <td>143</td>\n",
       "      <td>INFO</td>\n",
       "      <td>dfs.DataNode$DataXceiver</td>\n",
       "      <td>Receiving block blk_-1608999687919862906 src: ...</td>\n",
       "      <td>E5</td>\n",
       "      <td>Receiving block &lt;*&gt; src: /&lt;*&gt; dest: /&lt;*&gt;</td>\n",
       "      <td>blk_-1608999687919862906</td>\n",
       "      <td>Normal</td>\n",
       "    </tr>\n",
       "    <tr>\n",
       "      <th>1</th>\n",
       "      <td>2</td>\n",
       "      <td>203518</td>\n",
       "      <td>35</td>\n",
       "      <td>INFO</td>\n",
       "      <td>dfs.FSNamesystem</td>\n",
       "      <td>BLOCK* NameSystem.allocateBlock: /mnt/hadoop/m...</td>\n",
       "      <td>E22</td>\n",
       "      <td>BLOCK* NameSystem.allocateBlock:&lt;*&gt;</td>\n",
       "      <td>blk_-1608999687919862906</td>\n",
       "      <td>Normal</td>\n",
       "    </tr>\n",
       "    <tr>\n",
       "      <th>2</th>\n",
       "      <td>3</td>\n",
       "      <td>203519</td>\n",
       "      <td>143</td>\n",
       "      <td>INFO</td>\n",
       "      <td>dfs.DataNode$DataXceiver</td>\n",
       "      <td>Receiving block blk_-1608999687919862906 src: ...</td>\n",
       "      <td>E5</td>\n",
       "      <td>Receiving block &lt;*&gt; src: /&lt;*&gt; dest: /&lt;*&gt;</td>\n",
       "      <td>blk_-1608999687919862906</td>\n",
       "      <td>Normal</td>\n",
       "    </tr>\n",
       "    <tr>\n",
       "      <th>3</th>\n",
       "      <td>4</td>\n",
       "      <td>203519</td>\n",
       "      <td>145</td>\n",
       "      <td>INFO</td>\n",
       "      <td>dfs.DataNode$DataXceiver</td>\n",
       "      <td>Receiving block blk_-1608999687919862906 src: ...</td>\n",
       "      <td>E5</td>\n",
       "      <td>Receiving block &lt;*&gt; src: /&lt;*&gt; dest: /&lt;*&gt;</td>\n",
       "      <td>blk_-1608999687919862906</td>\n",
       "      <td>Normal</td>\n",
       "    </tr>\n",
       "    <tr>\n",
       "      <th>4</th>\n",
       "      <td>5</td>\n",
       "      <td>203519</td>\n",
       "      <td>145</td>\n",
       "      <td>INFO</td>\n",
       "      <td>dfs.DataNode$PacketResponder</td>\n",
       "      <td>PacketResponder 1 for block blk_-1608999687919...</td>\n",
       "      <td>E11</td>\n",
       "      <td>PacketResponder &lt;*&gt; for block &lt;*&gt; terminating</td>\n",
       "      <td>blk_-1608999687919862906</td>\n",
       "      <td>Normal</td>\n",
       "    </tr>\n",
       "  </tbody>\n",
       "</table>\n",
       "</div>"
      ],
      "text/plain": [
       "   LineId    Time  Pid Level                     Component  \\\n",
       "0       1  203518  143  INFO      dfs.DataNode$DataXceiver   \n",
       "1       2  203518   35  INFO              dfs.FSNamesystem   \n",
       "2       3  203519  143  INFO      dfs.DataNode$DataXceiver   \n",
       "3       4  203519  145  INFO      dfs.DataNode$DataXceiver   \n",
       "4       5  203519  145  INFO  dfs.DataNode$PacketResponder   \n",
       "\n",
       "                                             Content EventId  \\\n",
       "0  Receiving block blk_-1608999687919862906 src: ...      E5   \n",
       "1  BLOCK* NameSystem.allocateBlock: /mnt/hadoop/m...     E22   \n",
       "2  Receiving block blk_-1608999687919862906 src: ...      E5   \n",
       "3  Receiving block blk_-1608999687919862906 src: ...      E5   \n",
       "4  PacketResponder 1 for block blk_-1608999687919...     E11   \n",
       "\n",
       "                                   EventTemplate                   BlockId  \\\n",
       "0       Receiving block <*> src: /<*> dest: /<*>  blk_-1608999687919862906   \n",
       "1            BLOCK* NameSystem.allocateBlock:<*>  blk_-1608999687919862906   \n",
       "2       Receiving block <*> src: /<*> dest: /<*>  blk_-1608999687919862906   \n",
       "3       Receiving block <*> src: /<*> dest: /<*>  blk_-1608999687919862906   \n",
       "4  PacketResponder <*> for block <*> terminating  blk_-1608999687919862906   \n",
       "\n",
       "    Label  \n",
       "0  Normal  \n",
       "1  Normal  \n",
       "2  Normal  \n",
       "3  Normal  \n",
       "4  Normal  "
      ]
     },
     "execution_count": 14,
     "metadata": {},
     "output_type": "execute_result"
    }
   ],
   "source": [
    "df_hdfs.head()"
   ]
  },
  {
   "cell_type": "code",
   "execution_count": 15,
   "id": "2eb12697",
   "metadata": {},
   "outputs": [
    {
     "data": {
      "text/plain": [
       "E5     23671\n",
       "E26    23478\n",
       "E11    23451\n",
       "E9     23447\n",
       "E22     7940\n",
       "E2      2183\n",
       "E3       407\n",
       "E7        68\n",
       "E6        31\n",
       "E18       27\n",
       "E25       27\n",
       "E16       27\n",
       "E13       24\n",
       "E21       23\n",
       "E14        4\n",
       "E10        3\n",
       "E15        2\n",
       "E27        1\n",
       "E8         1\n",
       "Name: EventId, dtype: int64"
      ]
     },
     "execution_count": 15,
     "metadata": {},
     "output_type": "execute_result"
    }
   ],
   "source": [
    "df_hdfs['EventId'].value_counts()"
   ]
  },
  {
   "cell_type": "code",
   "execution_count": 16,
   "id": "b8633b9e",
   "metadata": {},
   "outputs": [
    {
     "data": {
      "text/plain": [
       "Normal     101544\n",
       "Anomaly      3271\n",
       "Name: Label, dtype: int64"
      ]
     },
     "execution_count": 16,
     "metadata": {},
     "output_type": "execute_result"
    }
   ],
   "source": [
    "df_hdfs['Label'].value_counts()"
   ]
  },
  {
   "cell_type": "markdown",
   "id": "a579aaca",
   "metadata": {},
   "source": [
    "--------------Начало Работы-------------"
   ]
  },
  {
   "cell_type": "code",
   "execution_count": 2,
   "id": "7b6afac7",
   "metadata": {},
   "outputs": [],
   "source": [
    "\n",
    "class Iterator(Dataset):\n",
    "    def __init__(self, data_dict, batch_size=32, shuffle=False, num_workers=1):\n",
    "        self.data_dict = data_dict\n",
    "        self.keys = list(data_dict.keys())\n",
    "        self.iter = DataLoader(dataset=self, batch_size=batch_size, shuffle=shuffle, num_workers=num_workers)\n",
    "\n",
    "    def __getitem__(self, index):\n",
    "        return {k: self.data_dict[k][index] for k in self.keys}\n",
    "\n",
    "    def __len__(self):\n",
    "        return self.data_dict[\"SessionId\"].shape[0]\n",
    "\n",
    "class Vectorizer(object):\n",
    "\n",
    "    def fit_transform(self, x_train, window_y_train, y_train):\n",
    "        self.label_mapping = {eid: idx for idx, eid in enumerate(window_y_train.unique(), 2)}\n",
    "        self.label_mapping[\"#OOV\"] = 0\n",
    "        self.label_mapping[\"#Pad\"] = 1\n",
    "        self.num_labels = len(self.label_mapping)\n",
    "        return self.transform(x_train, window_y_train, y_train)\n",
    "\n",
    "    def transform(self, x, window_y, y):\n",
    "        x[\"EventSequence\"] = x[\"EventSequence\"].map(lambda x: [self.label_mapping.get(item, 0) for item in x])\n",
    "        window_y = window_y.map(lambda x: self.label_mapping.get(x, 0))\n",
    "        y = y\n",
    "        data_dict = {\"SessionId\": x[\"SessionId\"].values, \"window_y\": window_y.values, \"y\": y.values, \"x\": np.array(x[\"EventSequence\"].tolist())}\n",
    "        return data_dict\n",
    "        \n",
    "\n",
    "class FeatureExtractor(object):\n",
    "\n",
    "    def __init__(self):\n",
    "        self.idf_vec = None\n",
    "        self.mean_vec = None\n",
    "        self.events = None\n",
    "        self.term_weighting = None\n",
    "        self.normalization = None\n",
    "        self.oov = None\n",
    "\n",
    "    def fit_transform(self, X_seq, term_weighting=None, normalization=None, oov=False, min_count=1):\n",
    "        \"\"\" \n",
    "            Подгонка и преобразование матрицы данных\n",
    "        Аргументы\n",
    "        ---------\n",
    "            X_seq: ndarray, матрица лог-последовательностей\n",
    "            взвешивание_термина: Нет или `tf-idf`\n",
    "            нормализация: Нет или `zero-mean`\n",
    "            oov: bool, использовать ли OOV события\n",
    "            min_count: int, минимальное количество событий (по умолчанию 0), действительно только при oov=True.\n",
    "        Возвращает\n",
    "        -------\n",
    "            X_new: преобразованная матрица данных\n",
    "        \"\"\"\n",
    "        print('====== Transformed train data summary ======')\n",
    "        self.term_weighting = term_weighting\n",
    "        self.normalization = normalization\n",
    "        self.oov = oov\n",
    "\n",
    "        X_counts = []\n",
    "        for i in range(X_seq.shape[0]):\n",
    "            event_counts = Counter(X_seq[i])\n",
    "            X_counts.append(event_counts)\n",
    "        X_df = pd.DataFrame(X_counts)\n",
    "        X_df = X_df.fillna(0)\n",
    "        self.events = X_df.columns\n",
    "        X = X_df.values\n",
    "        if self.oov:\n",
    "            oov_vec = np.zeros(X.shape[0])\n",
    "            if min_count > 1:\n",
    "                idx = np.sum(X > 0, axis=0) >= min_count\n",
    "                oov_vec = np.sum(X[:, ~idx] > 0, axis=1)\n",
    "                X = X[:, idx]\n",
    "                self.events = np.array(X_df.columns)[idx].tolist()\n",
    "            X = np.hstack([X, oov_vec.reshape(X.shape[0], 1)])\n",
    "        \n",
    "        num_instance, num_event = X.shape\n",
    "        if self.term_weighting == 'tf-idf':\n",
    "            df_vec = np.sum(X > 0, axis=0)\n",
    "            self.idf_vec = np.log(num_instance / (df_vec + 1e-8))\n",
    "            idf_matrix = X * np.tile(self.idf_vec, (num_instance, 1)) \n",
    "            X = idf_matrix\n",
    "        if self.normalization == 'zero-mean':\n",
    "            mean_vec = X.mean(axis=0)\n",
    "            self.mean_vec = mean_vec.reshape(1, num_event)\n",
    "            X = X - np.tile(self.mean_vec, (num_instance, 1))\n",
    "        elif self.normalization == 'sigmoid':\n",
    "            X[X != 0] = expit(X[X != 0])\n",
    "        X_new = X\n",
    "        \n",
    "        print('Train data shape: {}-by-{}\\n'.format(X_new.shape[0], X_new.shape[1])) \n",
    "        return X_new\n",
    "\n",
    "    def transform(self, X_seq):\n",
    "        \"\"\" \n",
    "            Преобразование матрицы данных с обученными параметрами\n",
    "        Аргументы\n",
    "        ---------\n",
    "            X: матрица лог-последовательностей\n",
    "            взвешивание_термина: Нет или `tf-idf`.\n",
    "        Возвращает\n",
    "        -------\n",
    "            X_new: матрица преобразованных данных\n",
    "        \"\"\"\n",
    "        print('====== Transformed test data summary ======')\n",
    "        X_counts = []\n",
    "        for i in range(X_seq.shape[0]):\n",
    "            event_counts = Counter(X_seq[i])\n",
    "            X_counts.append(event_counts)\n",
    "        X_df = pd.DataFrame(X_counts)\n",
    "        X_df = X_df.fillna(0)\n",
    "        empty_events = set(self.events) - set(X_df.columns)\n",
    "        for event in empty_events:\n",
    "            X_df[event] = [0] * len(X_df)\n",
    "        X = X_df[self.events].values\n",
    "        if self.oov:\n",
    "            oov_vec = np.sum(X_df[X_df.columns.difference(self.events)].values > 0, axis=1)\n",
    "            X = np.hstack([X, oov_vec.reshape(X.shape[0], 1)])\n",
    "        \n",
    "        num_instance, num_event = X.shape\n",
    "        if self.term_weighting == 'tf-idf':\n",
    "            idf_matrix = X * np.tile(self.idf_vec, (num_instance, 1)) \n",
    "            X = idf_matrix\n",
    "        if self.normalization == 'zero-mean':\n",
    "            X = X - np.tile(self.mean_vec, (num_instance, 1))\n",
    "        elif self.normalization == 'sigmoid':\n",
    "            X[X != 0] = expit(X[X != 0])\n",
    "        X_new = X\n",
    "\n",
    "        print('Test data shape: {}-by-{}\\n'.format(X_new.shape[0], X_new.shape[1])) \n",
    "\n",
    "        return X_new"
   ]
  },
  {
   "cell_type": "code",
   "execution_count": 3,
   "id": "bf0296ce",
   "metadata": {},
   "outputs": [],
   "source": [
    "def _split_data(x_data, y_data=None, train_ratio=0, split_type='uniform'): #uniform sequential\n",
    "    if split_type == 'uniform' and y_data is not None:\n",
    "        pos_idx = y_data > 0\n",
    "        x_pos = x_data[pos_idx]\n",
    "        y_pos = y_data[pos_idx]\n",
    "        x_neg = x_data[~pos_idx]\n",
    "        y_neg = y_data[~pos_idx]\n",
    "        train_pos = int(train_ratio * x_pos.shape[0])\n",
    "        train_neg = int(train_ratio * x_neg.shape[0])\n",
    "        x_train = np.hstack([x_pos[0:train_pos], x_neg[0:train_neg]])\n",
    "        y_train = np.hstack([y_pos[0:train_pos], y_neg[0:train_neg]])\n",
    "        x_test = np.hstack([x_pos[train_pos:], x_neg[train_neg:]])\n",
    "        y_test = np.hstack([y_pos[train_pos:], y_neg[train_neg:]])\n",
    "    elif split_type == 'sequential':\n",
    "        num_train = int(train_ratio * x_data.shape[0])\n",
    "        x_train = x_data[0:num_train]\n",
    "        x_test = x_data[num_train:]\n",
    "        if y_data is None:\n",
    "            y_train = None\n",
    "            y_test = None\n",
    "        else:\n",
    "            y_train = y_data[0:num_train]\n",
    "            y_test = y_data[num_train:]\n",
    "    # Random shuffle\n",
    "    indexes = shuffle(np.arange(x_train.shape[0]))\n",
    "    x_train = x_train[indexes]\n",
    "    if y_train is not None:\n",
    "        y_train = y_train[indexes]\n",
    "    return (x_train, y_train), (x_test, y_test)\n",
    "#--------------------------------------------------------------------------------------------\n",
    "def load_HDFS(log_file, label_file=None, window='session', train_ratio=0.5, split_type='sequential',\n",
    "              save_csv=False, window_size=0):\n",
    "    \n",
    "\n",
    "    print('====== Input data summary ======')\n",
    "\n",
    "#     if log_file.endswith('.npz'):\n",
    "#         # Split training and validation set in a class-uniform way\n",
    "#         data = np.load(log_file, allow_pickle=True)\n",
    "#         x_data = data['x_data']\n",
    "#         y_data = data['y_data']\n",
    "#         (x_train, y_train), (x_test, y_test) = _split_data(x_data, y_data, train_ratio, split_type)\n",
    "\n",
    "    if log_file.endswith('.csv'):\n",
    "        assert window == 'session', \"Only window=session is supported for HDFS dataset.\"\n",
    "        print(\"Loading\", log_file)\n",
    "        struct_log = pd.read_csv(log_file, engine='c',\n",
    "                na_filter=False, memory_map=True)\n",
    "        data_dict = OrderedDict()\n",
    "        for idx, row in struct_log.iterrows():\n",
    "            blkId_list = re.findall(r'(blk_-?\\d+)', row['Content'])\n",
    "            blkId_set = set(blkId_list)\n",
    "            for blk_Id in blkId_set:\n",
    "                if not blk_Id in data_dict:\n",
    "                    data_dict[blk_Id] = []\n",
    "                data_dict[blk_Id].append(row['EventId'])\n",
    "        data_df = pd.DataFrame(list(data_dict.items()), columns=['BlockId', 'EventSequence'])\n",
    "        \n",
    "        if label_file:\n",
    "            # Split training and validation set in a class-uniform way\n",
    "            label_data = pd.read_csv(label_file, engine='c', na_filter=False, memory_map=True)\n",
    "            label_data = label_data.set_index('BlockId')\n",
    "            label_dict = label_data['Label'].to_dict()\n",
    "            data_df['Label'] = data_df['BlockId'].apply(lambda x: 1 if label_dict[x] == 'Anomaly' else 0)\n",
    "\n",
    "            # Split train and test data\n",
    "            (x_train, y_train), (x_test, y_test) = _split_data(data_df['EventSequence'].values, \n",
    "                data_df['Label'].values, train_ratio, split_type)\n",
    "            print(y_train.sum(), y_test.sum())\n",
    "            \n",
    "\n",
    "#         if save_csv:\n",
    "#             data_df.to_csv('data_instances.csv', index=False)\n",
    "\n",
    "        if window_size > 0:\n",
    "            x_train, window_y_train, y_train = slice_hdfs(x_train, y_train, window_size)\n",
    "            x_test, window_y_test, y_test = slice_hdfs(x_test, y_test, window_size)\n",
    "            log = \"{} {} windows ({}/{} anomaly), {}/{} normal\"\n",
    "            print(log.format(\"Train:\", x_train.shape[0], y_train.sum(), y_train.shape[0], (1-y_train).sum(), y_train.shape[0]))\n",
    "            print(log.format(\"Test:\", x_test.shape[0], y_test.sum(), y_test.shape[0], (1-y_test).sum(), y_test.shape[0]))\n",
    "            return (x_train, window_y_train, y_train), (x_test, window_y_test, y_test)\n",
    "\n",
    "#         if label_file is None:\n",
    "#             if split_type == 'uniform':\n",
    "#                 split_type = 'sequential'\n",
    "#                 print('Warning: Only split_type=sequential is supported \\\n",
    "#                 if label_file=None.'.format(split_type))\n",
    "#             # Split training and validation set sequentially\n",
    "#             x_data = data_df['EventSequence'].values\n",
    "#             (x_train, _), (x_test, _) = _split_data(x_data, train_ratio=train_ratio, split_type=split_type)\n",
    "#             print('Total: {} instances, train: {} instances, test: {} instances'.format(\n",
    "#                   x_data.shape[0], x_train.shape[0], x_test.shape[0]))\n",
    "#             return (x_train, None), (x_test, None), data_df\n",
    "#     else:\n",
    "#         raise NotImplementedError('load_HDFS() only support csv and npz files!')\n",
    "\n",
    "    num_train = x_train.shape[0]\n",
    "    num_test = x_test.shape[0]\n",
    "    num_total = num_train + num_test\n",
    "    num_train_pos = sum(y_train)\n",
    "    num_test_pos = sum(y_test)\n",
    "    num_pos = num_train_pos + num_test_pos\n",
    "\n",
    "    print('Total: {} instances, {} anomaly, {} normal' \\\n",
    "          .format(num_total, num_pos, num_total - num_pos))\n",
    "    print('Train: {} instances, {} anomaly, {} normal' \\\n",
    "          .format(num_train, num_train_pos, num_train - num_train_pos))\n",
    "    print('Test: {} instances, {} anomaly, {} normal\\n' \\\n",
    "          .format(num_test, num_test_pos, num_test - num_test_pos))\n",
    "\n",
    "    return (x_train, y_train), (x_test, y_test)\n",
    "\n",
    "# def slice_hdfs(x, y, window_size):\n",
    "#     results_data = []\n",
    "#     print(\"Slicing {} sessions, with window {}\".format(x.shape[0], window_size))\n",
    "#     for idx, sequence in enumerate(x):\n",
    "#         seqlen = len(sequence)\n",
    "#         i = 0\n",
    "#         while (i + window_size) < seqlen:\n",
    "#             slice = sequence[i: i + window_size]\n",
    "#             results_data.append([idx, slice, sequence[i + window_size], y[idx]])\n",
    "#             i += 1\n",
    "#         else:\n",
    "#             slice = sequence[i: i + window_size]\n",
    "#             slice += [\"#Pad\"] * (window_size - len(slice))\n",
    "#             results_data.append([idx, slice, \"#Pad\", y[idx]])\n",
    "#     results_df = pd.DataFrame(results_data, columns=[\"SessionId\", \"EventSequence\", \"Label\", \"SessionLabel\"])\n",
    "#     print(\"Slicing done, {} windows generated\".format(results_df.shape[0]))\n",
    "#     return results_df[[\"SessionId\", \"EventSequence\"]], results_df[\"Label\"], results_df[\"SessionLabel\"]"
   ]
  },
  {
   "cell_type": "markdown",
   "id": "b514007c",
   "metadata": {},
   "source": [
    "---------импорт файлов----------"
   ]
  },
  {
   "cell_type": "code",
   "execution_count": 19,
   "id": "d28f5ce2",
   "metadata": {},
   "outputs": [],
   "source": [
    "struct_log = 'HDFS_100k.log_structured.csv' \n",
    "label_file = 'anomaly_label.csv'"
   ]
  },
  {
   "cell_type": "code",
   "execution_count": 20,
   "id": "090582f4",
   "metadata": {},
   "outputs": [
    {
     "name": "stdout",
     "output_type": "stream",
     "text": [
      "====== Input data summary ======\n",
      "Loading HDFS_100k.log_structured.csv\n",
      "156 157\n",
      "Total: 7940 instances, 313 anomaly, 7627 normal\n",
      "Train: 3969 instances, 156 anomaly, 3813 normal\n",
      "Test: 3971 instances, 157 anomaly, 3814 normal\n",
      "\n"
     ]
    }
   ],
   "source": [
    "(x_train, y_train), (x_test, y_test) = load_HDFS(struct_log, label_file=label_file, window='session', \n",
    "                                                 train_ratio=0.5, split_type='uniform')"
   ]
  },
  {
   "cell_type": "markdown",
   "id": "071e749f",
   "metadata": {},
   "source": [
    "-----------------------------------Код для работы с другим файлом-----------------------------------"
   ]
  },
  {
   "cell_type": "code",
   "execution_count": 4,
   "id": "9ecd155c",
   "metadata": {},
   "outputs": [],
   "source": [
    "#Попытка сделать с другим файлом\n",
    "data_new = np.load('HDFS.npz', allow_pickle=True)"
   ]
  },
  {
   "cell_type": "code",
   "execution_count": 5,
   "id": "e84d4fcb",
   "metadata": {},
   "outputs": [],
   "source": [
    "x_data_new = data_new['x_data'][:104816]\n",
    "y_data_new = data_new['y_data'][:104816] #anomalii\n",
    "x_training_data, x_test_data, y_training_data, y_test_data = train_test_split(x_data_new, y_data_new, test_size = 0.3)\n"
   ]
  },
  {
   "cell_type": "code",
   "execution_count": 6,
   "id": "d5e7aa33",
   "metadata": {},
   "outputs": [
    {
     "name": "stdout",
     "output_type": "stream",
     "text": [
      "====== Transformed train data summary ======\n",
      "Train data shape: 73371-by-28\n",
      "\n",
      "====== Transformed test data summary ======\n",
      "Test data shape: 31445-by-28\n",
      "\n"
     ]
    }
   ],
   "source": [
    "feature_extractor = FeatureExtractor()\n",
    "x_train_new = feature_extractor.fit_transform(x_training_data, term_weighting='tf-idf', normalization='zero-mean')\n",
    "x_test_new = feature_extractor.transform(x_test_data)"
   ]
  },
  {
   "cell_type": "code",
   "execution_count": null,
   "id": "20e374e2",
   "metadata": {},
   "outputs": [],
   "source": []
  },
  {
   "cell_type": "code",
   "execution_count": 13,
   "id": "40e5df29",
   "metadata": {},
   "outputs": [
    {
     "name": "stdout",
     "output_type": "stream",
     "text": [
      "====== Transformed train data summary ======\n",
      "Train data shape: 73371-by-28\n",
      "\n",
      "====== Transformed test data summary ======\n",
      "Test data shape: 31445-by-28\n",
      "\n"
     ]
    }
   ],
   "source": [
    "feature_extractor = FeatureExtractor()\n",
    "x_train_new = feature_extractor.fit_transform(x_train, term_weighting='tf-idf', normalization='zero-mean')\n",
    "x_test_new = feature_extractor.transform(x_test)"
   ]
  },
  {
   "cell_type": "code",
   "execution_count": 7,
   "id": "1a8aec26",
   "metadata": {},
   "outputs": [],
   "source": [
    "from sklearn import svm"
   ]
  },
  {
   "cell_type": "code",
   "execution_count": 8,
   "id": "54389f93",
   "metadata": {},
   "outputs": [
    {
     "data": {
      "text/plain": [
       "SVC()"
      ]
     },
     "execution_count": 8,
     "metadata": {},
     "output_type": "execute_result"
    }
   ],
   "source": [
    "model_svm_new = svm.SVC()\n",
    "model_svm_new.fit(x_train_new, y_training_data)"
   ]
  },
  {
   "cell_type": "code",
   "execution_count": 9,
   "id": "1b844226",
   "metadata": {},
   "outputs": [],
   "source": [
    "from sklearn.metrics import f1_score, precision_score, recall_score, accuracy_score"
   ]
  },
  {
   "cell_type": "code",
   "execution_count": 14,
   "id": "1695c8b8",
   "metadata": {
    "scrolled": true
   },
   "outputs": [
    {
     "data": {
      "text/plain": [
       "0.9945937350930195"
      ]
     },
     "execution_count": 14,
     "metadata": {},
     "output_type": "execute_result"
    }
   ],
   "source": [
    "accuracy_score(y_test_data, model_svm_new.predict(x_test_new))"
   ]
  },
  {
   "cell_type": "code",
   "execution_count": 10,
   "id": "f47a8d6a",
   "metadata": {},
   "outputs": [
    {
     "data": {
      "text/plain": [
       "0.9920212765957447"
      ]
     },
     "execution_count": 10,
     "metadata": {},
     "output_type": "execute_result"
    }
   ],
   "source": [
    "precision_score(y_test_data, model_svm_new.predict(x_test_new))"
   ]
  },
  {
   "cell_type": "code",
   "execution_count": 11,
   "id": "63d51f9f",
   "metadata": {},
   "outputs": [
    {
     "data": {
      "text/plain": [
       "0.8977135980746089"
      ]
     },
     "execution_count": 11,
     "metadata": {},
     "output_type": "execute_result"
    }
   ],
   "source": [
    "f1_score(y_test_data, model_svm_new.predict(x_test_new))"
   ]
  },
  {
   "cell_type": "code",
   "execution_count": 12,
   "id": "df2179c7",
   "metadata": {},
   "outputs": [
    {
     "data": {
      "text/plain": [
       "0.8197802197802198"
      ]
     },
     "execution_count": 12,
     "metadata": {},
     "output_type": "execute_result"
    }
   ],
   "source": [
    "recall_score(y_test_data, model_svm_new.predict(x_test_new))"
   ]
  },
  {
   "cell_type": "markdown",
   "id": "f5d8e6d5",
   "metadata": {},
   "source": [
    "------------------------------Деревья-----------------------"
   ]
  },
  {
   "cell_type": "code",
   "execution_count": 15,
   "id": "8aef2b66",
   "metadata": {},
   "outputs": [],
   "source": [
    "from sklearn.tree import DecisionTreeClassifier"
   ]
  },
  {
   "cell_type": "code",
   "execution_count": 16,
   "id": "ef1b47a4",
   "metadata": {},
   "outputs": [
    {
     "data": {
      "text/plain": [
       "DecisionTreeClassifier()"
      ]
     },
     "execution_count": 16,
     "metadata": {},
     "output_type": "execute_result"
    }
   ],
   "source": [
    "model_dt = DecisionTreeClassifier()\n",
    "model_dt.fit(x_train_new, y_training_data)"
   ]
  },
  {
   "cell_type": "code",
   "execution_count": 17,
   "id": "b7582a80",
   "metadata": {},
   "outputs": [
    {
     "data": {
      "text/plain": [
       "0.9998727937668945"
      ]
     },
     "execution_count": 17,
     "metadata": {},
     "output_type": "execute_result"
    }
   ],
   "source": [
    "accuracy_score(y_test_data, model_dt.predict(x_test_new))"
   ]
  },
  {
   "cell_type": "code",
   "execution_count": 18,
   "id": "168e9511",
   "metadata": {},
   "outputs": [
    {
     "data": {
      "text/plain": [
       "0.9967105263157895"
      ]
     },
     "execution_count": 18,
     "metadata": {},
     "output_type": "execute_result"
    }
   ],
   "source": [
    "precision_score(y_test_data, model_dt.predict(x_test_new))"
   ]
  },
  {
   "cell_type": "code",
   "execution_count": 19,
   "id": "4bec5cdb",
   "metadata": {},
   "outputs": [
    {
     "data": {
      "text/plain": [
       "0.9978046103183316"
      ]
     },
     "execution_count": 19,
     "metadata": {},
     "output_type": "execute_result"
    }
   ],
   "source": [
    "f1_score(y_test_data, model_dt.predict(x_test_new))"
   ]
  },
  {
   "cell_type": "code",
   "execution_count": 20,
   "id": "15ca1ee5",
   "metadata": {},
   "outputs": [
    {
     "data": {
      "text/plain": [
       "0.9989010989010989"
      ]
     },
     "execution_count": 20,
     "metadata": {},
     "output_type": "execute_result"
    }
   ],
   "source": [
    "recall_score(y_test_data, model_dt.predict(x_test_new))"
   ]
  },
  {
   "cell_type": "markdown",
   "id": "6b9cc78b",
   "metadata": {},
   "source": [
    "-----------------Для первых 2-х файлов----------------------"
   ]
  },
  {
   "cell_type": "code",
   "execution_count": 24,
   "id": "02164d98",
   "metadata": {},
   "outputs": [
    {
     "name": "stdout",
     "output_type": "stream",
     "text": [
      "====== Transformed train data summary ======\n",
      "Train data shape: 3969-by-29\n",
      "\n",
      "====== Transformed test data summary ======\n",
      "Test data shape: 3971-by-29\n",
      "\n"
     ]
    }
   ],
   "source": [
    "feature_extractor = FeatureExtractor()\n",
    "x_train = feature_extractor.fit_transform(x_train, term_weighting='tf-idf', normalization='zero-mean')\n",
    "x_test = feature_extractor.transform(x_test)\n",
    "\n",
    "# model = PCA()\n",
    "# model.fit(x_train)"
   ]
  },
  {
   "cell_type": "code",
   "execution_count": 25,
   "id": "f80ba0cf",
   "metadata": {},
   "outputs": [
    {
     "data": {
      "text/plain": [
       "SVC()"
      ]
     },
     "execution_count": 25,
     "metadata": {},
     "output_type": "execute_result"
    }
   ],
   "source": [
    "#feature_extractor = FeatureExtractor()\n",
    "#x_train_data = feature_extractor.fit_transform(x_train, term_weighting='tf-idf')\n",
    "\n",
    "model_svm = svm.SVC()\n",
    "model_svm.fit(x_train, y_train)"
   ]
  },
  {
   "cell_type": "code",
   "execution_count": 28,
   "id": "b15ec5d8",
   "metadata": {},
   "outputs": [
    {
     "data": {
      "text/plain": [
       "1.0"
      ]
     },
     "execution_count": 28,
     "metadata": {},
     "output_type": "execute_result"
    }
   ],
   "source": [
    "precision_score(y_test, model_svm.predict(x_test))"
   ]
  },
  {
   "cell_type": "code",
   "execution_count": 30,
   "id": "0a7b48aa",
   "metadata": {},
   "outputs": [
    {
     "data": {
      "text/plain": [
       "0.9773356837068748"
      ]
     },
     "execution_count": 30,
     "metadata": {},
     "output_type": "execute_result"
    }
   ],
   "source": [
    "accuracy_score(y_test, model_svm.predict(x_test))"
   ]
  },
  {
   "cell_type": "code",
   "execution_count": 31,
   "id": "d60825aa",
   "metadata": {},
   "outputs": [
    {
     "data": {
      "text/plain": [
       "0.4267515923566879"
      ]
     },
     "execution_count": 31,
     "metadata": {},
     "output_type": "execute_result"
    }
   ],
   "source": [
    "recall_score(y_test, model_svm.predict(x_test))"
   ]
  },
  {
   "cell_type": "code",
   "execution_count": 32,
   "id": "94cd2a8d",
   "metadata": {
    "scrolled": true
   },
   "outputs": [
    {
     "data": {
      "text/plain": [
       "0.5982142857142857"
      ]
     },
     "execution_count": 32,
     "metadata": {},
     "output_type": "execute_result"
    }
   ],
   "source": [
    "f1_score(y_test, model_svm.predict(x_test))"
   ]
  },
  {
   "cell_type": "code",
   "execution_count": 42,
   "id": "9eaa9139",
   "metadata": {},
   "outputs": [],
   "source": [
    "from sklearn.tree import DecisionTreeClassifier"
   ]
  },
  {
   "cell_type": "code",
   "execution_count": 43,
   "id": "9c9263c6",
   "metadata": {},
   "outputs": [
    {
     "data": {
      "text/plain": [
       "DecisionTreeClassifier()"
      ]
     },
     "execution_count": 43,
     "metadata": {},
     "output_type": "execute_result"
    }
   ],
   "source": [
    "model = DecisionTreeClassifier()#DecisionTree()\n",
    "model.fit(x_train, y_train)"
   ]
  },
  {
   "cell_type": "code",
   "execution_count": 44,
   "id": "72730c02",
   "metadata": {},
   "outputs": [],
   "source": [
    "# from sklearn import tree\n",
    "# model_dt = DecisionTree()\n",
    "# model_dt.fit(x_train, y_train)"
   ]
  },
  {
   "cell_type": "code",
   "execution_count": 45,
   "id": "039c68a6",
   "metadata": {},
   "outputs": [
    {
     "data": {
      "text/plain": [
       "0.9852941176470589"
      ]
     },
     "execution_count": 45,
     "metadata": {},
     "output_type": "execute_result"
    }
   ],
   "source": [
    "precision_score(y_test, model.predict(x_test))"
   ]
  },
  {
   "cell_type": "code",
   "execution_count": 46,
   "id": "f5447c6c",
   "metadata": {},
   "outputs": [
    {
     "data": {
      "text/plain": [
       "0.9770838579702845"
      ]
     },
     "execution_count": 46,
     "metadata": {},
     "output_type": "execute_result"
    }
   ],
   "source": [
    "accuracy_score(y_test, model.predict(x_test))"
   ]
  },
  {
   "cell_type": "code",
   "execution_count": 47,
   "id": "e8cee169",
   "metadata": {},
   "outputs": [
    {
     "data": {
      "text/plain": [
       "0.4267515923566879"
      ]
     },
     "execution_count": 47,
     "metadata": {},
     "output_type": "execute_result"
    }
   ],
   "source": [
    "recall_score(y_test, model.predict(x_test))"
   ]
  },
  {
   "cell_type": "code",
   "execution_count": 48,
   "id": "31993e03",
   "metadata": {},
   "outputs": [
    {
     "data": {
      "text/plain": [
       "0.5955555555555555"
      ]
     },
     "execution_count": 48,
     "metadata": {},
     "output_type": "execute_result"
    }
   ],
   "source": [
    "f1_score(y_test, model.predict(x_test))"
   ]
  },
  {
   "cell_type": "markdown",
   "id": "7fab008a",
   "metadata": {},
   "source": [
    "-----------Построение графиков по DBSCAN and MeanShift для npz---------------"
   ]
  },
  {
   "cell_type": "code",
   "execution_count": 23,
   "id": "a8323fc1",
   "metadata": {},
   "outputs": [],
   "source": [
    "anomalii = x_test_new[np.where(y_test_data == 1)]"
   ]
  },
  {
   "cell_type": "code",
   "execution_count": 24,
   "id": "ef85f82b",
   "metadata": {},
   "outputs": [],
   "source": [
    "from sklearn.cluster import DBSCAN\n",
    "from sklearn.cluster import MeanShift\n",
    "\n",
    "from sklearn.manifold import TSNE\n",
    "from sklearn.decomposition import PCA"
   ]
  },
  {
   "cell_type": "code",
   "execution_count": 25,
   "id": "f6083b98",
   "metadata": {},
   "outputs": [],
   "source": [
    "clustering = DBSCAN(eps=3, min_samples=2).fit(anomalii)\n",
    "# clustering.labels_"
   ]
  },
  {
   "cell_type": "code",
   "execution_count": 26,
   "id": "adeb6de7",
   "metadata": {},
   "outputs": [],
   "source": [
    "clustering_msh = MeanShift(bandwidth=2).fit(anomalii)"
   ]
  },
  {
   "cell_type": "markdown",
   "id": "4efab69c",
   "metadata": {},
   "source": [
    "Использование TNSE and PCA"
   ]
  },
  {
   "cell_type": "code",
   "execution_count": 27,
   "id": "f8127448",
   "metadata": {},
   "outputs": [],
   "source": [
    "X_after_tsne = TSNE(n_components=2, random_state=15).fit_transform(anomalii)"
   ]
  },
  {
   "cell_type": "code",
   "execution_count": 28,
   "id": "7020905c",
   "metadata": {},
   "outputs": [],
   "source": [
    "X_after_pca = PCA(n_components=2, random_state=15).fit_transform(anomalii)"
   ]
  },
  {
   "cell_type": "markdown",
   "id": "21456d1d",
   "metadata": {},
   "source": [
    "Построение графиков DBSCAN and PCA"
   ]
  },
  {
   "cell_type": "code",
   "execution_count": 29,
   "id": "4e6ebfd7",
   "metadata": {},
   "outputs": [
    {
     "data": {
      "image/png": "[encoded data removed]",
      "text/plain": [
       "<Figure size 1600x1000 with 1 Axes>"
      ]
     },
     "metadata": {},
     "output_type": "display_data"
    }
   ],
   "source": [
    "plt.style.use('default')\n",
    "X_axis = []\n",
    "Y_axis = []\n",
    "for i in range(X_after_pca.shape[0]):\n",
    "    X_axis.append(X_after_pca[i][0])\n",
    "    Y_axis.append(X_after_pca[i][1])\n",
    "plt.figure(figsize=(16,10))\n",
    "plt.scatter(x=X_axis, y=Y_axis, c=clustering.labels_);"
   ]
  },
  {
   "cell_type": "markdown",
   "id": "76058016",
   "metadata": {},
   "source": [
    "ПОСТРОЕНИЕ ГРАФИКОВ MeanShift and TNSE"
   ]
  },
  {
   "cell_type": "code",
   "execution_count": 30,
   "id": "7c3d5d20",
   "metadata": {},
   "outputs": [
    {
     "data": {
      "image/png": "[encoded data removed]",
      "text/plain": [
       "<Figure size 1600x1000 with 1 Axes>"
      ]
     },
     "metadata": {},
     "output_type": "display_data"
    }
   ],
   "source": [
    "plt.style.use('default')\n",
    "X_axis = []\n",
    "Y_axis = []\n",
    "for i in range(X_after_tsne.shape[0]):\n",
    "    X_axis.append(X_after_tsne[i][0])\n",
    "    Y_axis.append(X_after_tsne[i][1])\n",
    "plt.figure(figsize=(16,10))\n",
    "plt.scatter(x=X_axis, y=Y_axis, c=clustering.labels_);"
   ]
  },
  {
   "cell_type": "code",
   "execution_count": 31,
   "id": "6bf09df8",
   "metadata": {},
   "outputs": [
    {
     "data": {
      "image/png": "[encoded data removed]",
      "text/plain": [
       "<Figure size 1600x1000 with 1 Axes>"
      ]
     },
     "metadata": {},
     "output_type": "display_data"
    }
   ],
   "source": [
    "plt.style.use('default')\n",
    "X_axis = []\n",
    "Y_axis = []\n",
    "for i in range(X_after_tsne.shape[0]):\n",
    "    X_axis.append(X_after_tsne[i][0])\n",
    "    Y_axis.append(X_after_tsne[i][1])\n",
    "plt.figure(figsize=(16,10))\n",
    "plt.scatter(x=X_axis, y=Y_axis, c=clustering_msh.labels_);"
   ]
  },
  {
   "cell_type": "code",
   "execution_count": null,
   "id": "05aa4d5c",
   "metadata": {},
   "outputs": [],
   "source": []
  },
  {
   "cell_type": "code",
   "execution_count": 75,
   "id": "b9e0d3ff",
   "metadata": {},
   "outputs": [],
   "source": [
    "# data_df = pd.DataFrame(model.predict(x_test))"
   ]
  },
  {
   "cell_type": "code",
   "execution_count": 76,
   "id": "8e19418c",
   "metadata": {},
   "outputs": [],
   "source": [
    "# data_df"
   ]
  },
  {
   "cell_type": "code",
   "execution_count": null,
   "id": "d1534807",
   "metadata": {},
   "outputs": [],
   "source": []
  },
  {
   "cell_type": "code",
   "execution_count": null,
   "id": "6f54793d",
   "metadata": {},
   "outputs": [],
   "source": []
  },
  {
   "cell_type": "markdown",
   "id": "66ca93df",
   "metadata": {},
   "source": [
    "Построение результирующих графиков"
   ]
  },
  {
   "cell_type": "code",
   "execution_count": null,
   "id": "d9f9c8b1",
   "metadata": {},
   "outputs": [],
   "source": [
    "df = pd.read_csv('HDFS_100k.log_structured.csv')"
   ]
  },
  {
   "cell_type": "code",
   "execution_count": null,
   "id": "6e2339db",
   "metadata": {},
   "outputs": [],
   "source": [
    "df.Content"
   ]
  },
  {
   "cell_type": "code",
   "execution_count": null,
   "id": "36e7c3af",
   "metadata": {},
   "outputs": [],
   "source": [
    "re.findall('blk_-\\d+', 'Receiving block blk_-1608999687919862906 src')"
   ]
  },
  {
   "cell_type": "code",
   "execution_count": null,
   "id": "6dad014c",
   "metadata": {},
   "outputs": [],
   "source": [
    "df.Content.apply(lambda x: re.findall('blk_.\\d+', x)[0])"
   ]
  },
  {
   "cell_type": "code",
   "execution_count": null,
   "id": "27a8e188",
   "metadata": {},
   "outputs": [],
   "source": [
    "result_df = pd.DataFrame([df.Date, df.Time, df.Content.apply(lambda x: re.findall('blk_.\\d+', x)[0]), df.EventId]).T"
   ]
  },
  {
   "cell_type": "code",
   "execution_count": null,
   "id": "5b7485d6",
   "metadata": {},
   "outputs": [],
   "source": [
    "labels_df = pd.read_csv('anomaly_label.csv')"
   ]
  },
  {
   "cell_type": "code",
   "execution_count": null,
   "id": "84f8c3d0",
   "metadata": {},
   "outputs": [],
   "source": [
    "labels_df.columns = ['Content', 'Label']"
   ]
  },
  {
   "cell_type": "code",
   "execution_count": null,
   "id": "68681360",
   "metadata": {},
   "outputs": [],
   "source": [
    "data = pd.merge(result_df, labels_df, on='Content')"
   ]
  },
  {
   "cell_type": "code",
   "execution_count": null,
   "id": "d905bba1",
   "metadata": {},
   "outputs": [],
   "source": [
    "data.drop('Date', axis=1, inplace=True)"
   ]
  },
  {
   "cell_type": "code",
   "execution_count": null,
   "id": "f189a196",
   "metadata": {},
   "outputs": [],
   "source": [
    "data.Time = data.Time - data.Time[0]"
   ]
  },
  {
   "cell_type": "code",
   "execution_count": 48,
   "id": "7b9661ce",
   "metadata": {},
   "outputs": [],
   "source": [
    "encod = {\n",
    "    'Normal' : 0,\n",
    "    'Anomaly': 1\n",
    "}"
   ]
  },
  {
   "cell_type": "code",
   "execution_count": 50,
   "id": "8260616a",
   "metadata": {},
   "outputs": [],
   "source": [
    "one_hot_labels = OneHotEncoder().fit_transform(data.Label.to_numpy().reshape(-1, 1))"
   ]
  },
  {
   "cell_type": "code",
   "execution_count": 51,
   "id": "d7e7ff3d",
   "metadata": {
    "scrolled": false
   },
   "outputs": [
    {
     "data": {
      "text/plain": [
       "array([[0., 1.],\n",
       "       [0., 1.],\n",
       "       [0., 1.],\n",
       "       ...,\n",
       "       [1., 0.],\n",
       "       [1., 0.],\n",
       "       [1., 0.]])"
      ]
     },
     "execution_count": 51,
     "metadata": {},
     "output_type": "execute_result"
    }
   ],
   "source": [
    "one_hot_labels.toarray()"
   ]
  },
  {
   "cell_type": "code",
   "execution_count": 52,
   "id": "4eaa6871",
   "metadata": {
    "scrolled": true
   },
   "outputs": [
    {
     "data": {
      "text/html": [
       "<div>\n",
       "<style scoped>\n",
       "    .dataframe tbody tr th:only-of-type {\n",
       "        vertical-align: middle;\n",
       "    }\n",
       "\n",
       "    .dataframe tbody tr th {\n",
       "        vertical-align: top;\n",
       "    }\n",
       "\n",
       "    .dataframe thead th {\n",
       "        text-align: right;\n",
       "    }\n",
       "</style>\n",
       "<table border=\"1\" class=\"dataframe\">\n",
       "  <thead>\n",
       "    <tr style=\"text-align: right;\">\n",
       "      <th></th>\n",
       "      <th>Time</th>\n",
       "      <th>Content</th>\n",
       "      <th>EventId</th>\n",
       "      <th>0</th>\n",
       "      <th>1</th>\n",
       "    </tr>\n",
       "  </thead>\n",
       "  <tbody>\n",
       "    <tr>\n",
       "      <th>0</th>\n",
       "      <td>0</td>\n",
       "      <td>blk_-1608999687919862906</td>\n",
       "      <td>E5</td>\n",
       "      <td>0.0</td>\n",
       "      <td>1.0</td>\n",
       "    </tr>\n",
       "    <tr>\n",
       "      <th>1</th>\n",
       "      <td>0</td>\n",
       "      <td>blk_-1608999687919862906</td>\n",
       "      <td>E22</td>\n",
       "      <td>0.0</td>\n",
       "      <td>1.0</td>\n",
       "    </tr>\n",
       "    <tr>\n",
       "      <th>2</th>\n",
       "      <td>1</td>\n",
       "      <td>blk_-1608999687919862906</td>\n",
       "      <td>E5</td>\n",
       "      <td>0.0</td>\n",
       "      <td>1.0</td>\n",
       "    </tr>\n",
       "    <tr>\n",
       "      <th>3</th>\n",
       "      <td>1</td>\n",
       "      <td>blk_-1608999687919862906</td>\n",
       "      <td>E5</td>\n",
       "      <td>0.0</td>\n",
       "      <td>1.0</td>\n",
       "    </tr>\n",
       "    <tr>\n",
       "      <th>4</th>\n",
       "      <td>1</td>\n",
       "      <td>blk_-1608999687919862906</td>\n",
       "      <td>E11</td>\n",
       "      <td>0.0</td>\n",
       "      <td>1.0</td>\n",
       "    </tr>\n",
       "    <tr>\n",
       "      <th>...</th>\n",
       "      <td>...</td>\n",
       "      <td>...</td>\n",
       "      <td>...</td>\n",
       "      <td>...</td>\n",
       "      <td>...</td>\n",
       "    </tr>\n",
       "    <tr>\n",
       "      <th>104810</th>\n",
       "      <td>1493</td>\n",
       "      <td>blk_8909107483987085802</td>\n",
       "      <td>E11</td>\n",
       "      <td>1.0</td>\n",
       "      <td>0.0</td>\n",
       "    </tr>\n",
       "    <tr>\n",
       "      <th>104811</th>\n",
       "      <td>1493</td>\n",
       "      <td>blk_8909107483987085802</td>\n",
       "      <td>E9</td>\n",
       "      <td>1.0</td>\n",
       "      <td>0.0</td>\n",
       "    </tr>\n",
       "    <tr>\n",
       "      <th>104812</th>\n",
       "      <td>1494</td>\n",
       "      <td>blk_8909107483987085802</td>\n",
       "      <td>E26</td>\n",
       "      <td>1.0</td>\n",
       "      <td>0.0</td>\n",
       "    </tr>\n",
       "    <tr>\n",
       "      <th>104813</th>\n",
       "      <td>1494</td>\n",
       "      <td>blk_8909107483987085802</td>\n",
       "      <td>E11</td>\n",
       "      <td>1.0</td>\n",
       "      <td>0.0</td>\n",
       "    </tr>\n",
       "    <tr>\n",
       "      <th>104814</th>\n",
       "      <td>1494</td>\n",
       "      <td>blk_8909107483987085802</td>\n",
       "      <td>E9</td>\n",
       "      <td>1.0</td>\n",
       "      <td>0.0</td>\n",
       "    </tr>\n",
       "  </tbody>\n",
       "</table>\n",
       "<p>104815 rows × 5 columns</p>\n",
       "</div>"
      ],
      "text/plain": [
       "        Time                   Content EventId    0    1\n",
       "0          0  blk_-1608999687919862906      E5  0.0  1.0\n",
       "1          0  blk_-1608999687919862906     E22  0.0  1.0\n",
       "2          1  blk_-1608999687919862906      E5  0.0  1.0\n",
       "3          1  blk_-1608999687919862906      E5  0.0  1.0\n",
       "4          1  blk_-1608999687919862906     E11  0.0  1.0\n",
       "...      ...                       ...     ...  ...  ...\n",
       "104810  1493   blk_8909107483987085802     E11  1.0  0.0\n",
       "104811  1493   blk_8909107483987085802      E9  1.0  0.0\n",
       "104812  1494   blk_8909107483987085802     E26  1.0  0.0\n",
       "104813  1494   blk_8909107483987085802     E11  1.0  0.0\n",
       "104814  1494   blk_8909107483987085802      E9  1.0  0.0\n",
       "\n",
       "[104815 rows x 5 columns]"
      ]
     },
     "execution_count": 52,
     "metadata": {},
     "output_type": "execute_result"
    }
   ],
   "source": [
    "data = pd.concat([data, pd.DataFrame(one_hot_labels.toarray())], axis=1)\n",
    "data.drop('Label', axis=1)"
   ]
  },
  {
   "cell_type": "code",
   "execution_count": 53,
   "id": "97ce3756",
   "metadata": {
    "scrolled": true
   },
   "outputs": [
    {
     "data": {
      "text/html": [
       "<div>\n",
       "<style scoped>\n",
       "    .dataframe tbody tr th:only-of-type {\n",
       "        vertical-align: middle;\n",
       "    }\n",
       "\n",
       "    .dataframe tbody tr th {\n",
       "        vertical-align: top;\n",
       "    }\n",
       "\n",
       "    .dataframe thead th {\n",
       "        text-align: right;\n",
       "    }\n",
       "</style>\n",
       "<table border=\"1\" class=\"dataframe\">\n",
       "  <thead>\n",
       "    <tr style=\"text-align: right;\">\n",
       "      <th></th>\n",
       "      <th>Time</th>\n",
       "      <th>Content</th>\n",
       "      <th>EventId</th>\n",
       "      <th>Label</th>\n",
       "      <th>0</th>\n",
       "      <th>1</th>\n",
       "    </tr>\n",
       "  </thead>\n",
       "  <tbody>\n",
       "    <tr>\n",
       "      <th>0</th>\n",
       "      <td>0</td>\n",
       "      <td>blk_-1608999687919862906</td>\n",
       "      <td>E5</td>\n",
       "      <td>Normal</td>\n",
       "      <td>0.0</td>\n",
       "      <td>1.0</td>\n",
       "    </tr>\n",
       "    <tr>\n",
       "      <th>1</th>\n",
       "      <td>0</td>\n",
       "      <td>blk_-1608999687919862906</td>\n",
       "      <td>E22</td>\n",
       "      <td>Normal</td>\n",
       "      <td>0.0</td>\n",
       "      <td>1.0</td>\n",
       "    </tr>\n",
       "    <tr>\n",
       "      <th>2</th>\n",
       "      <td>1</td>\n",
       "      <td>blk_-1608999687919862906</td>\n",
       "      <td>E5</td>\n",
       "      <td>Normal</td>\n",
       "      <td>0.0</td>\n",
       "      <td>1.0</td>\n",
       "    </tr>\n",
       "    <tr>\n",
       "      <th>3</th>\n",
       "      <td>1</td>\n",
       "      <td>blk_-1608999687919862906</td>\n",
       "      <td>E5</td>\n",
       "      <td>Normal</td>\n",
       "      <td>0.0</td>\n",
       "      <td>1.0</td>\n",
       "    </tr>\n",
       "    <tr>\n",
       "      <th>4</th>\n",
       "      <td>1</td>\n",
       "      <td>blk_-1608999687919862906</td>\n",
       "      <td>E11</td>\n",
       "      <td>Normal</td>\n",
       "      <td>0.0</td>\n",
       "      <td>1.0</td>\n",
       "    </tr>\n",
       "    <tr>\n",
       "      <th>...</th>\n",
       "      <td>...</td>\n",
       "      <td>...</td>\n",
       "      <td>...</td>\n",
       "      <td>...</td>\n",
       "      <td>...</td>\n",
       "      <td>...</td>\n",
       "    </tr>\n",
       "    <tr>\n",
       "      <th>104810</th>\n",
       "      <td>1493</td>\n",
       "      <td>blk_8909107483987085802</td>\n",
       "      <td>E11</td>\n",
       "      <td>Anomaly</td>\n",
       "      <td>1.0</td>\n",
       "      <td>0.0</td>\n",
       "    </tr>\n",
       "    <tr>\n",
       "      <th>104811</th>\n",
       "      <td>1493</td>\n",
       "      <td>blk_8909107483987085802</td>\n",
       "      <td>E9</td>\n",
       "      <td>Anomaly</td>\n",
       "      <td>1.0</td>\n",
       "      <td>0.0</td>\n",
       "    </tr>\n",
       "    <tr>\n",
       "      <th>104812</th>\n",
       "      <td>1494</td>\n",
       "      <td>blk_8909107483987085802</td>\n",
       "      <td>E26</td>\n",
       "      <td>Anomaly</td>\n",
       "      <td>1.0</td>\n",
       "      <td>0.0</td>\n",
       "    </tr>\n",
       "    <tr>\n",
       "      <th>104813</th>\n",
       "      <td>1494</td>\n",
       "      <td>blk_8909107483987085802</td>\n",
       "      <td>E11</td>\n",
       "      <td>Anomaly</td>\n",
       "      <td>1.0</td>\n",
       "      <td>0.0</td>\n",
       "    </tr>\n",
       "    <tr>\n",
       "      <th>104814</th>\n",
       "      <td>1494</td>\n",
       "      <td>blk_8909107483987085802</td>\n",
       "      <td>E9</td>\n",
       "      <td>Anomaly</td>\n",
       "      <td>1.0</td>\n",
       "      <td>0.0</td>\n",
       "    </tr>\n",
       "  </tbody>\n",
       "</table>\n",
       "<p>104815 rows × 6 columns</p>\n",
       "</div>"
      ],
      "text/plain": [
       "        Time                   Content EventId    Label    0    1\n",
       "0          0  blk_-1608999687919862906      E5   Normal  0.0  1.0\n",
       "1          0  blk_-1608999687919862906     E22   Normal  0.0  1.0\n",
       "2          1  blk_-1608999687919862906      E5   Normal  0.0  1.0\n",
       "3          1  blk_-1608999687919862906      E5   Normal  0.0  1.0\n",
       "4          1  blk_-1608999687919862906     E11   Normal  0.0  1.0\n",
       "...      ...                       ...     ...      ...  ...  ...\n",
       "104810  1493   blk_8909107483987085802     E11  Anomaly  1.0  0.0\n",
       "104811  1493   blk_8909107483987085802      E9  Anomaly  1.0  0.0\n",
       "104812  1494   blk_8909107483987085802     E26  Anomaly  1.0  0.0\n",
       "104813  1494   blk_8909107483987085802     E11  Anomaly  1.0  0.0\n",
       "104814  1494   blk_8909107483987085802      E9  Anomaly  1.0  0.0\n",
       "\n",
       "[104815 rows x 6 columns]"
      ]
     },
     "execution_count": 53,
     "metadata": {},
     "output_type": "execute_result"
    }
   ],
   "source": [
    "data"
   ]
  },
  {
   "cell_type": "code",
   "execution_count": 66,
   "id": "b9514a44",
   "metadata": {},
   "outputs": [
    {
     "data": {
      "text/plain": [
       "<AxesSubplot:xlabel='time', ylabel='кол-во'>"
      ]
     },
     "execution_count": 66,
     "metadata": {},
     "output_type": "execute_result"
    },
    {
     "data": {
      "text/plain": [
       "<Figure size 1152x576 with 0 Axes>"
      ]
     },
     "metadata": {},
     "output_type": "display_data"
    },
    {
     "data": {
      "image/png": "[encoded data removed]",
      "text/plain": [
       "<Figure size 1152x576 with 1 Axes>"
      ]
     },
     "metadata": {
      "needs_background": "light"
     },
     "output_type": "display_data"
    }
   ],
   "source": [
    "to_plot = data.groupby('Time', as_index=False).sum()\n",
    "to_plot.columns = ['time', 'norm', 'anom']\n",
    "plt.figure(figsize=(16,8))\n",
    "to_plot.plot(x='time',ylabel='кол-во', figsize=(16,8))"
   ]
  },
  {
   "cell_type": "code",
   "execution_count": 61,
   "id": "d5d02daf",
   "metadata": {},
   "outputs": [
    {
     "data": {
      "text/plain": [
       "<AxesSubplot:xlabel='time', ylabel='кол-во'>"
      ]
     },
     "execution_count": 61,
     "metadata": {},
     "output_type": "execute_result"
    },
    {
     "data": {
      "text/plain": [
       "<Figure size 1152x576 with 0 Axes>"
      ]
     },
     "metadata": {},
     "output_type": "display_data"
    },
    {
     "data": {
      "image/png": "[encoded data removed]",
      "text/plain": [
       "<Figure size 1152x576 with 1 Axes>"
      ]
     },
     "metadata": {
      "needs_background": "light"
     },
     "output_type": "display_data"
    }
   ],
   "source": [
    "to_plot['all'] = to_plot.norm + to_plot.anom\n",
    "\n",
    "to_plot_all = to_plot.drop(['norm', 'anom'], axis=1)\n",
    "\n",
    "plt.figure(figsize=(16,8))\n",
    "to_plot_all.plot(x='time',ylabel='кол-во', figsize=(16,8))"
   ]
  }
 ],
 "metadata": {
  "kernelspec": {
   "display_name": "Python 3 (ipykernel)",
   "language": "python",
   "name": "python3"
  },
  "language_info": {
   "codemirror_mode": {
    "name": "ipython",
    "version": 3
   },
   "file_extension": ".py",
   "mimetype": "text/x-python",
   "name": "python",
   "nbconvert_exporter": "python",
   "pygments_lexer": "ipython3",
   "version": "3.9.7"
  }
 },
 "nbformat": 4,
 "nbformat_minor": 5
}
